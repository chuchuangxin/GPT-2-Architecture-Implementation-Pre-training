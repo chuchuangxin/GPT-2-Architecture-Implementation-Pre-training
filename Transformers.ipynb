{
 "cells": [
  {
   "cell_type": "code",
   "execution_count": 1,
   "id": "b197111f3dd1d21d",
   "metadata": {
    "collapsed": false,
    "ExecuteTime": {
     "end_time": "2024-02-09T04:23:38.643505Z",
     "start_time": "2024-02-09T04:23:10.263131Z"
    }
   },
   "outputs": [],
   "source": [
    "import os\n",
    "import requests\n",
    "import pandas as pd\n",
    "import matplotlib.pyplot as plt\n",
    "import math\n",
    "import tiktoken\n",
    "import torch\n",
    "import torch.nn as nn"
   ]
  },
  {
   "cell_type": "code",
   "outputs": [
    {
     "data": {
      "text/plain": "'\\nThis notebook is to illustrate the Transformer architecture.\\nSteps are followed by my article post: \\nhttps://waylandzhang.github.io/en/let-s-code-llm.html\\n'"
     },
     "execution_count": 2,
     "metadata": {},
     "output_type": "execute_result"
    }
   ],
   "source": [
    "\"\"\"\n",
    "Transformer architecture.\n",
    "\"\"\""
   ],
   "metadata": {
    "collapsed": false,
    "ExecuteTime": {
     "end_time": "2024-02-09T04:23:49.123240Z",
     "start_time": "2024-02-09T04:23:49.078938Z"
    }
   },
   "id": "220167a759cf381c",
   "execution_count": 2
  },
  {
   "cell_type": "code",
   "outputs": [
    {
     "data": {
      "text/plain": "<torch._C.Generator at 0x2187f3bce10>"
     },
     "execution_count": 3,
     "metadata": {},
     "output_type": "execute_result"
    }
   ],
   "source": [
    "# Hyperparameters\n",
    "batch_size = 4  # How many batches per training step\n",
    "context_length = 16  # Length of the token chunk each batch\n",
    "d_model = 64  # The vector size of the token embeddings\n",
    "num_layers = 8  # Number of transformer blocks\n",
    "num_heads = 4  # Number of heads in Multi-head attention # 我们的代码中通过 d_model / num_heads = 来获取 head_size\n",
    "learning_rate = 1e-3  # 0.001\n",
    "dropout = 0.1 # Dropout rate\n",
    "max_iters = 500  # Total of training iterations\n",
    "eval_interval = 50  # How often to evaluate the model \n",
    "eval_iters = 20  # How many iterations to average the loss over when evaluating the model\n",
    "device = 'cuda' if torch.cuda.is_available() else 'cpu'  # Instead of using the cpu, we'll use the GPU if it's available.\n",
    "\n",
    "TORCH_SEED = 1337\n",
    "torch.manual_seed(TORCH_SEED)"
   ],
   "metadata": {
    "collapsed": false,
    "ExecuteTime": {
     "end_time": "2024-02-09T04:23:51.966821Z",
     "start_time": "2024-02-09T04:23:51.948834Z"
    }
   },
   "id": "adec81e8b065abf4",
   "execution_count": 3
  },
  {
   "cell_type": "code",
   "outputs": [],
   "source": [
    "# download a sample txt file from https://huggingface.co/datasets/goendalf666/sales-textbook_for_convincing_and_selling/raw/main/sales_textbook.txt\n",
    "if not os.path.exists('data/sales_textbook.txt'):\n",
    "    url = 'https://huggingface.co/datasets/goendalf666/sales-textbook_for_convincing_and_selling/raw/main/sales_textbook.txt'\n",
    "    with open('sales_textbook.txt', 'w') as f:\n",
    "        f.write(requests.get(url).text)\n",
    "\n",
    "with open('data/sales_textbook.txt', 'r', encoding='utf-8') as f:\n",
    "    text = f.read()\n",
    "    "
   ],
   "metadata": {
    "collapsed": true,
    "ExecuteTime": {
     "end_time": "2024-02-09T04:23:53.539657Z",
     "start_time": "2024-02-09T04:23:53.516333Z"
    }
   },
   "id": "initial_id",
   "execution_count": 6
  },
  {
   "cell_type": "code",
   "outputs": [
    {
     "name": "stdout",
     "output_type": "stream",
     "text": [
      "0        26072\n",
      "1          220\n",
      "2           16\n",
      "3           25\n",
      "4        17283\n",
      "         ...  \n",
      "77914      279\n",
      "77915     1989\n",
      "77916      315\n",
      "77917    15676\n",
      "77918       13\n",
      "Length: 77919, dtype: int64\n",
      "Tokenized text size: 77919\n",
      "The maximum value in the tokenized text is: 100069\n"
     ]
    }
   ],
   "source": [
    "# Using TikToken to tokenize the source text\n",
    "encoding = tiktoken.get_encoding(\"cl100k_base\")\n",
    "tokenized_text = encoding.encode(text)\n",
    "tokenized_text = torch.tensor(tokenized_text, dtype=torch.long, device=device) # Convert tokens into a tensor\n",
    "max_token_value = tokenized_text.max().item() # the maximum index value in our vocabulary\n",
    "\n",
    "\n",
    "aaa = pd.Series(tokenized_text)\n",
    "print(aaa)\n",
    "\n",
    "\n",
    "print(f\"Tokenized text size: {len(tokenized_text)}\")\n",
    "print(f\"The maximum value in the tokenized text is: {max_token_value}\")"
   ],
   "metadata": {
    "collapsed": false,
    "ExecuteTime": {
     "end_time": "2024-02-09T04:24:44.270382Z",
     "start_time": "2024-02-09T04:24:44.140668Z"
    }
   },
   "id": "d8eb984bfcb7a06b",
   "execution_count": 11
  },
  {
   "cell_type": "code",
   "outputs": [
    {
     "name": "stdout",
     "output_type": "stream",
     "text": [
      "[26072, 220, 16, 25, 17283, 23097, 403, 323, 17013, 1711]\n",
      "Chapter 1: Building Rapport and Capturing\n",
      ".\n",
      "By mastering the art of identifying underlying motivations and desires, we equip ourselves with\n"
     ]
    }
   ],
   "source": [
    "# Illustration purpose\n",
    "print(encoding.encode('Chapter 1: Building Rapport and Capturing'))\n",
    "print(encoding.decode([26072, 220, 16, 25, 17283, 23097, 403, 323, 17013, 1711])) # \"Rapport\" is tokenized as two tokens: \"Rap\"[23097] and \"port\"[403]\n",
    "print(encoding.decode([627, 1383, 88861, 279,1989, 315, 25607, 16940, 65931, 323, 32097, 11, 584, 26458, 13520, 449]))"
   ],
   "metadata": {
    "collapsed": false,
    "ExecuteTime": {
     "end_time": "2024-02-09T04:24:50.051282Z",
     "start_time": "2024-02-09T04:24:50.032966Z"
    }
   },
   "id": "a1453076ae7f2e3",
   "execution_count": 7
  },
  {
   "cell_type": "code",
   "outputs": [
    {
     "name": "stdout",
     "output_type": "stream",
     "text": [
      "0        26072\n",
      "1          220\n",
      "2           16\n",
      "3           25\n",
      "4        17283\n",
      "         ...  \n",
      "70122      719\n",
      "70123     1101\n",
      "70124     1501\n",
      "70125    48451\n",
      "70126     7119\n",
      "Length: 70127, dtype: int64\n"
     ]
    }
   ],
   "source": [
    "# Split train and validation\n",
    "split_idx = int(len(tokenized_text) * 0.9)\n",
    "train_data = tokenized_text[:split_idx]\n",
    "val_data = tokenized_text[split_idx:]\n",
    "\n",
    "train_series = pd.Series(train_data)\n",
    "print(train_series)"
   ],
   "metadata": {
    "collapsed": false,
    "ExecuteTime": {
     "end_time": "2024-02-09T04:24:52.889469Z",
     "start_time": "2024-02-09T04:24:52.878327Z"
    }
   },
   "id": "1bd965d977d210d8",
   "execution_count": 10
  },
  {
   "cell_type": "code",
   "outputs": [
    {
     "name": "stdout",
     "output_type": "stream",
     "text": [
      "torch.Size([4, 16]) torch.Size([4, 16])\n",
      "      0     1      2      3      4      5      6      7      8      9     10  \\\n",
      "0  27848  7720    323  12974  20124     11    279   6763   9164    649  1893   \n",
      "1   3118   459   6776    369   6763  15749    311  35883    872  19248   323   \n",
      "2  10209  6029     11   2587   4954    279   6425     11    323    312  2058   \n",
      "3  46551   279  94100    315  63120     12  57022   7278  66044    512  1271   \n",
      "\n",
      "     11     12     13     14     15  \n",
      "0   264   5647    315  20632    323  \n",
      "1  2686  10742  13750    627  67834  \n",
      "2  1113    279    907     11   6763  \n",
      "3  9615  25555    304   6763     11  \n"
     ]
    }
   ],
   "source": [
    "# Prepare data for training batch\n",
    "data = train_data\n",
    "\n",
    "#  torch.randint(low, high, size) 生成 size 个 随机整数，范围是 [low, high)\n",
    "# idxs是位置 是索引\n",
    "idxs = torch.randint(low=0, high=len(data) - context_length, size=(batch_size,))\n",
    "\n",
    "# torch.stack([...]) 将这些样本堆叠成一个 二维张量 (batch_size, context_length)，用于输入模型训练。\n",
    "# 作用： 生成 batch_size 个 长度为 context_length 的输入序列，构成 x_batch。\n",
    "x_batch = torch.stack([data[idx:idx + context_length] for idx in idxs])\n",
    "y_batch = torch.stack([data[idx + 1:idx + context_length + 1] for idx in idxs])\n",
    "\n",
    "\n",
    "print(x_batch.shape, x_batch.shape)\n",
    "\n",
    "# x_batch 是一个 torch.Tensor\n",
    "x_batch_df = pd.DataFrame(x_batch.numpy())  # 先转换为 NumPy 数组\n",
    "print(x_batch_df)"
   ],
   "metadata": {
    "collapsed": false,
    "ExecuteTime": {
     "end_time": "2024-02-09T04:25:08.155569Z",
     "start_time": "2024-02-09T04:25:08.138702Z"
    }
   },
   "id": "dd4d699c1f25bbe6",
   "execution_count": 12
  },
  {
   "cell_type": "code",
   "outputs": [
    {
     "name": "stdout",
     "output_type": "stream",
     "text": [
      "Our batches:\n",
      "       0      1     2      3     4      5      6      7      8      9    10     11     12     13     14     15\n",
      "0    279   6763  1920     13   578   5845    311  13750  19570    279  907    323   7720    315   1057   3956\n",
      "1   3495  14955    11    477  5064  23146    430   9788    279  66732  315    701  10209     13   3296  32644\n",
      "2  38769  10742    11  20958   264   6928  19451     11  11125  64784   11    323  56501  54111    439   6975\n",
      "3  43496    872  8830    719  1101   3727    279   6130   2733   6755  323  16365    627  29831  19682   5900\n"
     ]
    }
   ],
   "source": [
    "# Illustration purpose\n",
    "pd.set_option('display.expand_frame_repr', False)\n",
    "print(\"Our batches:\\n\", pd.DataFrame(x_batch.data.detach().cpu().numpy()))"
   ],
   "metadata": {
    "collapsed": false,
    "ExecuteTime": {
     "end_time": "2024-02-09T04:25:43.766159Z",
     "start_time": "2024-02-09T04:25:43.748077Z"
    }
   },
   "id": "e96ee8f724daac71",
   "execution_count": 11
  },
  {
   "cell_type": "code",
   "outputs": [
    {
     "name": "stdout",
     "output_type": "stream",
     "text": [
      "Token Embedding Look-up table:  Embedding(100070, 64)\n"
     ]
    }
   ],
   "source": [
    "# Define Token Embedding look-up table\n",
    "# 对于全文每一个Token构建64维度的词向量 (100070, 64)\n",
    "token_embedding_lookup_table = nn.Embedding(max_token_value+1, d_model)\n",
    "print(\"Token Embedding Look-up table: \", token_embedding_lookup_table)\n"
   ],
   "metadata": {
    "collapsed": false,
    "ExecuteTime": {
     "end_time": "2024-02-09T04:25:48.830907Z",
     "start_time": "2024-02-09T04:25:48.749815Z"
    }
   },
   "id": "5ade5a79e8c689ef",
   "execution_count": 17
  },
  {
   "cell_type": "code",
   "outputs": [
    {
     "data": {
      "text/plain": "(torch.Size([4, 16, 64]), torch.Size([4, 16, 64]))"
     },
     "execution_count": 18,
     "metadata": {},
     "output_type": "execute_result"
    }
   ],
   "source": [
    "# Get x and y embedding\n",
    "# 根据全文词向量对照 找到每一批次的数据的16个词的64维度词向量\n",
    "x_batch_embedding = token_embedding_lookup_table(x_batch.data) # [4, 16, 64] [batch_size, context_length, d_model]\n",
    "y_batch_embedding = token_embedding_lookup_table(y_batch.data)\n",
    "\n",
    "x_batch_embedding.shape, y_batch_embedding.shape"
   ],
   "metadata": {
    "collapsed": false,
    "ExecuteTime": {
     "end_time": "2024-02-09T04:25:54.090804Z",
     "start_time": "2024-02-09T04:25:54.057773Z"
    }
   },
   "id": "86aa314dc5f6a76e",
   "execution_count": 18
  },
  {
   "cell_type": "code",
   "outputs": [
    {
     "name": "stdout",
     "output_type": "stream",
     "text": [
      "Position Encoding Look-up Table:  torch.Size([4, 16, 64])\n"
     ]
    },
    {
     "data": {
      "text/plain": "          0         1         2         3         4         5         6   \\\n0   0.000000  1.000000  0.000000  1.000000  0.000000  1.000000  0.000000   \n1   0.841471  0.540302  0.681561  0.731761  0.533168  0.846009  0.409309   \n2   0.909297 -0.416147  0.997480  0.070948  0.902131  0.431463  0.746903   \n3   0.141120 -0.989992  0.778273 -0.627927  0.993253 -0.115966  0.953634   \n4  -0.756802 -0.653644  0.141539 -0.989933  0.778472 -0.627680  0.993281   \n5  -0.958924  0.283662 -0.571127 -0.820862  0.323935 -0.946079  0.858896   \n6  -0.279415  0.960170 -0.977396 -0.211416 -0.230368 -0.973104  0.574026   \n7   0.656987  0.753902 -0.859313  0.511449 -0.713721 -0.700430  0.188581   \n8   0.989358 -0.145500 -0.280228  0.959933 -0.977262 -0.212036 -0.229904   \n9   0.412118 -0.911130  0.449194  0.893434 -0.939824  0.341660 -0.608108   \n10 -0.544021 -0.839072  0.937633  0.347628 -0.612937  0.790132 -0.879767   \n11 -0.999990  0.004426  0.923052 -0.384674 -0.097276  0.995257 -0.997283   \n12 -0.536573  0.843854  0.413275 -0.910606  0.448343  0.893862 -0.940067   \n13  0.420167  0.907447 -0.318216 -0.948018  0.855881  0.517173 -0.718144   \n14  0.990607  0.136737 -0.878990 -0.476839  0.999823 -0.018796 -0.370395   \n15  0.650288 -0.759688 -0.968206  0.250154  0.835838 -0.548975  0.042249   \n\n          7         8         9   ...        54        55        56        57  \\\n0   1.000000  0.000000  1.000000  ...  0.000000  1.000000  0.000000  1.000000   \n1   0.912396  0.310984  0.950415  ...  0.000422  1.000000  0.000316  1.000000   \n2   0.664932  0.591127  0.806578  ...  0.000843  1.000000  0.000632  1.000000   \n3   0.300967  0.812649  0.582754  ...  0.001265  0.999999  0.000949  1.000000   \n4  -0.115730  0.953581  0.301137  ...  0.001687  0.999999  0.001265  0.999999   \n5  -0.512150  0.999947 -0.010342  ...  0.002108  0.999998  0.001581  0.999999   \n6  -0.818837  0.947148 -0.320796  ...  0.002530  0.999997  0.001897  0.999998   \n7  -0.982058  0.800422 -0.599437  ...  0.002952  0.999996  0.002214  0.999998   \n8  -0.973213  0.574318 -0.818632  ...  0.003374  0.999994  0.002530  0.999997   \n9  -0.793854  0.291259 -0.956644  ...  0.003795  0.999993  0.002846  0.999996   \n10 -0.475405 -0.020684 -0.999786  ...  0.004217  0.999991  0.003162  0.999995   \n11 -0.073661 -0.330575 -0.943780  ...  0.004639  0.999989  0.003478  0.999994   \n12  0.340989 -0.607683 -0.794179  ...  0.005060  0.999987  0.003795  0.999993   \n13  0.695895 -0.824528 -0.565821  ...  0.005482  0.999985  0.004111  0.999992   \n14  0.928874 -0.959605 -0.281349  ...  0.005904  0.999983  0.004427  0.999990   \n15  0.999107 -0.999519  0.031022  ...  0.006325  0.999980  0.004743  0.999989   \n\n          58        59        60        61        62        63  \n0   0.000000  1.000000  0.000000  1.000000  0.000000  1.000000  \n1   0.000237  1.000000  0.000178  1.000000  0.000133  1.000000  \n2   0.000474  1.000000  0.000356  1.000000  0.000267  1.000000  \n3   0.000711  1.000000  0.000533  1.000000  0.000400  1.000000  \n4   0.000949  1.000000  0.000711  1.000000  0.000533  1.000000  \n5   0.001186  0.999999  0.000889  1.000000  0.000667  1.000000  \n6   0.001423  0.999999  0.001067  0.999999  0.000800  1.000000  \n7   0.001660  0.999999  0.001245  0.999999  0.000933  1.000000  \n8   0.001897  0.999998  0.001423  0.999999  0.001067  0.999999  \n9   0.002134  0.999998  0.001600  0.999999  0.001200  0.999999  \n10  0.002371  0.999997  0.001778  0.999998  0.001334  0.999999  \n11  0.002609  0.999997  0.001956  0.999998  0.001467  0.999999  \n12  0.002846  0.999996  0.002134  0.999998  0.001600  0.999999  \n13  0.003083  0.999995  0.002312  0.999997  0.001734  0.999999  \n14  0.003320  0.999995  0.002490  0.999997  0.001867  0.999998  \n15  0.003557  0.999994  0.002667  0.999996  0.002000  0.999998  \n\n[16 rows x 64 columns]",
      "text/html": "<div>\n<style scoped>\n    .dataframe tbody tr th:only-of-type {\n        vertical-align: middle;\n    }\n\n    .dataframe tbody tr th {\n        vertical-align: top;\n    }\n\n    .dataframe thead th {\n        text-align: right;\n    }\n</style>\n<table border=\"1\" class=\"dataframe\">\n  <thead>\n    <tr style=\"text-align: right;\">\n      <th></th>\n      <th>0</th>\n      <th>1</th>\n      <th>2</th>\n      <th>3</th>\n      <th>4</th>\n      <th>5</th>\n      <th>6</th>\n      <th>7</th>\n      <th>8</th>\n      <th>9</th>\n      <th>...</th>\n      <th>54</th>\n      <th>55</th>\n      <th>56</th>\n      <th>57</th>\n      <th>58</th>\n      <th>59</th>\n      <th>60</th>\n      <th>61</th>\n      <th>62</th>\n      <th>63</th>\n    </tr>\n  </thead>\n  <tbody>\n    <tr>\n      <th>0</th>\n      <td>0.000000</td>\n      <td>1.000000</td>\n      <td>0.000000</td>\n      <td>1.000000</td>\n      <td>0.000000</td>\n      <td>1.000000</td>\n      <td>0.000000</td>\n      <td>1.000000</td>\n      <td>0.000000</td>\n      <td>1.000000</td>\n      <td>...</td>\n      <td>0.000000</td>\n      <td>1.000000</td>\n      <td>0.000000</td>\n      <td>1.000000</td>\n      <td>0.000000</td>\n      <td>1.000000</td>\n      <td>0.000000</td>\n      <td>1.000000</td>\n      <td>0.000000</td>\n      <td>1.000000</td>\n    </tr>\n    <tr>\n      <th>1</th>\n      <td>0.841471</td>\n      <td>0.540302</td>\n      <td>0.681561</td>\n      <td>0.731761</td>\n      <td>0.533168</td>\n      <td>0.846009</td>\n      <td>0.409309</td>\n      <td>0.912396</td>\n      <td>0.310984</td>\n      <td>0.950415</td>\n      <td>...</td>\n      <td>0.000422</td>\n      <td>1.000000</td>\n      <td>0.000316</td>\n      <td>1.000000</td>\n      <td>0.000237</td>\n      <td>1.000000</td>\n      <td>0.000178</td>\n      <td>1.000000</td>\n      <td>0.000133</td>\n      <td>1.000000</td>\n    </tr>\n    <tr>\n      <th>2</th>\n      <td>0.909297</td>\n      <td>-0.416147</td>\n      <td>0.997480</td>\n      <td>0.070948</td>\n      <td>0.902131</td>\n      <td>0.431463</td>\n      <td>0.746903</td>\n      <td>0.664932</td>\n      <td>0.591127</td>\n      <td>0.806578</td>\n      <td>...</td>\n      <td>0.000843</td>\n      <td>1.000000</td>\n      <td>0.000632</td>\n      <td>1.000000</td>\n      <td>0.000474</td>\n      <td>1.000000</td>\n      <td>0.000356</td>\n      <td>1.000000</td>\n      <td>0.000267</td>\n      <td>1.000000</td>\n    </tr>\n    <tr>\n      <th>3</th>\n      <td>0.141120</td>\n      <td>-0.989992</td>\n      <td>0.778273</td>\n      <td>-0.627927</td>\n      <td>0.993253</td>\n      <td>-0.115966</td>\n      <td>0.953634</td>\n      <td>0.300967</td>\n      <td>0.812649</td>\n      <td>0.582754</td>\n      <td>...</td>\n      <td>0.001265</td>\n      <td>0.999999</td>\n      <td>0.000949</td>\n      <td>1.000000</td>\n      <td>0.000711</td>\n      <td>1.000000</td>\n      <td>0.000533</td>\n      <td>1.000000</td>\n      <td>0.000400</td>\n      <td>1.000000</td>\n    </tr>\n    <tr>\n      <th>4</th>\n      <td>-0.756802</td>\n      <td>-0.653644</td>\n      <td>0.141539</td>\n      <td>-0.989933</td>\n      <td>0.778472</td>\n      <td>-0.627680</td>\n      <td>0.993281</td>\n      <td>-0.115730</td>\n      <td>0.953581</td>\n      <td>0.301137</td>\n      <td>...</td>\n      <td>0.001687</td>\n      <td>0.999999</td>\n      <td>0.001265</td>\n      <td>0.999999</td>\n      <td>0.000949</td>\n      <td>1.000000</td>\n      <td>0.000711</td>\n      <td>1.000000</td>\n      <td>0.000533</td>\n      <td>1.000000</td>\n    </tr>\n    <tr>\n      <th>5</th>\n      <td>-0.958924</td>\n      <td>0.283662</td>\n      <td>-0.571127</td>\n      <td>-0.820862</td>\n      <td>0.323935</td>\n      <td>-0.946079</td>\n      <td>0.858896</td>\n      <td>-0.512150</td>\n      <td>0.999947</td>\n      <td>-0.010342</td>\n      <td>...</td>\n      <td>0.002108</td>\n      <td>0.999998</td>\n      <td>0.001581</td>\n      <td>0.999999</td>\n      <td>0.001186</td>\n      <td>0.999999</td>\n      <td>0.000889</td>\n      <td>1.000000</td>\n      <td>0.000667</td>\n      <td>1.000000</td>\n    </tr>\n    <tr>\n      <th>6</th>\n      <td>-0.279415</td>\n      <td>0.960170</td>\n      <td>-0.977396</td>\n      <td>-0.211416</td>\n      <td>-0.230368</td>\n      <td>-0.973104</td>\n      <td>0.574026</td>\n      <td>-0.818837</td>\n      <td>0.947148</td>\n      <td>-0.320796</td>\n      <td>...</td>\n      <td>0.002530</td>\n      <td>0.999997</td>\n      <td>0.001897</td>\n      <td>0.999998</td>\n      <td>0.001423</td>\n      <td>0.999999</td>\n      <td>0.001067</td>\n      <td>0.999999</td>\n      <td>0.000800</td>\n      <td>1.000000</td>\n    </tr>\n    <tr>\n      <th>7</th>\n      <td>0.656987</td>\n      <td>0.753902</td>\n      <td>-0.859313</td>\n      <td>0.511449</td>\n      <td>-0.713721</td>\n      <td>-0.700430</td>\n      <td>0.188581</td>\n      <td>-0.982058</td>\n      <td>0.800422</td>\n      <td>-0.599437</td>\n      <td>...</td>\n      <td>0.002952</td>\n      <td>0.999996</td>\n      <td>0.002214</td>\n      <td>0.999998</td>\n      <td>0.001660</td>\n      <td>0.999999</td>\n      <td>0.001245</td>\n      <td>0.999999</td>\n      <td>0.000933</td>\n      <td>1.000000</td>\n    </tr>\n    <tr>\n      <th>8</th>\n      <td>0.989358</td>\n      <td>-0.145500</td>\n      <td>-0.280228</td>\n      <td>0.959933</td>\n      <td>-0.977262</td>\n      <td>-0.212036</td>\n      <td>-0.229904</td>\n      <td>-0.973213</td>\n      <td>0.574318</td>\n      <td>-0.818632</td>\n      <td>...</td>\n      <td>0.003374</td>\n      <td>0.999994</td>\n      <td>0.002530</td>\n      <td>0.999997</td>\n      <td>0.001897</td>\n      <td>0.999998</td>\n      <td>0.001423</td>\n      <td>0.999999</td>\n      <td>0.001067</td>\n      <td>0.999999</td>\n    </tr>\n    <tr>\n      <th>9</th>\n      <td>0.412118</td>\n      <td>-0.911130</td>\n      <td>0.449194</td>\n      <td>0.893434</td>\n      <td>-0.939824</td>\n      <td>0.341660</td>\n      <td>-0.608108</td>\n      <td>-0.793854</td>\n      <td>0.291259</td>\n      <td>-0.956644</td>\n      <td>...</td>\n      <td>0.003795</td>\n      <td>0.999993</td>\n      <td>0.002846</td>\n      <td>0.999996</td>\n      <td>0.002134</td>\n      <td>0.999998</td>\n      <td>0.001600</td>\n      <td>0.999999</td>\n      <td>0.001200</td>\n      <td>0.999999</td>\n    </tr>\n    <tr>\n      <th>10</th>\n      <td>-0.544021</td>\n      <td>-0.839072</td>\n      <td>0.937633</td>\n      <td>0.347628</td>\n      <td>-0.612937</td>\n      <td>0.790132</td>\n      <td>-0.879767</td>\n      <td>-0.475405</td>\n      <td>-0.020684</td>\n      <td>-0.999786</td>\n      <td>...</td>\n      <td>0.004217</td>\n      <td>0.999991</td>\n      <td>0.003162</td>\n      <td>0.999995</td>\n      <td>0.002371</td>\n      <td>0.999997</td>\n      <td>0.001778</td>\n      <td>0.999998</td>\n      <td>0.001334</td>\n      <td>0.999999</td>\n    </tr>\n    <tr>\n      <th>11</th>\n      <td>-0.999990</td>\n      <td>0.004426</td>\n      <td>0.923052</td>\n      <td>-0.384674</td>\n      <td>-0.097276</td>\n      <td>0.995257</td>\n      <td>-0.997283</td>\n      <td>-0.073661</td>\n      <td>-0.330575</td>\n      <td>-0.943780</td>\n      <td>...</td>\n      <td>0.004639</td>\n      <td>0.999989</td>\n      <td>0.003478</td>\n      <td>0.999994</td>\n      <td>0.002609</td>\n      <td>0.999997</td>\n      <td>0.001956</td>\n      <td>0.999998</td>\n      <td>0.001467</td>\n      <td>0.999999</td>\n    </tr>\n    <tr>\n      <th>12</th>\n      <td>-0.536573</td>\n      <td>0.843854</td>\n      <td>0.413275</td>\n      <td>-0.910606</td>\n      <td>0.448343</td>\n      <td>0.893862</td>\n      <td>-0.940067</td>\n      <td>0.340989</td>\n      <td>-0.607683</td>\n      <td>-0.794179</td>\n      <td>...</td>\n      <td>0.005060</td>\n      <td>0.999987</td>\n      <td>0.003795</td>\n      <td>0.999993</td>\n      <td>0.002846</td>\n      <td>0.999996</td>\n      <td>0.002134</td>\n      <td>0.999998</td>\n      <td>0.001600</td>\n      <td>0.999999</td>\n    </tr>\n    <tr>\n      <th>13</th>\n      <td>0.420167</td>\n      <td>0.907447</td>\n      <td>-0.318216</td>\n      <td>-0.948018</td>\n      <td>0.855881</td>\n      <td>0.517173</td>\n      <td>-0.718144</td>\n      <td>0.695895</td>\n      <td>-0.824528</td>\n      <td>-0.565821</td>\n      <td>...</td>\n      <td>0.005482</td>\n      <td>0.999985</td>\n      <td>0.004111</td>\n      <td>0.999992</td>\n      <td>0.003083</td>\n      <td>0.999995</td>\n      <td>0.002312</td>\n      <td>0.999997</td>\n      <td>0.001734</td>\n      <td>0.999999</td>\n    </tr>\n    <tr>\n      <th>14</th>\n      <td>0.990607</td>\n      <td>0.136737</td>\n      <td>-0.878990</td>\n      <td>-0.476839</td>\n      <td>0.999823</td>\n      <td>-0.018796</td>\n      <td>-0.370395</td>\n      <td>0.928874</td>\n      <td>-0.959605</td>\n      <td>-0.281349</td>\n      <td>...</td>\n      <td>0.005904</td>\n      <td>0.999983</td>\n      <td>0.004427</td>\n      <td>0.999990</td>\n      <td>0.003320</td>\n      <td>0.999995</td>\n      <td>0.002490</td>\n      <td>0.999997</td>\n      <td>0.001867</td>\n      <td>0.999998</td>\n    </tr>\n    <tr>\n      <th>15</th>\n      <td>0.650288</td>\n      <td>-0.759688</td>\n      <td>-0.968206</td>\n      <td>0.250154</td>\n      <td>0.835838</td>\n      <td>-0.548975</td>\n      <td>0.042249</td>\n      <td>0.999107</td>\n      <td>-0.999519</td>\n      <td>0.031022</td>\n      <td>...</td>\n      <td>0.006325</td>\n      <td>0.999980</td>\n      <td>0.004743</td>\n      <td>0.999989</td>\n      <td>0.003557</td>\n      <td>0.999994</td>\n      <td>0.002667</td>\n      <td>0.999996</td>\n      <td>0.002000</td>\n      <td>0.999998</td>\n    </tr>\n  </tbody>\n</table>\n<p>16 rows × 64 columns</p>\n</div>"
     },
     "execution_count": 19,
     "metadata": {},
     "output_type": "execute_result"
    }
   ],
   "source": [
    "# Define Position Encoding look-up table\n",
    "# 位置编码只是每一个batch里16个token的位置，而不是全文都需要\n",
    "position_encoding_lookup_table = torch.zeros(context_length, d_model)\n",
    "position = torch.arange(0, context_length, dtype=torch.float).unsqueeze(1)\n",
    "div_term = torch.exp(torch.arange(0, d_model, 2).float() * (-math.log(10000.0) / d_model))\n",
    "position_encoding_lookup_table[:, 0::2] = torch.sin(position * div_term)\n",
    "position_encoding_lookup_table[:, 1::2] = torch.cos(position * div_term)\n",
    "position_encoding_lookup_table = position_encoding_lookup_table.unsqueeze(0).expand(batch_size, -1, -1) #add batch dimension\n",
    "\n",
    "print(\"Position Encoding Look-up Table: \", position_encoding_lookup_table.shape) # [4, 16, 64] [batch_size, context_length, d_model]\n",
    "pd.DataFrame(position_encoding_lookup_table[0].detach().cpu().numpy())"
   ],
   "metadata": {
    "collapsed": false,
    "ExecuteTime": {
     "end_time": "2024-02-09T04:26:57.181192Z",
     "start_time": "2024-02-09T04:26:57.135243Z"
    }
   },
   "id": "17f145bd89a13b23",
   "execution_count": 19
  },
  {
   "cell_type": "code",
   "outputs": [
    {
     "data": {
      "text/plain": "<Figure size 640x480 with 2 Axes>",
      "image/png": "[encoded data removed]"
     },
     "metadata": {},
     "output_type": "display_data"
    }
   ],
   "source": [
    "# Illustration Purpose Only\n",
    "# 位置向量可视化\n",
    "def visualize_pe(pe):\n",
    "    plt.imshow(pe, aspect=\"auto\")\n",
    "    plt.title(\"Positional Encoding\")\n",
    "    plt.xlabel(\"Encoding Dimension\")\n",
    "    plt.ylabel(\"Position Index\")\n",
    "    plt.colorbar()\n",
    "    plt.show()\n",
    "\n",
    "position_encoding_lookup_table2_np = position_encoding_lookup_table[0].cpu().numpy()\n",
    "visualize_pe(position_encoding_lookup_table2_np)"
   ],
   "metadata": {
    "collapsed": false,
    "ExecuteTime": {
     "end_time": "2024-02-09T04:27:19.636816Z",
     "start_time": "2024-02-09T04:27:18.851615Z"
    }
   },
   "id": "fa43476e35fdb265",
   "execution_count": 20
  },
  {
   "cell_type": "code",
   "outputs": [
    {
     "data": {
      "text/plain": "          0         1         2         3         4         5         6   \\\n0   0.429120 -1.098844 -0.080055  0.836584  0.097882  0.980574  0.062618   \n1   0.018790  0.041842  3.177333 -0.702859  0.563952 -0.182099  1.372611   \n2  -0.576147 -0.303029  2.193660  1.824779  0.920853  1.456270  0.364062   \n3   0.295440 -0.426397  1.115912 -1.218402  1.924390 -0.673319  2.044948   \n4  -0.400659 -0.814092  0.925708 -0.535223  0.532417 -0.747264  1.392377   \n5  -0.477125 -0.263306  0.474095 -0.029578  0.631249 -0.206443 -0.208251   \n6  -1.018672  2.389402 -1.682434 -0.189376 -1.058081 -1.543334 -1.909576   \n7   1.942410  1.108056 -0.693313  0.444062  0.177045  1.574290 -0.632895   \n8   2.666086 -1.203837  0.964584  1.146727 -1.530863 -1.107102  0.636139   \n9   0.250436  0.227683  0.641056  1.206820 -2.560165  0.546217 -1.037999   \n10 -0.806808 -0.458918  1.133692 -0.164567 -0.731735  0.485971  0.221611   \n11 -3.831211 -1.506033  2.361773 -1.856963 -0.500653  1.592496 -1.563254   \n12 -0.518778  0.050186  1.621163  0.598926  1.643750  0.523996 -0.257167   \n13  0.304156  1.011210 -1.014489  0.234468  0.208567  0.494498 -1.087270   \n14 -0.622676 -0.407210 -1.755492  0.372956  0.344218 -1.139219 -2.251297   \n15 -0.835156 -0.646571  0.227974  2.003984  0.854561  0.475832 -0.340592   \n\n          7         8         9   ...        54        55        56        57  \\\n0   0.360595  0.813314  0.613190  ...  0.514942  1.685295 -1.593473  0.102939   \n1  -0.911021  1.837427  1.681453  ... -0.875306  0.824614 -0.422385  2.820027   \n2  -0.206519  1.391069  1.158788  ... -0.786858  1.349099 -0.490047  0.910295   \n3   0.238281  2.098096 -1.127724  ... -1.486702  2.408601 -0.583126  0.526450   \n4  -1.996841 -0.045985 -0.339367  ...  1.559229 -0.204050 -0.379676  1.723722   \n5   0.250564  0.195159  0.399324  ...  0.980674  0.067069  0.445831  1.771974   \n6  -0.288463 -0.908153 -0.279262  ... -2.123044  1.007482  0.495677  1.347763   \n7  -0.715188  1.002453 -1.348007  ...  0.087191  0.936511  0.425900  1.168335   \n8  -1.129125  0.737536 -1.577059  ...  0.331791  1.838058  0.931352  1.676619   \n9   0.263772 -0.730955 -2.219368  ...  0.553397  1.151931 -0.860009 -0.207291   \n10 -1.042287  0.181596 -0.869804  ...  0.993546  0.429285 -0.631575  0.458754   \n11 -0.052886 -1.243676 -2.115197  ...  0.065578  2.594792  0.336291  0.195884   \n12  0.346509 -0.469537  0.696234  ... -1.876618  0.659217  0.057818  3.069696   \n13 -0.784859 -0.676279 -1.023750  ...  0.306937  0.167204  0.007685  0.305413   \n14  1.573415 -0.849855 -1.974941  ... -0.195202  1.210601 -0.355451  0.314987   \n15  0.127656 -0.199577  0.383232  ... -0.781376  1.349079 -0.485936  0.910284   \n\n          58        59        60        61        62        63  \n0   0.781685  1.033012 -0.979184  3.759405 -0.444012  1.352421  \n1  -2.173537  0.135974 -0.087279  1.809196  0.506296  0.403991  \n2   1.223883  0.198992  0.311965  2.375616  0.532111 -0.678781  \n3  -2.539209  1.725508  1.368430  2.712548  1.440396  1.654690  \n4  -1.389095  0.585343  1.298879  1.136980 -0.051079  1.411836  \n5  -0.433033  0.027834  0.239987  2.753690 -2.225085  1.727836  \n6  -0.637191  1.095827  1.579314  1.295505  1.036067  1.370119  \n7  -1.604715  0.700976  0.159343  0.372097  0.489373  1.059628  \n8   0.851436  1.552475  0.855349  1.395033  1.029566  0.975857  \n9   0.079370  1.864052  0.299668  1.007171  0.696650  1.275786  \n10  0.419840  1.530803 -0.478384  0.232433 -0.362345  1.971645  \n11  0.852367  1.794637 -0.693571 -0.886121  0.532629  2.211235  \n12 -0.073381  2.419370 -0.061976  0.139178 -0.157571  1.249035  \n13  0.616866 -0.023026  0.197678  0.671014 -1.692231  0.420513  \n14 -0.497138  2.705135 -0.300980 -1.118451 -1.001801  1.076136  \n15  1.226965  0.198985  0.314276  2.375612  0.533844 -0.678783  \n\n[16 rows x 64 columns]",
      "text/html": "<div>\n<style scoped>\n    .dataframe tbody tr th:only-of-type {\n        vertical-align: middle;\n    }\n\n    .dataframe tbody tr th {\n        vertical-align: top;\n    }\n\n    .dataframe thead th {\n        text-align: right;\n    }\n</style>\n<table border=\"1\" class=\"dataframe\">\n  <thead>\n    <tr style=\"text-align: right;\">\n      <th></th>\n      <th>0</th>\n      <th>1</th>\n      <th>2</th>\n      <th>3</th>\n      <th>4</th>\n      <th>5</th>\n      <th>6</th>\n      <th>7</th>\n      <th>8</th>\n      <th>9</th>\n      <th>...</th>\n      <th>54</th>\n      <th>55</th>\n      <th>56</th>\n      <th>57</th>\n      <th>58</th>\n      <th>59</th>\n      <th>60</th>\n      <th>61</th>\n      <th>62</th>\n      <th>63</th>\n    </tr>\n  </thead>\n  <tbody>\n    <tr>\n      <th>0</th>\n      <td>0.429120</td>\n      <td>-1.098844</td>\n      <td>-0.080055</td>\n      <td>0.836584</td>\n      <td>0.097882</td>\n      <td>0.980574</td>\n      <td>0.062618</td>\n      <td>0.360595</td>\n      <td>0.813314</td>\n      <td>0.613190</td>\n      <td>...</td>\n      <td>0.514942</td>\n      <td>1.685295</td>\n      <td>-1.593473</td>\n      <td>0.102939</td>\n      <td>0.781685</td>\n      <td>1.033012</td>\n      <td>-0.979184</td>\n      <td>3.759405</td>\n      <td>-0.444012</td>\n      <td>1.352421</td>\n    </tr>\n    <tr>\n      <th>1</th>\n      <td>0.018790</td>\n      <td>0.041842</td>\n      <td>3.177333</td>\n      <td>-0.702859</td>\n      <td>0.563952</td>\n      <td>-0.182099</td>\n      <td>1.372611</td>\n      <td>-0.911021</td>\n      <td>1.837427</td>\n      <td>1.681453</td>\n      <td>...</td>\n      <td>-0.875306</td>\n      <td>0.824614</td>\n      <td>-0.422385</td>\n      <td>2.820027</td>\n      <td>-2.173537</td>\n      <td>0.135974</td>\n      <td>-0.087279</td>\n      <td>1.809196</td>\n      <td>0.506296</td>\n      <td>0.403991</td>\n    </tr>\n    <tr>\n      <th>2</th>\n      <td>-0.576147</td>\n      <td>-0.303029</td>\n      <td>2.193660</td>\n      <td>1.824779</td>\n      <td>0.920853</td>\n      <td>1.456270</td>\n      <td>0.364062</td>\n      <td>-0.206519</td>\n      <td>1.391069</td>\n      <td>1.158788</td>\n      <td>...</td>\n      <td>-0.786858</td>\n      <td>1.349099</td>\n      <td>-0.490047</td>\n      <td>0.910295</td>\n      <td>1.223883</td>\n      <td>0.198992</td>\n      <td>0.311965</td>\n      <td>2.375616</td>\n      <td>0.532111</td>\n      <td>-0.678781</td>\n    </tr>\n    <tr>\n      <th>3</th>\n      <td>0.295440</td>\n      <td>-0.426397</td>\n      <td>1.115912</td>\n      <td>-1.218402</td>\n      <td>1.924390</td>\n      <td>-0.673319</td>\n      <td>2.044948</td>\n      <td>0.238281</td>\n      <td>2.098096</td>\n      <td>-1.127724</td>\n      <td>...</td>\n      <td>-1.486702</td>\n      <td>2.408601</td>\n      <td>-0.583126</td>\n      <td>0.526450</td>\n      <td>-2.539209</td>\n      <td>1.725508</td>\n      <td>1.368430</td>\n      <td>2.712548</td>\n      <td>1.440396</td>\n      <td>1.654690</td>\n    </tr>\n    <tr>\n      <th>4</th>\n      <td>-0.400659</td>\n      <td>-0.814092</td>\n      <td>0.925708</td>\n      <td>-0.535223</td>\n      <td>0.532417</td>\n      <td>-0.747264</td>\n      <td>1.392377</td>\n      <td>-1.996841</td>\n      <td>-0.045985</td>\n      <td>-0.339367</td>\n      <td>...</td>\n      <td>1.559229</td>\n      <td>-0.204050</td>\n      <td>-0.379676</td>\n      <td>1.723722</td>\n      <td>-1.389095</td>\n      <td>0.585343</td>\n      <td>1.298879</td>\n      <td>1.136980</td>\n      <td>-0.051079</td>\n      <td>1.411836</td>\n    </tr>\n    <tr>\n      <th>5</th>\n      <td>-0.477125</td>\n      <td>-0.263306</td>\n      <td>0.474095</td>\n      <td>-0.029578</td>\n      <td>0.631249</td>\n      <td>-0.206443</td>\n      <td>-0.208251</td>\n      <td>0.250564</td>\n      <td>0.195159</td>\n      <td>0.399324</td>\n      <td>...</td>\n      <td>0.980674</td>\n      <td>0.067069</td>\n      <td>0.445831</td>\n      <td>1.771974</td>\n      <td>-0.433033</td>\n      <td>0.027834</td>\n      <td>0.239987</td>\n      <td>2.753690</td>\n      <td>-2.225085</td>\n      <td>1.727836</td>\n    </tr>\n    <tr>\n      <th>6</th>\n      <td>-1.018672</td>\n      <td>2.389402</td>\n      <td>-1.682434</td>\n      <td>-0.189376</td>\n      <td>-1.058081</td>\n      <td>-1.543334</td>\n      <td>-1.909576</td>\n      <td>-0.288463</td>\n      <td>-0.908153</td>\n      <td>-0.279262</td>\n      <td>...</td>\n      <td>-2.123044</td>\n      <td>1.007482</td>\n      <td>0.495677</td>\n      <td>1.347763</td>\n      <td>-0.637191</td>\n      <td>1.095827</td>\n      <td>1.579314</td>\n      <td>1.295505</td>\n      <td>1.036067</td>\n      <td>1.370119</td>\n    </tr>\n    <tr>\n      <th>7</th>\n      <td>1.942410</td>\n      <td>1.108056</td>\n      <td>-0.693313</td>\n      <td>0.444062</td>\n      <td>0.177045</td>\n      <td>1.574290</td>\n      <td>-0.632895</td>\n      <td>-0.715188</td>\n      <td>1.002453</td>\n      <td>-1.348007</td>\n      <td>...</td>\n      <td>0.087191</td>\n      <td>0.936511</td>\n      <td>0.425900</td>\n      <td>1.168335</td>\n      <td>-1.604715</td>\n      <td>0.700976</td>\n      <td>0.159343</td>\n      <td>0.372097</td>\n      <td>0.489373</td>\n      <td>1.059628</td>\n    </tr>\n    <tr>\n      <th>8</th>\n      <td>2.666086</td>\n      <td>-1.203837</td>\n      <td>0.964584</td>\n      <td>1.146727</td>\n      <td>-1.530863</td>\n      <td>-1.107102</td>\n      <td>0.636139</td>\n      <td>-1.129125</td>\n      <td>0.737536</td>\n      <td>-1.577059</td>\n      <td>...</td>\n      <td>0.331791</td>\n      <td>1.838058</td>\n      <td>0.931352</td>\n      <td>1.676619</td>\n      <td>0.851436</td>\n      <td>1.552475</td>\n      <td>0.855349</td>\n      <td>1.395033</td>\n      <td>1.029566</td>\n      <td>0.975857</td>\n    </tr>\n    <tr>\n      <th>9</th>\n      <td>0.250436</td>\n      <td>0.227683</td>\n      <td>0.641056</td>\n      <td>1.206820</td>\n      <td>-2.560165</td>\n      <td>0.546217</td>\n      <td>-1.037999</td>\n      <td>0.263772</td>\n      <td>-0.730955</td>\n      <td>-2.219368</td>\n      <td>...</td>\n      <td>0.553397</td>\n      <td>1.151931</td>\n      <td>-0.860009</td>\n      <td>-0.207291</td>\n      <td>0.079370</td>\n      <td>1.864052</td>\n      <td>0.299668</td>\n      <td>1.007171</td>\n      <td>0.696650</td>\n      <td>1.275786</td>\n    </tr>\n    <tr>\n      <th>10</th>\n      <td>-0.806808</td>\n      <td>-0.458918</td>\n      <td>1.133692</td>\n      <td>-0.164567</td>\n      <td>-0.731735</td>\n      <td>0.485971</td>\n      <td>0.221611</td>\n      <td>-1.042287</td>\n      <td>0.181596</td>\n      <td>-0.869804</td>\n      <td>...</td>\n      <td>0.993546</td>\n      <td>0.429285</td>\n      <td>-0.631575</td>\n      <td>0.458754</td>\n      <td>0.419840</td>\n      <td>1.530803</td>\n      <td>-0.478384</td>\n      <td>0.232433</td>\n      <td>-0.362345</td>\n      <td>1.971645</td>\n    </tr>\n    <tr>\n      <th>11</th>\n      <td>-3.831211</td>\n      <td>-1.506033</td>\n      <td>2.361773</td>\n      <td>-1.856963</td>\n      <td>-0.500653</td>\n      <td>1.592496</td>\n      <td>-1.563254</td>\n      <td>-0.052886</td>\n      <td>-1.243676</td>\n      <td>-2.115197</td>\n      <td>...</td>\n      <td>0.065578</td>\n      <td>2.594792</td>\n      <td>0.336291</td>\n      <td>0.195884</td>\n      <td>0.852367</td>\n      <td>1.794637</td>\n      <td>-0.693571</td>\n      <td>-0.886121</td>\n      <td>0.532629</td>\n      <td>2.211235</td>\n    </tr>\n    <tr>\n      <th>12</th>\n      <td>-0.518778</td>\n      <td>0.050186</td>\n      <td>1.621163</td>\n      <td>0.598926</td>\n      <td>1.643750</td>\n      <td>0.523996</td>\n      <td>-0.257167</td>\n      <td>0.346509</td>\n      <td>-0.469537</td>\n      <td>0.696234</td>\n      <td>...</td>\n      <td>-1.876618</td>\n      <td>0.659217</td>\n      <td>0.057818</td>\n      <td>3.069696</td>\n      <td>-0.073381</td>\n      <td>2.419370</td>\n      <td>-0.061976</td>\n      <td>0.139178</td>\n      <td>-0.157571</td>\n      <td>1.249035</td>\n    </tr>\n    <tr>\n      <th>13</th>\n      <td>0.304156</td>\n      <td>1.011210</td>\n      <td>-1.014489</td>\n      <td>0.234468</td>\n      <td>0.208567</td>\n      <td>0.494498</td>\n      <td>-1.087270</td>\n      <td>-0.784859</td>\n      <td>-0.676279</td>\n      <td>-1.023750</td>\n      <td>...</td>\n      <td>0.306937</td>\n      <td>0.167204</td>\n      <td>0.007685</td>\n      <td>0.305413</td>\n      <td>0.616866</td>\n      <td>-0.023026</td>\n      <td>0.197678</td>\n      <td>0.671014</td>\n      <td>-1.692231</td>\n      <td>0.420513</td>\n    </tr>\n    <tr>\n      <th>14</th>\n      <td>-0.622676</td>\n      <td>-0.407210</td>\n      <td>-1.755492</td>\n      <td>0.372956</td>\n      <td>0.344218</td>\n      <td>-1.139219</td>\n      <td>-2.251297</td>\n      <td>1.573415</td>\n      <td>-0.849855</td>\n      <td>-1.974941</td>\n      <td>...</td>\n      <td>-0.195202</td>\n      <td>1.210601</td>\n      <td>-0.355451</td>\n      <td>0.314987</td>\n      <td>-0.497138</td>\n      <td>2.705135</td>\n      <td>-0.300980</td>\n      <td>-1.118451</td>\n      <td>-1.001801</td>\n      <td>1.076136</td>\n    </tr>\n    <tr>\n      <th>15</th>\n      <td>-0.835156</td>\n      <td>-0.646571</td>\n      <td>0.227974</td>\n      <td>2.003984</td>\n      <td>0.854561</td>\n      <td>0.475832</td>\n      <td>-0.340592</td>\n      <td>0.127656</td>\n      <td>-0.199577</td>\n      <td>0.383232</td>\n      <td>...</td>\n      <td>-0.781376</td>\n      <td>1.349079</td>\n      <td>-0.485936</td>\n      <td>0.910284</td>\n      <td>1.226965</td>\n      <td>0.198985</td>\n      <td>0.314276</td>\n      <td>2.375612</td>\n      <td>0.533844</td>\n      <td>-0.678783</td>\n    </tr>\n  </tbody>\n</table>\n<p>16 rows × 64 columns</p>\n</div>"
     },
     "execution_count": 21,
     "metadata": {},
     "output_type": "execute_result"
    }
   ],
   "source": [
    "# Add positional encoding into the input embedding vector\n",
    "# 位置向量信息加词向量信息\n",
    "input_embedding_x = x_batch_embedding + position_encoding_lookup_table # [4, 16, 64] [batch_size, context_length, d_model]\n",
    "input_embedding_y = y_batch_embedding + position_encoding_lookup_table\n",
    "pd.DataFrame(input_embedding_x[0].detach().cpu().numpy())"
   ],
   "metadata": {
    "collapsed": false,
    "ExecuteTime": {
     "end_time": "2024-02-09T04:28:10.855919Z",
     "start_time": "2024-02-09T04:28:10.789425Z"
    }
   },
   "id": "8bc5355ba995b07b",
   "execution_count": 21
  },
  {
   "cell_type": "code",
   "outputs": [
    {
     "data": {
      "text/plain": "torch.Size([4, 16, 64])"
     },
     "execution_count": 22,
     "metadata": {},
     "output_type": "execute_result"
    }
   ],
   "source": [
    "# Prepare Query, Key, Value for Multi-head Attention\n",
    "X = input_embedding_x\n",
    "query = key = value = X # [4, 16, 64] [batch_size, context_length, d_model]\n",
    "query.shape"
   ],
   "metadata": {
    "collapsed": false,
    "ExecuteTime": {
     "end_time": "2024-02-09T04:28:49.421348Z",
     "start_time": "2024-02-09T04:28:49.395576Z"
    }
   },
   "id": "b49bfcfcb646b81f",
   "execution_count": 22
  },
  {
   "cell_type": "code",
   "outputs": [
    {
     "name": "stdout",
     "output_type": "stream",
     "text": [
      "         0         1         2         3         4         5         6   \\\n",
      "0  0.657414  0.872972 -0.231637 -0.584895 -0.489887 -0.142829 -0.106594   \n",
      "1 -0.124199  1.178569 -0.101906  0.637302  0.000999  1.117411  1.267956   \n",
      "2  0.775449  0.071916  1.149693 -1.492254 -0.673091  0.024734  1.128383   \n",
      "3  0.241492  1.089979 -0.597753 -0.264746 -0.314929 -0.982105 -0.681241   \n",
      "\n",
      "         7         8         9         10        11        12        13  \\\n",
      "0  0.505478 -0.196674 -0.017201  0.915968  0.753584 -0.841393 -1.183698   \n",
      "1 -0.680977 -0.691312  0.728115 -0.493498 -0.615478 -1.417619 -1.006107   \n",
      "2  1.130208 -0.178143  1.303577  0.664138 -1.168537 -0.011217 -0.904679   \n",
      "3  0.630806 -0.527820  0.245860  0.496230 -0.462229  0.840666  0.527826   \n",
      "\n",
      "         14        15  \n",
      "0 -0.998909  0.676501  \n",
      "1 -0.769674  0.406986  \n",
      "2 -0.813052  0.166687  \n",
      "3 -0.346225  0.624200  \n",
      "         0         1         2         3         4         5         6   \\\n",
      "0  0.991776  0.800381 -1.234527  0.953837 -0.856924 -0.069432 -0.540380   \n",
      "1 -0.666497 -0.576150  0.952976 -0.299700 -0.958565 -1.433232  1.861818   \n",
      "2 -1.214516  1.897579 -0.514040  1.141980 -0.754210  0.328155  1.392136   \n",
      "3  0.401000 -1.284409 -0.247562 -0.396170  0.114549 -0.753135  0.064130   \n",
      "\n",
      "         7         8         9         10        11        12        13  \\\n",
      "0  0.048487  0.644349  0.817681 -0.123811  0.355006  0.900554 -0.540971   \n",
      "1  0.107498  0.112496  0.436959 -0.298305  0.908471 -0.873991 -1.126707   \n",
      "2  1.739131  0.245871  1.807747 -0.069931  0.256982  0.631187 -0.563301   \n",
      "3 -0.375214 -0.575628  0.011688 -0.205171  0.947235  0.638542 -0.115208   \n",
      "\n",
      "         14        15  \n",
      "0 -1.352716  1.015962  \n",
      "1 -0.365782  0.301006  \n",
      "2 -1.000810 -0.124168  \n",
      "3  0.488809 -0.539390  \n",
      "         0         1         2         3         4         5         6   \\\n",
      "0  0.482313  1.087363  0.089103 -1.146467  0.353541  0.277024 -0.616867   \n",
      "1  0.025363  0.358319 -0.453869 -0.173193  0.185295  0.300093 -1.086764   \n",
      "2 -0.072164 -0.850312 -0.122386 -1.040218 -2.615795  1.236172 -0.951095   \n",
      "3 -0.101159  0.350884 -0.249913  0.156422 -0.928637 -0.481094 -0.312182   \n",
      "\n",
      "         7         8         9         10        11        12        13  \\\n",
      "0 -0.524078 -0.238906  0.307660  0.068396 -0.574329  0.606657 -1.258171   \n",
      "1  0.676411 -0.033104  0.648634 -0.874122 -0.804841 -0.320082 -0.714068   \n",
      "2  0.180046 -0.698876  0.351456  0.845325 -0.690528  0.083428  0.242955   \n",
      "3  0.024082  0.014078  0.364720  0.254529 -0.348099 -0.087296  0.513826   \n",
      "\n",
      "         14        15  \n",
      "0  0.173690  0.538737  \n",
      "1 -0.581085 -1.193464  \n",
      "2 -0.466011 -0.425095  \n",
      "3 -0.739757  0.211184  \n",
      "         0         1         2         3         4         5         6   \\\n",
      "0 -0.517108  1.386841 -1.115532  0.173472 -0.163841 -1.306710 -0.568041   \n",
      "1 -0.511815 -0.670220  0.845047  0.166886 -0.826964 -0.866767  1.647009   \n",
      "2 -1.200754  1.299491  0.470370  0.558014 -1.228493 -0.305712  0.681404   \n",
      "3 -0.504371 -0.050020 -1.121083  0.588530 -0.528072 -0.672676  0.549526   \n",
      "\n",
      "         7         8         9         10        11        12        13  \\\n",
      "0  1.949618  1.531769  0.637930  0.779385 -0.357892  0.084922 -1.236890   \n",
      "1  0.198586  0.629031  0.684614 -0.793712  0.245542 -0.701622 -0.622096   \n",
      "2  1.477300 -0.190920 -0.070406  0.874286  1.044927 -0.509695  0.018519   \n",
      "3 -0.013648 -0.665486  0.363324  0.809545  1.655739  0.851948 -0.578609   \n",
      "\n",
      "         14        15  \n",
      "0  0.091244  0.614698  \n",
      "1 -0.967869  0.856260  \n",
      "2 -0.011028 -0.340722  \n",
      "3  0.237132 -0.403175  \n",
      "         0         1         2         3         4         5         6   \\\n",
      "0  0.359727 -0.085527 -1.978889  0.060120  0.339543 -0.366661 -0.461078   \n",
      "1 -0.411446 -0.464466 -0.376609  0.551887  0.176256  0.074451  1.553449   \n",
      "2 -1.272036  1.123463 -0.032325  1.003968 -1.025863  1.023560  0.606495   \n",
      "3  0.275784 -1.580758 -0.536722  0.627596  0.537151 -0.760894  0.593385   \n",
      "\n",
      "         7         8         9         10        11        12        13  \\\n",
      "0  0.542697  0.281672  0.925365 -0.377901  0.287584  0.451029 -0.728055   \n",
      "1  0.300379 -0.232876 -0.469819 -0.729497 -0.375624 -0.786214 -0.998747   \n",
      "2  2.269136  0.629345  0.721094 -1.851813  0.092423  0.094950 -0.789082   \n",
      "3  0.021842 -0.589092  0.456189 -0.040308  0.394507  0.052838 -0.247666   \n",
      "\n",
      "         14        15  \n",
      "0 -0.271954  0.216494  \n",
      "1 -0.243906  0.596778  \n",
      "2 -1.191101 -0.198254  \n",
      "3  0.339198 -0.333771  \n",
      "         0         1         2         3         4         5         6   \\\n",
      "0  0.615835 -1.161342 -0.571683 -0.088014  0.025436 -0.309605 -0.232325   \n",
      "1 -0.586236  0.189097  0.172642  0.874846 -0.305392  0.197572  2.126817   \n",
      "2 -0.593102  0.626972  1.966252  0.748602 -0.123499 -0.835143 -1.045106   \n",
      "3  1.739965 -1.509906  0.436743  0.946040  0.572344 -1.074283  1.177481   \n",
      "\n",
      "         7         8         9         10        11        12        13  \\\n",
      "0  0.539716 -0.177847  0.096350  0.297168 -0.355307  0.521112 -1.093456   \n",
      "1  1.180695 -0.284285  0.225461 -0.595178 -0.086003 -0.860414 -0.665931   \n",
      "2  0.670918  0.023114  0.424832 -0.531862 -0.616183 -0.519449 -0.279248   \n",
      "3  0.525670 -1.422780  0.274402  0.671882  1.136940  0.195052  0.257534   \n",
      "\n",
      "         14        15  \n",
      "0 -0.286116 -0.097334  \n",
      "1  0.163323 -0.413758  \n",
      "2 -0.140447 -1.134951  \n",
      "3 -0.062683 -0.304712  \n",
      "         0         1         2         3         4         5         6   \\\n",
      "0 -0.389681  0.753271 -0.406377  1.855720 -1.012579 -0.489974 -0.266634   \n",
      "1 -0.986278 -0.817554  1.834727  0.502261 -0.235439 -0.632426  0.906870   \n",
      "2 -0.508457 -0.091953 -0.574362  0.064219 -0.189601 -0.520655 -0.339162   \n",
      "3  1.874114  0.705016 -0.535631  1.331558 -1.141232  0.802748  0.144991   \n",
      "\n",
      "         7         8         9         10        11        12        13  \\\n",
      "0  1.187912 -0.430698 -0.757244 -0.255900 -0.976018 -0.371602 -0.134959   \n",
      "1 -1.122551  0.378840 -0.175365 -0.186793  1.735101 -0.716013  1.595759   \n",
      "2  0.079483  0.379525 -1.356851  1.275726  0.716158 -0.236155 -0.423928   \n",
      "3 -0.409950 -0.691741  0.718676  1.226021  1.196125 -0.181549 -0.814958   \n",
      "\n",
      "         14        15  \n",
      "0  1.692933  0.163314  \n",
      "1 -0.068946  0.015463  \n",
      "2  0.644362 -0.594375  \n",
      "3  0.982813  0.360863  \n",
      "         0         1         2         3         4         5         6   \\\n",
      "0  0.030314  0.320145 -0.063432  0.158836 -0.887425  0.714765 -0.001314   \n",
      "1  0.114101  0.095042  0.586520 -0.193037 -0.704166 -0.425873  2.215780   \n",
      "2 -0.697737  0.374546  0.635063  0.133747  0.167042  0.332288 -0.419736   \n",
      "3  0.642571  0.089264 -0.271349  1.184095  0.217342 -0.740441 -0.632477   \n",
      "\n",
      "         7         8         9         10        11        12        13  \\\n",
      "0  0.699113 -1.033340 -1.050353  0.128964 -0.290534 -0.051327 -0.323021   \n",
      "1 -0.096642  0.972238  0.575706 -1.133648  1.208922 -0.238566 -0.413405   \n",
      "2  0.397387 -0.760505  0.030742  0.617739  0.282426  0.215450 -0.804078   \n",
      "3  0.269773 -0.507690 -0.114624  0.082515  0.650298  0.300734 -0.527451   \n",
      "\n",
      "         14        15  \n",
      "0 -0.015370 -0.136085  \n",
      "1 -0.472200  0.224300  \n",
      "2 -0.031937 -0.033604  \n",
      "3 -0.321587 -0.267988  \n",
      "         0         1         2         3         4         5         6   \\\n",
      "0  0.699600  1.871952 -0.735131 -1.463386  1.070440 -0.894538 -0.813157   \n",
      "1 -0.070078  0.329156  0.073339  0.078847 -0.987375  0.655546  0.455878   \n",
      "2 -0.285282 -0.462145  0.322527 -0.236447 -0.678758  1.505942 -0.376707   \n",
      "3  0.372804  0.416223 -0.521905  0.298819 -1.324099 -1.518031  0.161923   \n",
      "\n",
      "         7         8         9         10        11        12        13  \\\n",
      "0  0.947628 -0.135879 -0.104525 -0.184678 -0.617841  0.445686 -0.673230   \n",
      "1 -0.194258  1.095024  0.033366 -1.528493  0.877021 -1.209557 -0.529544   \n",
      "2  0.164274 -0.083852 -1.343137  1.345446 -0.987134 -0.690741 -0.403132   \n",
      "3  1.119964 -1.018612  0.136293  0.985388  0.531184  0.602228  0.541332   \n",
      "\n",
      "         14        15  \n",
      "0 -0.194899  0.023672  \n",
      "1  0.588396  0.091860  \n",
      "2 -0.661743 -0.511435  \n",
      "3  0.546785  1.076758  \n",
      "         0         1         2         3         4         5         6   \\\n",
      "0 -0.166607  0.056012 -1.090031 -0.368730  0.007642 -0.991706 -0.754486   \n",
      "1 -0.466751  0.854138  0.223756  0.955544 -0.400384  0.747405  0.291936   \n",
      "2  0.506361 -0.633486  0.694440 -1.244693 -1.171203  0.803341  0.386069   \n",
      "3 -0.039986  1.217325 -0.656704  0.373339 -0.128487 -0.985597 -0.382033   \n",
      "\n",
      "         7         8         9         10        11        12        13  \\\n",
      "0  1.168663  0.862392 -1.122572 -0.126999  1.080890  0.055909 -0.420958   \n",
      "1  0.862584 -0.319141  0.530575 -0.626196  0.884792 -1.237332  0.614313   \n",
      "2 -0.391672  0.004105 -1.047481  0.835655  0.473073 -0.044696 -0.169598   \n",
      "3  1.305889  0.103559 -0.778382  0.660244 -0.079635 -0.103481 -0.152375   \n",
      "\n",
      "         14        15  \n",
      "0  0.334247 -0.331198  \n",
      "1  0.150970  0.144326  \n",
      "2 -0.468564  0.744978  \n",
      "3  1.144567 -0.662470  \n",
      "         0         1         2         3         4         5         6   \\\n",
      "0  0.565095  0.409575 -0.363770 -0.463489  0.626862  0.215376 -0.179906   \n",
      "1  0.725383 -0.102342 -0.230256  1.597393 -0.380596  0.337676  0.341979   \n",
      "2  0.143261 -0.197988  0.079229  0.147658 -0.246980 -0.361376 -0.325745   \n",
      "3 -0.507858  0.637690  0.337731 -0.759679 -0.738861 -0.838749 -0.717160   \n",
      "\n",
      "         7         8         9         10        11        12        13  \\\n",
      "0  0.408048  0.229686  0.386532  0.190232  0.250915  0.553652 -1.445066   \n",
      "1  0.346080 -0.715570  0.267443 -1.718336 -0.612671 -1.163231 -0.652418   \n",
      "2  0.341873 -0.562966  0.345454  0.780192 -0.128916 -0.820962  0.023429   \n",
      "3  0.841228 -1.601423  0.066940  0.245173  0.538613 -0.399446  0.929844   \n",
      "\n",
      "         14        15  \n",
      "0 -0.447620 -0.514461  \n",
      "1 -0.231221 -1.218179  \n",
      "2 -0.929948 -0.437173  \n",
      "3  0.558812  0.124557  \n",
      "         0         1         2         3         4         5         6   \\\n",
      "0  0.374763  0.495278 -0.300426  0.875203 -0.618715  0.788808 -0.036175   \n",
      "1 -1.285001 -0.544552  0.296986  0.217751 -0.867507  0.037783 -0.915936   \n",
      "2  0.848865 -0.178133 -0.671204 -0.722829  0.220391  0.533693  0.562219   \n",
      "3  1.389086  0.320172  0.415814  0.516121 -1.449418 -1.072823 -0.153295   \n",
      "\n",
      "         7         8         9         10        11        12        13  \\\n",
      "0  0.196496  0.624255 -0.324946  1.157545  0.185404  0.714324 -1.130573   \n",
      "1  0.500234  0.242091  1.554613 -0.895622  1.540623 -0.364592  0.326355   \n",
      "2  0.658944 -1.308184 -0.604179  1.154011  2.279340  0.346742  0.205433   \n",
      "3  0.961490 -0.854771 -0.274228  0.555290  0.730049  0.269296  0.370678   \n",
      "\n",
      "         14        15  \n",
      "0  0.395913 -1.205942  \n",
      "1 -0.966613 -0.882358  \n",
      "2  0.494921 -0.471256  \n",
      "3 -0.238584  0.965180  \n",
      "         0         1         2         3         4         5         6   \\\n",
      "0  0.620743  0.260224 -0.898045  0.712068 -1.564338  0.436009  0.128757   \n",
      "1  0.629961  0.522037  0.543264 -0.272680  0.783338 -0.250265  1.117208   \n",
      "2 -0.308749  0.256694  0.762856 -1.251217 -1.333574  0.223873  0.735478   \n",
      "3 -0.062691  0.691714 -0.369933  0.090198 -1.297903 -0.703445  0.133503   \n",
      "\n",
      "         7         8         9         10        11        12        13  \\\n",
      "0  1.805920 -0.052240  0.085618  1.317901 -1.492206  0.905238 -1.581172   \n",
      "1  0.229653  0.079061  0.309507 -0.535551  1.101103 -0.358396 -0.191043   \n",
      "2  1.334256  0.665893  0.119003  1.055364  0.312950  1.443596 -0.972765   \n",
      "3  0.894332  0.034738 -0.679341  0.036473  0.045786  0.163384 -0.159509   \n",
      "\n",
      "         14        15  \n",
      "0  0.746368  1.549385  \n",
      "1  0.402012  0.218952  \n",
      "2 -0.350542 -1.208895  \n",
      "3 -1.025186  1.050933  \n",
      "         0         1         2         3         4         5         6   \\\n",
      "0 -0.829629  0.362999 -0.305241  0.105107  0.564516 -0.144970  0.083132   \n",
      "1  0.099988 -0.048972  0.762888 -0.256899 -0.285933  0.744668  1.513248   \n",
      "2  0.575457 -0.032999  1.061518 -0.724266  0.510987 -0.462920  0.056087   \n",
      "3  0.567759 -0.097672 -0.481158  0.675844  1.343302  0.300627 -0.492401   \n",
      "\n",
      "         7         8         9         10        11        12        13  \\\n",
      "0 -0.226545  0.366418  0.846338  0.616027 -0.593594 -0.117089 -0.982933   \n",
      "1  1.378910 -0.606559 -0.013661 -1.793082 -0.196650 -1.009016  0.153998   \n",
      "2 -0.015099 -0.268844  0.396728 -0.006483 -0.234609 -0.796999  0.391683   \n",
      "3  0.116355  0.161973  0.936913 -0.548757 -0.354848  1.148392  0.087004   \n",
      "\n",
      "         14        15  \n",
      "0  0.103637  0.128990  \n",
      "1 -0.418921 -0.296219  \n",
      "2 -0.014109 -0.309924  \n",
      "3  0.610185  0.212083  \n",
      "         0         1         2         3         4         5         6   \\\n",
      "0  0.448350  0.112553 -0.295746 -0.868168 -1.554118 -0.380070  0.008697   \n",
      "1 -0.599662  0.916832  0.855414 -0.649655 -0.605275  0.104317 -0.236645   \n",
      "2  0.600882  0.131022  1.531663 -0.871376  0.548121 -0.061069  1.173568   \n",
      "3  0.691421  0.363280  0.272847  0.222852 -0.433295 -0.649688  0.241600   \n",
      "\n",
      "         7         8         9         10        11        12        13  \\\n",
      "0  1.298954  0.009956 -0.516613  0.767484 -0.745804 -1.255222 -0.642408   \n",
      "1  0.171171  0.486263 -0.315349  0.355882  1.301883 -0.400150  0.144154   \n",
      "2 -0.257127  0.754818 -0.974807  0.286436  0.622145  0.904394 -0.724921   \n",
      "3  1.399389 -0.362414 -0.600412  0.309197 -0.303181  0.415892  0.352849   \n",
      "\n",
      "         14        15  \n",
      "0 -0.120026  0.853757  \n",
      "1  0.766327  1.505867  \n",
      "2  0.439465 -0.434455  \n",
      "3 -1.021699  1.547983  \n",
      "         0         1         2         3         4         5         6   \\\n",
      "0  0.390171  0.946096  0.016850 -1.427129  0.055955 -0.172694 -0.421980   \n",
      "1  0.065655  0.814893 -0.500860  0.022589 -0.045986  0.386479 -1.400219   \n",
      "2  0.539862 -1.175571 -0.099424 -1.742838 -2.222641  0.556501 -0.660619   \n",
      "3  0.162166  0.855616  0.517120  0.064522 -1.019562 -0.440177 -0.517879   \n",
      "\n",
      "         7         8         9         10        11        12        13  \\\n",
      "0 -0.415112 -0.194775  0.102881 -0.167112 -0.074754  0.518123 -0.847484   \n",
      "1  0.074658 -0.347967  0.477350 -1.136460 -0.584500 -0.343967 -0.169227   \n",
      "2 -0.031229 -0.506055 -0.438453  1.153221 -0.785271 -0.259681  0.227214   \n",
      "3 -0.033761  0.594314  0.145571  0.342396 -0.956951 -0.275245  0.971075   \n",
      "\n",
      "         14        15  \n",
      "0  0.467503  0.176770  \n",
      "1 -0.640349 -0.775274  \n",
      "2  0.047421 -0.081901  \n",
      "3 -0.835314  0.451314  \n",
      "         0         1         2         3         4         5         6   \\\n",
      "0 -0.844110  1.071340 -0.255418 -0.036050  0.431669  1.056887 -0.924224   \n",
      "1  0.343560  0.214170 -0.614536  0.934950  0.572257  1.392522  1.639122   \n",
      "2  0.197115 -1.001529 -0.311121 -0.138208 -1.715136  0.753850 -0.871275   \n",
      "3  0.890157  0.644740 -0.791041  1.688574 -0.450303 -0.827267 -0.276730   \n",
      "\n",
      "         7         8         9         10        11        12        13  \\\n",
      "0  0.225152 -1.662080 -0.486117  0.952906 -1.200374  0.630051  0.079220   \n",
      "1  0.020554 -0.811031 -0.043901 -1.762039 -0.829745 -0.799377 -0.022820   \n",
      "2  0.068528 -0.259868 -0.445716  0.959150  0.359004 -0.929778  0.366639   \n",
      "3  0.194092  0.423647  0.643764  0.754753 -0.805432  0.463858 -0.679276   \n",
      "\n",
      "         14        15  \n",
      "0  1.911536  0.245972  \n",
      "1 -0.533519 -0.698499  \n",
      "2 -1.119604 -0.341604  \n",
      "3 -0.176744 -0.670061  \n",
      "         0         1         2         3         4         5         6   \\\n",
      "0  0.031268  0.702505  0.144516  0.159892 -0.862422  0.373778 -0.944420   \n",
      "1 -0.451598 -0.015779 -0.480937 -0.459721 -0.659921 -0.006739  1.299585   \n",
      "2 -1.111761  1.418062  0.488461  0.068074 -0.626495  1.072779 -0.401854   \n",
      "3  0.878050  0.434329 -0.422850  0.221714 -0.159076 -0.282998  0.416351   \n",
      "\n",
      "         7         8         9         10        11        12        13  \\\n",
      "0 -0.438133  0.985757  0.368101  0.268629 -0.479570  0.558318 -0.672182   \n",
      "1  0.483059 -0.553202  1.384976 -0.307616  0.240444 -0.830134 -0.039137   \n",
      "2  0.061730  0.150906  1.328316  0.520541 -0.042741 -0.570637 -0.273032   \n",
      "3  0.956864 -1.107567 -0.177696  0.306686  0.080671  1.523911 -0.820480   \n",
      "\n",
      "         14        15  \n",
      "0  0.525738  1.404478  \n",
      "1 -1.472890  0.649475  \n",
      "2 -0.814549 -0.327160  \n",
      "3  0.096323 -0.498424  \n",
      "         0         1         2         3         4         5         6   \\\n",
      "0  0.334016  0.351134 -0.690174 -0.760630 -0.759750 -0.405768  0.110390   \n",
      "1 -0.242422  1.194369  0.690735  0.116646 -0.860445 -0.057058  1.035529   \n",
      "2  0.037171  0.402254  0.840806 -0.011062 -1.213189 -0.288318 -1.203195   \n",
      "3  0.239347  0.899033 -0.315083 -0.634893 -1.094357  0.191504 -0.354690   \n",
      "\n",
      "         7         8         9         10        11        12        13  \\\n",
      "0  0.538864 -0.139732  0.994004 -0.125640  0.054264 -0.263599 -1.119420   \n",
      "1  0.777073 -0.857529 -0.245127 -0.608497 -0.316048 -0.281957 -0.224982   \n",
      "2 -0.359198  0.477432  0.176884  0.305049 -0.493619  0.240892 -0.293051   \n",
      "3  0.587455 -1.172480  1.138397 -0.748737  0.713411 -0.424237 -0.409755   \n",
      "\n",
      "         14        15  \n",
      "0 -0.411417  0.996228  \n",
      "1  0.084061 -0.276081  \n",
      "2 -0.142535 -0.492941  \n",
      "3 -1.403643 -1.289763  \n",
      "         0         1         2         3         4         5         6   \\\n",
      "0 -0.044793  0.139986 -0.986410 -0.393912 -0.492347  0.972389 -0.326924   \n",
      "1 -0.825121  0.459406 -0.366355 -0.439086 -0.788613 -0.155950 -0.039127   \n",
      "2 -1.318075  0.405880  1.324740  0.294873 -0.520526 -0.383799 -0.844186   \n",
      "3  0.530277 -1.350693 -1.177481  0.378608 -0.754703 -0.943017  1.214763   \n",
      "\n",
      "         7         8         9         10        11        12        13  \\\n",
      "0  0.593172 -0.079812 -1.073494  0.934666 -1.522230 -0.783045 -1.401380   \n",
      "1  0.589488  1.255097 -0.038666 -0.381618  1.361790  0.288840 -1.266486   \n",
      "2  0.191015 -0.539954 -0.822957  0.643077  1.002436  2.277058 -0.911092   \n",
      "3  1.129730  0.206559  0.047542 -1.013472  1.009047  0.602493  0.197176   \n",
      "\n",
      "         14        15  \n",
      "0  0.415118  0.523236  \n",
      "1  0.157606  0.260238  \n",
      "2 -0.618305  0.450659  \n",
      "3 -1.993908 -0.667834  \n",
      "         0         1         2         3         4         5         6   \\\n",
      "0  0.281681  0.241742 -0.108602  0.413045 -0.937796  0.927648  0.071394   \n",
      "1 -0.023542  0.237352 -0.000510 -0.261929 -0.773354 -0.326474  1.949707   \n",
      "2 -0.693168  0.628596  0.907380  0.479623 -0.128833  0.068667 -0.437351   \n",
      "3  0.598889 -0.226451 -0.391172  1.095674  0.261056 -0.579392 -0.117745   \n",
      "\n",
      "         7         8         9         10        11        12        13  \\\n",
      "0  0.561177 -0.839686 -0.731512  0.628133 -0.358289 -0.096946 -0.435162   \n",
      "1  0.303154  1.003175  0.606043 -0.767242  1.073846 -0.109419 -0.510401   \n",
      "2  0.787786 -0.578030  0.436688  0.574412  0.646487  0.473424 -0.836297   \n",
      "3  0.088580 -0.865525 -0.149472 -0.275284  1.031917  0.401875 -0.474527   \n",
      "\n",
      "         14        15  \n",
      "0 -0.025577 -0.004495  \n",
      "1 -0.510393  0.244505  \n",
      "2 -0.217972 -0.149620  \n",
      "3 -0.634476 -0.170201  \n",
      "         0         1         2         3         4         5         6   \\\n",
      "0 -0.514289  0.534356 -1.176581 -0.126495 -0.008736  0.075814 -0.673037   \n",
      "1 -0.030055 -0.678482 -0.171079  0.615587 -1.230897 -0.238849  1.808928   \n",
      "2  0.575314  0.241123  0.343411 -0.262514  0.457574 -0.162039  0.662430   \n",
      "3  0.688307  0.054840 -0.468913 -0.275909  0.497338 -0.908341  0.208820   \n",
      "\n",
      "         7         8         9         10        11        12        13  \\\n",
      "0  0.853403  0.788122 -0.393759  0.660757  0.192233 -0.532096 -1.249903   \n",
      "1  1.278840  0.038753  0.802829 -1.462608  0.380410 -1.343126 -0.209175   \n",
      "2  0.911095  0.091156 -0.002237  0.186002  0.750979 -0.204869  0.218785   \n",
      "3  0.718191 -0.068390  0.204732  1.103404  0.015145  1.517157  0.706140   \n",
      "\n",
      "         14        15  \n",
      "0 -0.304471  0.140685  \n",
      "1 -0.811048  1.015072  \n",
      "2 -0.687343  0.198578  \n",
      "3 -0.004065  0.194165  \n",
      "         0         1         2         3         4         5         6   \\\n",
      "0 -0.489158 -1.015345 -0.777784 -0.613864  0.125278 -0.072743 -0.483739   \n",
      "1  0.134211  0.015611  0.562184 -0.230629 -0.658013 -0.635916  1.649284   \n",
      "2 -0.218249  0.023501  1.104396 -0.564280  0.419179 -0.618623 -1.402519   \n",
      "3  0.432127 -0.951452  0.017782 -0.623383  0.018538  0.140592  0.273481   \n",
      "\n",
      "         7         8         9         10        11        12        13  \\\n",
      "0  0.958439  0.081743  0.377524  0.051888 -1.355701  0.218185 -1.205503   \n",
      "1  1.145421 -0.466586 -0.590283 -1.093703  0.470877 -0.241588 -0.850025   \n",
      "2 -0.069033 -0.571611 -0.476461 -0.920361 -0.215895  0.759944  0.121024   \n",
      "3  0.736723  0.014707  0.831845  0.026148  0.772851  1.054314 -0.230392   \n",
      "\n",
      "         14        15  \n",
      "0  0.880534 -0.246596  \n",
      "1  0.000751 -1.368719  \n",
      "2  0.198668  0.056990  \n",
      "3 -0.329494 -0.462572  \n",
      "         0         1         2         3         4         5         6   \\\n",
      "0 -0.185272  0.949121 -0.115212 -0.685153  0.417386  0.066435  0.030359   \n",
      "1 -0.269851  0.840810  0.053642 -0.891380  0.697022  0.520088 -0.179415   \n",
      "2  0.111160  0.071486  0.171181 -0.476135  0.043803 -0.254337 -1.673453   \n",
      "3  0.868339  0.166105  0.641354 -0.202273 -0.715548 -0.690117 -0.274453   \n",
      "\n",
      "         7         8         9         10        11        12        13  \\\n",
      "0  1.263903 -0.598614 -0.892598  0.487095 -1.579579  0.079687 -0.081056   \n",
      "1  0.499476  0.283339 -0.737870 -0.932087  0.285744 -0.157440 -0.537075   \n",
      "2 -0.037802 -0.515692 -1.376052 -0.055716 -0.325415  0.293731 -0.248613   \n",
      "3  1.485375 -0.125926  0.730612  0.797178 -0.332671  0.729733 -0.924007   \n",
      "\n",
      "         14        15  \n",
      "0  0.920279 -0.025317  \n",
      "1  0.184423  0.861639  \n",
      "2  0.459119 -0.983170  \n",
      "3 -1.107755  0.464700  \n",
      "         0         1         2         3         4         5         6   \\\n",
      "0  0.249769 -0.012775 -0.182394 -0.460724 -0.480861  0.386777 -0.018155   \n",
      "1  0.441183 -0.576524 -0.460913 -0.680066 -0.568426 -0.258353  1.456519   \n",
      "2 -0.212455 -0.170777  1.119684 -1.744307 -0.185085  0.855385  0.479624   \n",
      "3 -1.063126  0.825693 -0.633961 -0.877120 -0.716881 -0.870797  0.259704   \n",
      "\n",
      "         7         8         9         10        11        12        13  \\\n",
      "0  1.137900  0.412967 -0.141251  0.645249 -1.136188 -0.095759 -0.904818   \n",
      "1  0.440034 -0.102218 -0.016112 -1.753668  0.464449 -0.137362 -0.140758   \n",
      "2  0.307562  0.081549  0.263535  0.340135  0.396351  0.098131 -0.456896   \n",
      "3  0.782381 -0.375006 -0.665577  1.025894 -0.263891  0.867327 -0.142926   \n",
      "\n",
      "         14        15  \n",
      "0  0.603198  1.382558  \n",
      "1  0.007618 -0.044294  \n",
      "2 -1.015037  0.134184  \n",
      "3 -0.141509  0.430246  \n",
      "         0         1         2         3         4         5         6   \\\n",
      "0  0.249738 -0.490356 -0.452871  0.169757 -0.689024  1.261224  0.528975   \n",
      "1 -0.869809  0.958401  0.423880  0.064596  0.085560 -0.510889 -0.144310   \n",
      "2 -0.789128  0.105393  0.439507 -0.722165  0.047212 -0.077705 -0.602768   \n",
      "3  0.630143 -0.436422 -0.005556 -0.531144 -0.374718 -1.215684 -0.397486   \n",
      "\n",
      "         7         8         9         10        11        12        13  \\\n",
      "0  0.967833  0.149956 -0.977043  0.603843 -0.727944  0.934377 -0.077515   \n",
      "1  0.891943 -0.360303  0.545761 -1.245525  1.123248 -0.003222 -0.426260   \n",
      "2 -0.116962  0.033059 -0.635701  0.639922  0.168120 -0.211132  0.164998   \n",
      "3  1.765684 -0.596218 -0.273966  0.388294 -0.126698  0.251655 -0.130234   \n",
      "\n",
      "         14        15  \n",
      "0  0.065824 -0.587507  \n",
      "1  0.136227  0.237673  \n",
      "2 -0.356310  0.130937  \n",
      "3  0.233794  0.026556  \n",
      "         0         1         2         3         4         5         6   \\\n",
      "0  0.846187  0.901272  0.189720 -0.991311  0.587347 -0.118473 -0.455677   \n",
      "1 -0.122469  0.437533  0.047448  0.569181  0.137035  0.366217 -1.414936   \n",
      "2  0.139954 -1.359391 -0.369200 -1.440169 -2.316174  1.096054 -0.494399   \n",
      "3 -0.296595  0.622124  0.225313  0.168331 -1.028054 -1.021588 -0.467568   \n",
      "\n",
      "         7         8         9         10        11        12        13  \\\n",
      "0 -0.566125  0.242447 -0.110053 -0.277144  0.287379  0.541850 -1.186145   \n",
      "1  0.436155  0.274869  0.543050 -1.246682 -0.617185 -0.615693 -0.449834   \n",
      "2 -0.095132 -0.458789  0.088525  1.165718 -0.626010 -0.534271  0.260596   \n",
      "3 -0.136667  0.150731  0.080049  0.347801 -0.783415 -0.536701  0.849253   \n",
      "\n",
      "         14        15  \n",
      "0  0.020215 -0.219771  \n",
      "1 -0.593907 -1.008644  \n",
      "2  0.074874 -0.222112  \n",
      "3 -0.096026 -0.173341  \n",
      "         0         1         2         3         4         5         6   \\\n",
      "0 -0.176985 -0.207337 -0.285411  0.206274  0.496716  1.039506  0.989293   \n",
      "1  0.445744  0.020769 -0.461106  0.025142  0.087609  0.624098  0.978851   \n",
      "2 -0.699547  0.305276  0.871888 -0.085609 -0.348517  0.469314 -1.448455   \n",
      "3  0.683692 -0.126213 -1.172950  0.258925 -0.014538  0.194402  0.357064   \n",
      "\n",
      "         7         8         9         10        11        12        13  \\\n",
      "0 -0.583793  0.190269 -0.617067  0.523621 -0.595913 -0.458420 -0.986868   \n",
      "1  1.292477 -0.404473  1.246991 -1.213949  0.469764 -1.406694  0.270288   \n",
      "2 -0.113687 -1.155444  0.059828  0.752022  0.146055 -0.017702 -0.065445   \n",
      "3  1.429916 -0.832309  0.776354  0.203206  0.815603  0.288632 -0.465969   \n",
      "\n",
      "         14        15  \n",
      "0  0.763552 -1.066554  \n",
      "1 -0.909334 -0.245775  \n",
      "2 -0.197806 -0.785345  \n",
      "3  0.076478 -0.224143  \n",
      "         0         1         2         3         4         5         6   \\\n",
      "0  0.694403  0.395568 -0.120756  0.110746  0.735199  0.354466  0.308679   \n",
      "1 -0.059010  0.127427  1.330619  1.281215 -0.407253  0.047018 -0.322733   \n",
      "2  0.608271 -1.014655 -0.731628 -0.936451  0.345958 -0.216466  0.770914   \n",
      "3  0.696065 -0.156001  0.871572 -1.539165 -0.153507 -0.545071 -0.915407   \n",
      "\n",
      "         7         8         9         10        11        12        13  \\\n",
      "0  0.475694  0.626543  0.495409  0.390097 -0.212161  1.133369 -1.018363   \n",
      "1  0.237684 -0.807572  0.311867 -0.942887  0.269439 -1.142783 -0.250342   \n",
      "2  1.161938 -0.797691  0.311904  0.669777 -0.343161 -0.672220  0.615368   \n",
      "3 -0.511356 -0.308465 -0.058294  0.551042 -0.033537  1.811555  0.239008   \n",
      "\n",
      "         14        15  \n",
      "0  0.108695 -0.016547  \n",
      "1 -1.876348 -0.817724  \n",
      "2  0.420037  0.401436  \n",
      "3  1.135271 -0.281082  \n",
      "         0         1         2         3         4         5         6   \\\n",
      "0  0.600263 -0.044565 -0.293848 -0.712672 -0.663146  0.077082  0.576297   \n",
      "1  0.935153  0.374204 -0.491434 -0.335747 -0.392457  0.260932  1.263612   \n",
      "2  0.750749  0.177146  2.383370 -0.456793 -0.351146 -0.216133 -0.609748   \n",
      "3  0.501630  1.032517  0.125208  0.353587 -0.266099  0.705531  0.600894   \n",
      "\n",
      "         7         8         9         10        11        12        13  \\\n",
      "0  0.959212 -1.504052 -0.556397  0.208901 -0.128249  0.281341 -0.926977   \n",
      "1  0.536613 -0.228512 -1.053877 -2.043443  0.766353 -0.998698  0.245498   \n",
      "2  0.726445  1.127387 -0.971299 -0.028260  0.446660 -0.469809 -0.310065   \n",
      "3  0.355852 -0.391440 -0.279645 -0.350837 -0.192859  0.315208  0.137914   \n",
      "\n",
      "         14        15  \n",
      "0  0.719639 -0.191713  \n",
      "1 -0.038397  0.181569  \n",
      "2  0.186880 -0.000825  \n",
      "3 -0.141314 -0.535331  \n",
      "         0         1         2         3         4         5         6   \\\n",
      "0  0.500447  0.791277 -1.781673 -0.634665 -0.745987 -0.735139  0.704295   \n",
      "1  0.638383  0.105329 -0.573422 -0.667504 -1.079724 -0.035636  1.323983   \n",
      "2  1.112854 -0.029598  1.586524 -0.548266  0.062680 -0.041953  0.806278   \n",
      "3  1.179444  0.548024 -0.437922  0.753033 -0.423821  0.556136 -0.526949   \n",
      "\n",
      "         7         8         9         10        11        12        13  \\\n",
      "0  0.121775 -0.744788  0.259166  0.104705  0.157648 -0.363188 -0.661672   \n",
      "1  0.506978 -0.821803  0.031643 -1.179368  0.503323 -2.115873 -0.007875   \n",
      "2  0.381082  1.022233  0.250895  0.276314  0.163770 -0.135574 -0.223030   \n",
      "3 -0.184507 -0.179310  1.404096 -0.803514  0.052998  0.151912  1.225423   \n",
      "\n",
      "         14        15  \n",
      "0  0.216712  0.550228  \n",
      "1  0.199354 -0.006629  \n",
      "2 -0.267678  1.202761  \n",
      "3 -0.253841  0.340122  \n",
      "         0         1         2         3         4         5         6   \\\n",
      "0 -0.151753  0.514858  0.089211 -0.387554 -1.296488  1.407634  0.125757   \n",
      "1  0.899508  1.821466  0.117025 -0.054821 -0.383634  0.431778  1.037552   \n",
      "2  0.523151  0.041884 -0.223999 -1.569842 -0.521945  0.365673 -1.047415   \n",
      "3  1.744431  1.244659  0.885033  0.007378 -0.563190  0.113226 -0.277570   \n",
      "\n",
      "         7         8         9         10        11        12        13  \\\n",
      "0 -0.428352 -0.644821 -0.296058  0.682243 -0.216616  0.769518 -0.174296   \n",
      "1 -0.027695 -0.727696  0.970021 -1.492636  0.542504  0.696344  0.971459   \n",
      "2 -0.026910 -0.261166 -0.461467  1.319993 -0.732134  0.891651 -0.438601   \n",
      "3  0.109602 -0.555079 -0.536617  1.172015  0.252987  0.750018  0.519142   \n",
      "\n",
      "         14        15  \n",
      "0 -0.003124 -0.103365  \n",
      "1 -0.387985 -0.917916  \n",
      "2  0.081186 -0.111161  \n",
      "3 -0.921219 -0.509536  \n",
      "         0         1         2         3         4         5         6   \\\n",
      "0  0.709682 -0.273630 -0.147405 -1.025390 -0.293569  0.477101  0.277417   \n",
      "1  0.148284 -0.733671 -0.167913 -0.086439 -0.938397 -0.386886  1.359700   \n",
      "2 -0.369188  0.139508  1.188782  0.067063 -0.227223  0.486290 -0.650539   \n",
      "3  1.021224  0.320514 -0.683943  0.293574 -0.196365  0.373030  0.607946   \n",
      "\n",
      "         7         8         9         10        11        12        13  \\\n",
      "0 -0.342418  0.312834  0.755829  0.671780 -0.981681  0.850603 -1.105082   \n",
      "1  0.536268 -0.634472  0.635565 -0.940858 -0.143850 -1.049546 -0.510508   \n",
      "2 -0.498552 -0.274282  1.386890 -0.666490  0.556630 -1.083979 -0.835363   \n",
      "3 -0.506400 -1.316958  0.412467  1.153692  0.347024  0.765246  0.348109   \n",
      "\n",
      "         14        15  \n",
      "0  0.051614  1.158868  \n",
      "1 -0.344557 -1.766261  \n",
      "2 -0.730489  0.313774  \n",
      "3  0.896712  0.114765  \n",
      "         0         1         2         3         4         5         6   \\\n",
      "0 -0.104581 -0.203430  0.192190 -0.925528 -0.329674  1.244672  0.032591   \n",
      "1  0.093811  0.035353 -0.047135  0.229099  0.065938  0.621367  0.999071   \n",
      "2 -0.203290 -0.250659  0.613334  0.400741 -0.327725  0.142867 -1.421793   \n",
      "3  0.217542 -0.560710 -1.178020  0.433280  0.725574 -0.114360  0.666212   \n",
      "\n",
      "         7         8         9         10        11        12        13  \\\n",
      "0  0.670505 -0.496410 -0.007581  0.080872 -1.013698 -0.721075 -0.734997   \n",
      "1  0.906375  0.579780 -0.552670 -0.927104 -0.097223 -0.224663 -0.315657   \n",
      "2 -0.264705 -0.651124  0.318208 -0.148300  0.266626  1.072215 -0.665834   \n",
      "3  0.815644 -1.001315  1.263034  0.718733  0.672202 -0.096772 -0.278289   \n",
      "\n",
      "         14        15  \n",
      "0  0.510153  0.672391  \n",
      "1  0.694476 -0.724640  \n",
      "2 -1.316983 -0.239080  \n",
      "3 -0.423903  0.511913  \n",
      "         0         1         2         3         4         5         6   \\\n",
      "0  0.999121 -0.842240 -0.739864 -0.283877  0.067450 -0.109953 -0.018272   \n",
      "1 -0.372869  0.477852  0.085124  0.687110 -0.121935  0.188139  2.191073   \n",
      "2 -0.417329  1.058627  2.292462  0.979596 -0.407152 -0.535391 -1.394798   \n",
      "3  1.799687 -1.161865 -0.020230  1.252158  0.515950 -0.853054  1.129217   \n",
      "\n",
      "         7         8         9         10        11        12        13  \\\n",
      "0  0.205730 -0.397318  0.168375  0.089600 -0.273043  0.722018 -0.694701   \n",
      "1  1.170842 -0.464164  0.613654 -0.514483  0.014195 -1.151537 -0.540970   \n",
      "2  0.554889 -0.064928  0.641140 -0.403604 -0.861667 -0.370801 -0.509792   \n",
      "3  0.725719 -1.521782  0.458832  0.544944  1.404874  0.199108  0.307100   \n",
      "\n",
      "         14        15  \n",
      "0 -0.171929  0.047025  \n",
      "1  0.312297 -0.524671  \n",
      "2 -0.293865 -1.385768  \n",
      "3 -0.210286 -0.176938  \n",
      "         0         1         2         3         4         5         6   \\\n",
      "0  1.020859  0.187595 -0.918758 -0.455660 -0.115830  0.662738 -0.376931   \n",
      "1  0.088641  0.205497  0.287839  0.699588 -0.270392 -0.511974  1.307139   \n",
      "2  0.151922 -0.370141  0.318895 -0.624577 -0.653888  0.041835 -0.007777   \n",
      "3 -0.075215 -0.195973  0.222956 -0.008998 -0.553727 -1.269433  0.069204   \n",
      "\n",
      "         7         8         9         10        11        12        13  \\\n",
      "0  0.538591 -0.636012  0.435421  0.130229 -1.077107  0.657211 -0.226895   \n",
      "1  0.446596 -0.884107  0.465218 -1.761307 -0.231897  0.185659 -0.965460   \n",
      "2  0.002805  0.131072  0.449615  0.917296  0.023591 -0.242144  0.112643   \n",
      "3  0.583769 -1.407261  0.348527  0.115372  1.023288  0.022253  0.563165   \n",
      "\n",
      "         14        15  \n",
      "0  0.343379  0.620186  \n",
      "1  0.186734 -0.954459  \n",
      "2  0.038656 -0.668191  \n",
      "3 -0.263408  0.409678  \n",
      "         0         1         2         3         4         5         6   \\\n",
      "0 -0.352809 -0.188907 -1.088645  0.246337 -0.343982 -0.111402 -1.263062   \n",
      "1 -0.751134  1.241538 -0.005919  0.949722 -0.333730  1.274998  1.141314   \n",
      "2 -0.814106 -0.018514  0.425990 -0.203723 -0.855058  0.000056 -0.232142   \n",
      "3  1.265067 -1.329879  0.565086  0.813623 -0.164024 -0.652555 -0.097052   \n",
      "\n",
      "         7         8         9         10        11        12        13  \\\n",
      "0  0.894762  0.894658  0.549617  1.493048 -0.828864  1.195873 -0.658521   \n",
      "1  1.383849 -0.209810 -0.128782 -0.556762  0.200451  0.071227 -0.332236   \n",
      "2  0.547136 -0.379771 -0.673796 -0.353922  0.525507  0.830026 -0.838282   \n",
      "3  0.524169 -1.145926 -0.541697  0.010412  0.688215  0.599373 -0.531478   \n",
      "\n",
      "         14        15  \n",
      "0 -0.666480  0.008118  \n",
      "1 -0.181319 -0.118523  \n",
      "2 -0.575797 -0.287202  \n",
      "3  0.062892 -0.734907  \n",
      "         0         1         2         3         4         5         6   \\\n",
      "0 -0.267320  0.705056 -0.428358  1.961260 -1.013765 -0.428461 -0.237326   \n",
      "1 -1.055046 -0.757053  1.603425  0.513780 -0.267248 -0.576585  0.776393   \n",
      "2 -0.493263 -0.002500 -0.468690  0.190120 -0.309886 -0.638890 -0.329874   \n",
      "3  1.838749  0.579148 -0.562592  1.296859 -1.129089  0.842296  0.360010   \n",
      "\n",
      "         7         8         9         10        11        12        13  \\\n",
      "0  1.122809 -0.321550 -0.632445 -0.052769 -0.967826 -0.393016 -0.176102   \n",
      "1 -0.962956  0.409413 -0.175626 -0.046398  1.675709 -0.659650  1.565146   \n",
      "2  0.239048  0.471803 -1.201496  1.270322  0.874966 -0.157364 -0.442844   \n",
      "3 -0.498868 -0.839984  0.691889  1.073365  1.345983 -0.167900 -0.776815   \n",
      "\n",
      "         14        15  \n",
      "0  1.677718  0.188002  \n",
      "1 -0.079512  0.030276  \n",
      "2  0.590762 -0.637604  \n",
      "3  0.868542  0.377642  \n",
      "         0         1         2         3         4         5         6   \\\n",
      "0 -0.134933 -0.152225 -0.871415 -0.901244  0.110412 -0.214325 -0.415012   \n",
      "1  0.445906 -0.268653  0.036029 -1.025004 -0.906614  0.041240  1.674292   \n",
      "2  0.353557  0.150355  1.073217 -0.818355 -0.470663  0.204913  0.862678   \n",
      "3  0.860066  0.106748  0.437831 -0.079281  0.014932 -0.116571  0.837953   \n",
      "\n",
      "         7         8         9         10        11        12        13  \\\n",
      "0 -0.638684  0.141681  0.456703  0.951178 -1.082196 -0.412243 -0.331831   \n",
      "1  1.638386 -1.197556  0.908454 -0.956735  0.477892 -0.482770  0.060157   \n",
      "2  0.552742 -0.235743  1.368134 -0.337322  0.083073 -0.258985 -0.511359   \n",
      "3  0.165419 -0.124458 -0.347575  0.434951  0.170720  1.127883  0.056332   \n",
      "\n",
      "         14        15  \n",
      "0 -0.251249  2.087898  \n",
      "1  0.113267  0.451527  \n",
      "2 -1.628546 -0.549615  \n",
      "3 -0.280343  0.166011  \n",
      "         0         1         2         3         4         5         6   \\\n",
      "0  0.564368 -1.042758 -0.629682 -0.374148  0.121095 -0.484194 -0.236151   \n",
      "1 -0.414683  0.154238  0.570158  0.937118 -0.227254  0.149568  2.307782   \n",
      "2 -0.513862  0.573892  1.868396  0.512263  0.022165 -0.563437 -1.122368   \n",
      "3  1.747207 -1.154196  0.414132  1.124350  0.496671 -1.180860  0.786165   \n",
      "\n",
      "         7         8         9         10        11        12        13  \\\n",
      "0  0.518773 -0.298348 -0.113811 -0.150102 -0.224827  0.629229 -0.844136   \n",
      "1  0.851930 -0.304195  0.307444 -0.896335  0.052390 -1.034911 -0.528885   \n",
      "2  0.345838 -0.097807  0.130999 -0.414791 -0.953481 -0.708193 -0.353174   \n",
      "3  0.703708 -1.195659  0.315396  0.882567  0.951414  0.093686  0.297602   \n",
      "\n",
      "         14        15  \n",
      "0 -0.291626 -0.217145  \n",
      "1  0.247912 -0.405778  \n",
      "2  0.006338 -1.082522  \n",
      "3  0.133003 -0.394353  \n",
      "         0         1         2         3         4         5         6   \\\n",
      "0  0.311666  0.918453  0.097668 -1.336834  0.558517 -0.215218 -0.750490   \n",
      "1  0.023254  0.148068  0.094763  0.268344  0.121157  0.335761 -1.067802   \n",
      "2 -0.010860 -1.266815 -0.468027 -1.561352 -2.251977  1.287272 -0.706347   \n",
      "3 -0.246352  0.562933  0.146135  0.177805 -1.022601 -0.917465 -0.693076   \n",
      "\n",
      "         7         8         9         10        11        12        13  \\\n",
      "0 -0.392722 -0.015250 -0.016156 -0.328173 -0.237716  0.595635 -1.180325   \n",
      "1  0.278320  0.191232  0.432872 -1.353713 -0.711229 -0.336103 -0.570675   \n",
      "2 -0.116825 -0.657927 -0.196742  0.998710 -0.853919 -0.389960  0.268775   \n",
      "3  0.012839  0.313981  0.194312  0.531833 -0.759521 -0.356989  0.659603   \n",
      "\n",
      "         14        15  \n",
      "0  0.006895  0.099235  \n",
      "1 -0.556308 -1.035612  \n",
      "2 -0.047124 -0.151696  \n",
      "3 -0.322745 -0.123031  \n",
      "         0         1         2         3         4         5         6   \\\n",
      "0 -0.579049  0.657184 -0.020183  0.126366  0.193480  0.116327  0.870709   \n",
      "1  0.142688  1.109177  1.607607 -0.639838  0.755111  0.751775 -0.005817   \n",
      "2 -0.426085  1.732128  0.087477 -0.959917 -0.711302 -0.176613 -1.555893   \n",
      "3  1.007489  0.830456 -0.327381 -0.008404 -1.085346  1.067351  0.210372   \n",
      "\n",
      "         7         8         9         10        11        12        13  \\\n",
      "0  1.067026  0.152468 -0.617945  0.274723 -1.649772 -0.171250 -0.513552   \n",
      "1  1.313994 -0.064379  1.089938 -0.066831  0.770200 -0.184705  0.459228   \n",
      "2 -0.929091 -1.127327 -0.414311  0.473291  0.272146 -0.245096  0.149039   \n",
      "3  1.275165 -0.971411  0.840622 -0.725435  1.522811  0.217549 -1.132232   \n",
      "\n",
      "         14        15  \n",
      "0  0.942220 -0.910181  \n",
      "1 -0.485322 -0.444739  \n",
      "2  0.556029 -0.791169  \n",
      "3  0.245737 -1.416680  \n",
      "         0         1         2         3         4         5         6   \\\n",
      "0  0.356289 -0.281370 -0.560771 -0.476563  0.138186 -0.897714 -0.036099   \n",
      "1  0.753132 -0.466915 -1.368349  0.343394 -0.211360 -0.388915  0.641651   \n",
      "2  0.214679 -0.925581  0.934543 -0.421319 -0.335824  0.577288 -0.604304   \n",
      "3 -1.140252  0.705120  0.062708 -0.336459 -1.207548 -1.236698  0.905203   \n",
      "\n",
      "         7         8         9         10        11        12        13  \\\n",
      "0  0.731989  1.274712  0.612493 -0.170826 -0.223669  0.574676 -1.302982   \n",
      "1  1.002717  0.689967  0.793351 -0.514935  0.261816 -0.400707  0.799682   \n",
      "2  0.347143 -0.264110 -1.156274  1.240662  0.437888  0.152161 -0.165083   \n",
      "3  0.398625 -0.984265 -0.480370  0.348282  1.405987 -0.057113  0.223460   \n",
      "\n",
      "         14        15  \n",
      "0  0.939568 -0.169735  \n",
      "1 -0.024260 -0.120216  \n",
      "2  0.581283 -0.121709  \n",
      "3 -0.453583  0.319217  \n",
      "         0         1         2         3         4         5         6   \\\n",
      "0  0.083007 -0.265619 -1.102729 -1.225590  1.866600 -0.939685  0.273902   \n",
      "1 -0.644987 -0.678994  0.380224  2.618486 -0.106581  0.648300  0.548744   \n",
      "2 -0.274172 -0.473537  0.552266  0.509205 -0.257187 -0.151416  0.246844   \n",
      "3 -0.053257 -0.209616  0.775428  1.009975  0.906923 -0.684511  0.466758   \n",
      "\n",
      "         7         8         9         10        11        12        13  \\\n",
      "0  0.965382  0.974084  0.398402 -0.593071 -0.334009 -0.438633 -0.602062   \n",
      "1  0.112374  0.789889 -0.418213 -0.267111 -0.044592 -0.975637  0.006156   \n",
      "2  0.381298  0.366709 -0.571631 -0.416963  0.966669 -0.667843  0.377543   \n",
      "3 -0.633102  0.193600 -0.332744  0.572192  0.013921 -0.361259  0.736451   \n",
      "\n",
      "         14        15  \n",
      "0  1.246960 -0.830555  \n",
      "1  0.060988 -0.172888  \n",
      "2  0.435086  0.222977  \n",
      "3  0.864893 -0.364516  \n",
      "         0         1         2         3         4         5         6   \\\n",
      "0  0.316729  0.932064 -0.274703  2.163635 -1.268934 -0.229150  0.376468   \n",
      "1 -0.942991 -0.292661  1.856444  0.686689 -0.264679 -0.815222  0.606078   \n",
      "2 -0.132413 -0.170260 -0.304729  0.145898  0.010778 -0.806177 -0.130795   \n",
      "3  2.118833  1.197343 -0.527919  1.493532 -1.191385  0.911256  0.165854   \n",
      "\n",
      "         7         8         9         10        11        12        13  \\\n",
      "0  0.960374 -0.309809 -1.061536 -0.523055 -0.198702 -0.413713  0.091205   \n",
      "1 -1.218604  0.306462  0.286561 -0.192459  2.189530 -1.471945  1.992848   \n",
      "2 -0.283824  0.500883 -1.121130  1.642347  0.799599 -0.453800 -0.495965   \n",
      "3 -0.420214 -0.691131  0.598605  1.097894  0.990595 -0.272825 -0.375723   \n",
      "\n",
      "         14        15  \n",
      "0  1.889649 -0.294452  \n",
      "1 -0.196752  0.159812  \n",
      "2  0.908169 -0.580697  \n",
      "3  1.337255  0.515241  \n",
      "         0         1         2         3         4         5         6   \\\n",
      "0  0.120159  0.520051 -0.803454  1.217581 -0.372796  0.378185 -0.422707   \n",
      "1  0.198330 -0.647614 -0.016507  0.446517 -0.406720 -0.665901  1.741215   \n",
      "2 -0.034069  0.377664  0.632631  0.194001 -0.004070 -0.152008 -0.948585   \n",
      "3  1.593964  0.421025 -0.551170 -0.483596 -0.903662 -0.102145  0.510436   \n",
      "\n",
      "         7         8         9         10        11        12        13  \\\n",
      "0  1.200168 -0.299620 -0.218931 -0.208351 -0.147785  0.509245 -0.909069   \n",
      "1 -0.794279 -0.396430  0.253625 -0.719273  0.445835 -1.567488 -0.288831   \n",
      "2  0.899938  0.322810 -0.405194 -0.466176  0.219167  0.670856 -0.695005   \n",
      "3  0.792232  0.044155  0.139392  1.149440  0.202033  0.543416 -0.367716   \n",
      "\n",
      "         14        15  \n",
      "0  0.723803 -0.514873  \n",
      "1 -0.994382 -0.110288  \n",
      "2 -0.500540  0.435997  \n",
      "3  0.539969 -0.409260  \n",
      "         0         1         2         3         4         5         6   \\\n",
      "0  0.914781 -0.925638 -0.667016 -0.401296 -0.406028 -0.302619  0.307947   \n",
      "1 -0.292823  0.787843  0.123922  0.778168 -0.415657  0.046546  2.043027   \n",
      "2  0.066264  0.688149  2.341530  0.453790  0.212193 -1.190717 -1.069825   \n",
      "3  2.205134 -0.671065  0.553632  1.233973  0.457603 -0.708290  0.861322   \n",
      "\n",
      "         7         8         9         10        11        12        13  \\\n",
      "0  0.379493 -0.388462 -0.143561 -0.182514  0.166269  0.566161 -0.464378   \n",
      "1  0.619031 -0.689407  0.650525 -0.792097  0.404628 -1.427404 -0.044014   \n",
      "2  0.127660  0.021434  0.050333 -0.127368 -0.891324 -0.716928 -0.483544   \n",
      "3  0.699674 -1.020331  0.247581  0.680972  0.789632  0.167668  0.801498   \n",
      "\n",
      "         14        15  \n",
      "0  0.107508 -0.328814  \n",
      "1  0.116962 -0.142760  \n",
      "2  0.218792 -0.995261  \n",
      "3 -0.129741  0.086125  \n",
      "         0         1         2         3         4         5         6   \\\n",
      "0  0.372924  0.379397 -0.245866 -0.031554 -1.238656  0.639288  0.411452   \n",
      "1  0.196207  0.875231  0.054495 -0.247264 -0.830128 -0.300917  1.785617   \n",
      "2  0.010823  0.534023  1.082092 -0.101540  0.130877 -0.319337 -0.401689   \n",
      "3  0.958375  0.586327  0.061322  1.220002  0.145695 -0.371719 -0.495122   \n",
      "\n",
      "         7         8         9         10        11        12        13  \\\n",
      "0  0.495036 -1.088180 -0.972947  0.133158  0.160825 -0.047072  0.237101   \n",
      "1 -0.379483  0.497405  0.710632 -1.014133  1.391068 -0.379076  0.119350   \n",
      "2  0.395163 -0.534805 -0.249027  0.936822  0.279497  0.209733 -0.976436   \n",
      "3  0.233941 -0.253577 -0.190337 -0.167242  0.494905  0.218207 -0.060703   \n",
      "\n",
      "         14        15  \n",
      "0  0.398141 -0.233881  \n",
      "1 -0.467079  0.523597  \n",
      "2  0.181292  0.006344  \n",
      "3 -0.760434  0.189557  \n",
      "         0         1         2         3         4         5         6   \\\n",
      "0 -1.545401  1.389479 -0.228721 -0.166493  0.214010 -0.446266 -1.140574   \n",
      "1 -0.533912 -0.035727  0.866263 -1.237456 -1.212830  0.615745  0.165462   \n",
      "2 -0.090743  0.243356 -0.726434  0.139877 -1.500835  0.583212 -1.466196   \n",
      "3  0.690607  0.498765  0.066380 -0.363187 -0.726830 -0.383518 -0.316350   \n",
      "\n",
      "         7         8         9         10        11        12        13  \\\n",
      "0  0.693837 -0.085803 -0.379618  0.895954 -2.009493 -0.280596 -1.360490   \n",
      "1  0.857255  0.741588  0.167862 -0.598451  0.285201 -0.859123 -0.629071   \n",
      "2 -0.479946 -0.736310 -0.860703  1.442133  0.072947  0.297710  0.305666   \n",
      "3  1.575309 -0.111104  0.655199  0.024433  0.765309  1.068173 -2.022178   \n",
      "\n",
      "         14        15  \n",
      "0 -0.358722  0.963721  \n",
      "1 -0.751652  0.742755  \n",
      "2 -0.430059 -1.301680  \n",
      "3 -1.111169 -0.064336  \n",
      "         0         1         2         3         4         5         6   \\\n",
      "0  0.084985  1.086164 -0.482068  1.788304 -1.019888 -0.161997 -0.007969   \n",
      "1 -0.894698 -0.439612  1.748763  0.320770  0.020003 -0.602290  0.934181   \n",
      "2 -0.313128  0.310325 -0.242064  0.426724 -0.563252 -0.282880 -0.685241   \n",
      "3  1.981375  0.994181 -0.973196  1.602156 -1.151763  1.097640  0.170007   \n",
      "\n",
      "         7         8         9         10        11        12        13  \\\n",
      "0  0.826718 -0.765670 -0.665448 -0.343080 -0.873441 -0.254489  0.140724   \n",
      "1 -1.027866  0.107749  0.185836  0.113612  1.739936 -0.970148  1.684704   \n",
      "2 -0.011035  0.271150 -0.951933  1.306705  0.541068 -0.081252 -0.646642   \n",
      "3 -0.278025 -0.814432  0.988849  1.048071  1.451038 -0.285163 -0.874378   \n",
      "\n",
      "         14        15  \n",
      "0  1.923583  0.411249  \n",
      "1  0.093241 -0.276791  \n",
      "2  0.405197 -1.016479  \n",
      "3  0.793140  0.543707  \n",
      "         0         1         2         3         4         5         6   \\\n",
      "0 -0.876473  0.541689 -1.050904 -0.476346  0.025382  0.269451 -0.052993   \n",
      "1  0.943219 -0.851680 -0.457112  0.507380 -0.754050  0.861033  0.717873   \n",
      "2 -0.196883 -1.178547  0.966405  0.431122 -0.885027  0.531075 -1.318421   \n",
      "3  0.583384  0.651970 -1.073117  1.015227 -0.141286 -0.205352  0.408642   \n",
      "\n",
      "         7         8         9         10        11        12        13  \\\n",
      "0 -0.321138 -0.164012 -0.099369  0.265785 -1.006122 -0.008323 -1.167418   \n",
      "1  1.173727 -0.353629  0.983272 -0.721284 -1.118410  0.172221 -0.061830   \n",
      "2 -0.802776 -0.314785 -1.343919  0.975178  0.709691 -0.486125  0.482549   \n",
      "3 -0.123840 -0.271862  0.771164  1.221626  0.687428 -0.373804 -0.281991   \n",
      "\n",
      "         14        15  \n",
      "0  0.276611  0.862322  \n",
      "1  0.644528 -0.548856  \n",
      "2 -0.627761 -0.910279  \n",
      "3 -0.522619 -1.002787  \n",
      "         0         1         2         3         4         5         6   \\\n",
      "0 -0.881634  0.273899 -0.569688 -0.014983  1.076070 -0.238405 -0.385123   \n",
      "1  0.010636 -0.336118  0.431080 -0.297394 -0.130105  1.065996  1.525924   \n",
      "2  0.255919  0.418582  1.091579 -0.409550 -0.157687 -0.040730 -0.278253   \n",
      "3  0.095807 -0.634828 -0.849747  0.654452  1.353950  0.148538 -0.118311   \n",
      "\n",
      "         7         8         9         10        11        12        13  \\\n",
      "0 -0.404342  0.514338  1.347983  1.048783 -1.090068  0.053973 -1.057471   \n",
      "1  1.842771 -0.388495 -0.242551 -1.557789 -0.702414 -0.418976 -0.265389   \n",
      "2  0.593783 -0.207236  0.680592 -0.235156 -0.153160 -0.448562  0.289430   \n",
      "3  0.056548 -0.291489  1.061106 -0.786969  0.330285  1.146590 -0.256939   \n",
      "\n",
      "         14        15  \n",
      "0 -0.209666  0.518376  \n",
      "1 -0.174740 -0.491695  \n",
      "2 -0.427989 -0.580270  \n",
      "3  0.209714 -0.053516  \n",
      "         0         1         2         3         4         5         6   \\\n",
      "0  0.847693  1.356187 -0.180915  0.192363 -0.111401 -0.039127 -0.890300   \n",
      "1 -0.768782 -0.045600  0.435508  0.488722  0.501422  0.218671 -0.065287   \n",
      "2 -1.470899  0.390283  0.417560  0.556059 -0.903177 -0.733866 -0.157211   \n",
      "3  0.529957 -1.077349 -1.236052 -0.077112 -0.303617 -1.265001  0.485779   \n",
      "\n",
      "         7         8         9         10        11        12        13  \\\n",
      "0  0.812199  0.452428 -0.211033  0.653429 -0.540408 -0.599359 -1.000968   \n",
      "1 -0.313993  0.668700  0.407407 -0.305864  0.673350 -1.469678 -0.800861   \n",
      "2  0.800780 -0.066695  0.356200  0.618703  0.094533  0.075331 -1.479832   \n",
      "3  1.053904 -0.837656  0.022807 -0.080624  0.972119 -0.388541 -0.478568   \n",
      "\n",
      "         14        15  \n",
      "0 -1.031354  0.334016  \n",
      "1  0.607705  0.156595  \n",
      "2 -1.667102 -0.506421  \n",
      "3  1.040161  0.510617  \n",
      "         0         1         2         3         4         5         6   \\\n",
      "0 -0.006481 -0.985137 -0.493005  0.354589  0.045836 -0.263499 -0.324851   \n",
      "1 -0.387687 -0.442131  0.851795  0.119102 -0.655681  0.130314 -0.067518   \n",
      "2 -0.285217 -0.553130  0.717856  0.581939 -0.020105  0.190135  0.452446   \n",
      "3 -0.429873  0.016715 -0.315763  0.147563 -0.611180 -0.980736  0.774800   \n",
      "\n",
      "         7         8         9         10        11        12        13  \\\n",
      "0  1.073104  0.660192  0.331436  0.824624 -1.161306  0.991861 -1.195645   \n",
      "1  0.094008  0.624370  0.838601  0.646226 -0.325991 -0.592699 -1.027274   \n",
      "2  0.067484 -0.016233 -0.955029 -0.426129  0.421111  0.197705 -0.260391   \n",
      "3  0.689538  0.217587 -0.553411  0.047762  0.619114  0.431709 -0.830573   \n",
      "\n",
      "         14        15  \n",
      "0 -0.745119  0.448194  \n",
      "1 -0.608446 -0.518466  \n",
      "2 -0.057193  0.317621  \n",
      "3 -0.370928  0.099041  \n",
      "         0         1         2         3         4         5         6   \\\n",
      "0 -0.868181  0.289525  0.117693  0.250160  0.284265  0.435381 -0.464469   \n",
      "1  0.094382 -0.507719 -0.173278  1.055295 -0.521477  0.094320  1.602590   \n",
      "2  0.277608  0.451940  0.067847  0.800304  0.104992 -0.648772 -0.585902   \n",
      "3  1.453006 -0.342365  0.221839  0.172271 -0.154862 -0.710912 -0.489543   \n",
      "\n",
      "         7         8         9         10        11        12        13  \\\n",
      "0  0.873068  0.323063  0.312984  0.336823 -0.398125 -0.038517 -0.522389   \n",
      "1  0.421228  0.845010 -0.341751 -0.935340  0.461477 -0.209240  0.358422   \n",
      "2 -0.569581 -1.751973  0.308918 -0.023885  1.103197  0.677561 -0.981746   \n",
      "3  0.436161 -0.960087  0.210997  1.225495  1.378359  0.778762  0.181993   \n",
      "\n",
      "         14        15  \n",
      "0  1.100972  0.356750  \n",
      "1 -0.300984 -0.101001  \n",
      "2 -0.126203 -0.964185  \n",
      "3  0.113104  0.528805  \n",
      "         0         1         2         3         4         5         6   \\\n",
      "0 -0.320684  0.002388 -0.168931  0.495968  0.587251 -0.216314 -0.662565   \n",
      "1 -0.739213  0.810457  0.222360 -0.234129  0.248061  0.407784  0.730153   \n",
      "2 -0.676273 -0.533435 -0.425104 -1.571109 -1.315445  0.107176 -0.630315   \n",
      "3 -0.261759 -0.498355 -0.077838 -1.090199 -0.805496 -1.467323  0.127239   \n",
      "\n",
      "         7         8         9         10        11        12        13  \\\n",
      "0  0.731289  0.360318  0.282925  0.423938 -0.215905  0.850986 -0.968694   \n",
      "1  1.188321 -0.905378 -0.675461 -1.321813  0.138226  0.258612  0.463679   \n",
      "2  0.696229  0.038373  0.066099 -0.743311 -0.951947  0.008586 -1.080477   \n",
      "3  1.227595 -0.503816 -0.185527  1.296148 -0.984820 -0.873163 -0.451768   \n",
      "\n",
      "         14        15  \n",
      "0  0.142005  0.590352  \n",
      "1  0.699000 -0.502283  \n",
      "2 -0.905369 -1.605167  \n",
      "3  1.023669  0.833455  \n",
      "         0         1         2         3         4         5         6   \\\n",
      "0 -0.413419 -0.394867 -1.715618 -0.500125  0.061276 -0.834552 -0.425407   \n",
      "1 -0.536303 -0.352506  0.458108  1.431417 -1.402464  0.981932  0.700947   \n",
      "2  0.704769 -0.379345  0.759449 -1.499925 -0.633344 -0.178149 -0.366507   \n",
      "3  0.661639 -0.068629 -0.087071  1.601740  0.351856 -1.053293 -0.880730   \n",
      "\n",
      "         7         8         9         10        11        12        13  \\\n",
      "0  0.011316  0.478676 -0.555596 -0.338426  0.732024 -0.502472 -0.274328   \n",
      "1  0.364030 -0.607533  0.900461 -0.263923 -0.846828 -0.571669 -0.126445   \n",
      "2 -0.101927  1.269953 -0.241532  0.609893 -0.460254 -0.927697 -0.195849   \n",
      "3 -1.136157 -0.040128  0.465937  0.300271  0.305855 -0.267589  0.626274   \n",
      "\n",
      "         14        15  \n",
      "0 -0.071344  0.273954  \n",
      "1 -0.448693 -0.246942  \n",
      "2  0.071714  0.483601  \n",
      "3  0.346043 -1.388940  \n",
      "         0         1         2         3         4         5         6   \\\n",
      "0  0.563193  1.137897  0.321570  0.093678 -0.678134 -0.507597  0.121135   \n",
      "1  0.865573  0.608575 -0.052176  0.523396 -0.317232  0.274791  0.605367   \n",
      "2 -0.228044 -0.658859  0.040128  0.423409 -0.325079 -0.047089 -0.247942   \n",
      "3  0.226928  1.247558 -0.555790  0.686243 -0.454157 -0.165724 -0.868833   \n",
      "\n",
      "         7         8         9         10        11        12        13  \\\n",
      "0  0.155775 -0.132871 -0.292735  0.545614 -0.482861 -0.541073 -0.761031   \n",
      "1  0.081690  0.353229  0.558910 -0.189676  0.163414 -0.834870  0.021005   \n",
      "2 -0.689226  0.567897 -0.131913  1.676576 -0.090978 -0.666355 -0.887595   \n",
      "3 -0.139840 -1.012871  0.189303 -0.245767  0.525718 -0.202174  0.070914   \n",
      "\n",
      "         14        15  \n",
      "0 -0.516924  0.625114  \n",
      "1 -0.335297  0.179656  \n",
      "2  0.014374 -0.119363  \n",
      "3  0.255091  0.073829  \n",
      "         0         1         2         3         4         5         6   \\\n",
      "0 -0.513180  0.219387 -0.070432 -0.087782  0.725156 -0.403858 -0.250426   \n",
      "1 -0.499305  0.081906 -0.349404  1.241456 -0.131322  1.048980  1.154049   \n",
      "2  0.641087 -0.273000  0.270110 -0.494907  0.144400  0.253132 -1.306640   \n",
      "3 -0.236381  1.059628 -0.463664  0.121534 -0.762116 -0.622196  0.289728   \n",
      "\n",
      "         7         8         9         10        11        12        13  \\\n",
      "0  0.214103  0.364208  0.172531 -0.431054  1.058835 -0.078830 -0.897183   \n",
      "1  0.905612 -0.676811  0.102537 -0.774338 -1.005464 -0.981305  0.030038   \n",
      "2  0.486500 -0.287353  0.330325  0.123146 -0.527838 -0.540887 -0.313879   \n",
      "3  0.732048 -0.711766  0.852112  0.610958  0.247452  0.107192 -0.295677   \n",
      "\n",
      "         14        15  \n",
      "0  0.379877 -0.216193  \n",
      "1 -0.751128 -0.150429  \n",
      "2 -0.585172 -0.834743  \n",
      "3  0.238643 -0.621279  \n",
      "         0         1         2         3         4         5         6   \\\n",
      "0 -0.252825  0.583235 -0.263153  0.080241  0.448953 -0.291858  0.559475   \n",
      "1 -0.433704  1.048199 -0.048201  0.204725 -0.371102 -0.301458  0.727088   \n",
      "2 -0.018813 -1.383792  1.361624 -0.444186 -1.004419 -0.831147  0.424141   \n",
      "3  0.627195  0.092846 -0.711406  0.451086 -0.442866 -1.471683 -0.217272   \n",
      "\n",
      "         7         8         9         10        11        12        13  \\\n",
      "0  0.774914 -0.105876 -0.438837  0.968646  0.330794  0.620802 -0.643043   \n",
      "1  0.898895 -0.097826 -0.408367 -1.905471  0.868938  0.224816 -0.292513   \n",
      "2  0.235229 -0.327306 -0.407548 -0.156527  0.353272  0.402841 -0.832688   \n",
      "3  0.392213  0.369481 -0.226096  0.004448 -0.731199 -0.003552  1.106284   \n",
      "\n",
      "         14        15  \n",
      "0 -0.489555  0.316935  \n",
      "1  0.393090  0.131612  \n",
      "2 -0.780281  0.797094  \n",
      "3  0.276152  0.161816  \n",
      "         0         1         2         3         4         5         6   \\\n",
      "0 -0.497650  0.321848  0.862198 -0.042318 -1.176230  1.829425  1.063548   \n",
      "1 -0.121409  1.373253 -0.415236 -0.737049 -0.469749  0.700438 -0.325618   \n",
      "2 -0.156393  0.633114  0.904316 -0.122971 -0.797939 -1.002846  0.931772   \n",
      "3  0.011499  0.152565 -0.732522  0.830020  0.056916 -0.232420  0.621989   \n",
      "\n",
      "         7         8         9         10        11        12        13  \\\n",
      "0  0.187398 -0.062126 -0.689550  2.307795 -1.961337 -0.414091 -1.667514   \n",
      "1  0.846756 -0.727307  1.864141 -0.294340  0.227019 -1.164726 -0.898769   \n",
      "2 -0.144106 -0.876502 -0.054475  1.483111  0.948250 -0.605060  0.943855   \n",
      "3  0.866948  0.025889  0.227805 -0.807019 -0.834711  0.994560  0.341734   \n",
      "\n",
      "         14        15  \n",
      "0 -0.221108  0.130204  \n",
      "1 -1.233858  0.056556  \n",
      "2 -1.077300  0.270504  \n",
      "3 -1.988475  0.579404  \n",
      "         0         1         2         3         4         5         6   \\\n",
      "0 -0.161365  0.307434 -0.547242 -0.004989 -1.115990  0.249688 -0.678848   \n",
      "1  1.329596 -0.410371  1.162922  0.490529 -0.495783 -0.730662  1.669852   \n",
      "2  0.197649 -0.688527  1.792168 -0.533608 -0.920887 -0.525078 -0.995404   \n",
      "3  0.393631  1.321000  0.331741 -0.258483 -0.414255 -0.357377  0.446436   \n",
      "\n",
      "         7         8         9         10        11        12        13  \\\n",
      "0  0.576040 -0.770527  0.189219 -0.818937 -0.016224  0.856902 -1.316363   \n",
      "1  0.096294 -0.446007  1.709031 -1.604316 -0.348793 -1.201436  0.236049   \n",
      "2  0.350325 -0.984667 -0.151053  0.504302  0.044161  0.326545 -0.891372   \n",
      "3  0.682403 -0.464913  0.148372  0.901242  0.144642 -0.405920 -0.192989   \n",
      "\n",
      "         14        15  \n",
      "0 -0.103520 -0.102172  \n",
      "1 -0.661368 -0.805073  \n",
      "2 -0.588766  0.102538  \n",
      "3 -0.107609 -0.715803  \n",
      "         0         1         2         3         4         5         6   \\\n",
      "0  0.380726  0.437265 -0.100765  0.131688 -1.414548  0.896340  0.542783   \n",
      "1  0.235961  0.728648  0.140284 -0.351988 -0.892569 -0.528896  1.951025   \n",
      "2 -0.117611  0.488803  1.108198  0.075274  0.357070 -0.294993 -0.367192   \n",
      "3  1.100497  0.572395 -0.131849  1.293718  0.178273 -0.267872 -0.557320   \n",
      "\n",
      "         7         8         9         10        11        12        13  \\\n",
      "0  0.559833 -1.123453 -1.080103  0.096552  0.100562 -0.114396  0.056737   \n",
      "1 -0.329541  0.587025  0.918787 -1.029409  1.561160 -0.631059  0.071465   \n",
      "2  0.179209 -0.641264 -0.049924  0.905162  0.344583  0.206715 -0.934447   \n",
      "3  0.265740 -0.332362 -0.182438 -0.119081  0.488515  0.374716 -0.023554   \n",
      "\n",
      "         14        15  \n",
      "0  0.383765 -0.247755  \n",
      "1 -0.603151  0.487318  \n",
      "2  0.180517  0.053657  \n",
      "3 -0.584332  0.212490  \n",
      "         0         1         2         3         4         5         6   \\\n",
      "0  0.906979 -0.983506 -0.812117 -0.564538 -0.230136 -0.559671  0.176615   \n",
      "1 -0.332577  0.934427  0.038132  0.882891 -0.353215  0.274525  1.877618   \n",
      "2  0.194698  0.733369  2.315425  0.276976 -0.013999 -1.215062 -1.104322   \n",
      "3  2.063012 -0.657133  0.746803  1.160257  0.425024 -0.812138  0.923519   \n",
      "\n",
      "         7         8         9         10        11        12        13  \\\n",
      "0  0.314696 -0.353188 -0.036405 -0.145908  0.226532  0.633485 -0.284014   \n",
      "1  0.569089 -0.779027  0.442370 -0.776821  0.234536 -1.175422  0.003870   \n",
      "2  0.343614  0.127894 -0.148770 -0.095708 -0.956409 -0.713910 -0.525532   \n",
      "3  0.667875 -0.941545  0.239683  0.632811  0.796022  0.011159  0.764349   \n",
      "\n",
      "         14        15  \n",
      "0  0.121884 -0.314941  \n",
      "1  0.253033 -0.106481  \n",
      "2  0.219567 -1.042574  \n",
      "3 -0.305843  0.063192  \n",
      "torch.Size([4, 16, 4, 16])\n"
     ]
    }
   ],
   "source": [
    "# Define Query, Key, Value weight matrices\n",
    "Wq = nn.Linear(d_model, d_model)\n",
    "Wk = nn.Linear(d_model, d_model)\n",
    "Wv = nn.Linear(d_model, d_model)\n",
    "\n",
    "Q = Wq(query) #[4, 16, 64]\n",
    "Q = Q.view(batch_size, -1, num_heads, d_model // num_heads)  #[4, 16, 4, 16]\n",
    "\n",
    "K = Wk(key) #[4, 16, 64]\n",
    "K = K.view(batch_size, -1, num_heads, d_model // num_heads)  #[4, 16, 4, 16]\n",
    "\n",
    "V = Wv(value) #[4, 16, 64]\n",
    "V = V.view(batch_size, -1, num_heads, d_model // num_heads)  #[4, 16, 4, 16]\n",
    "\n",
    "# print(torch.round(Q[0] * 100) / 100)\n",
    "\n",
    "# 大Q是 [4, 16, 4, 16] [batch_size, context_length, num_heads, head_size]\n",
    "# 这个则是遍历每个4头, 16维度\n",
    "qqq = Q.detach().cpu().numpy()\n",
    "for qs in qqq:\n",
    "    for qss in qs:\n",
    "        print(pd.DataFrame(qss))\n",
    "\n",
    "print(Q.shape) # [4, 16, 4, 16] [batch_size, context_length, num_heads, head_size]"
   ],
   "metadata": {
    "collapsed": false,
    "ExecuteTime": {
     "end_time": "2024-02-09T04:28:52.125568Z",
     "start_time": "2024-02-09T04:28:51.769196Z"
    }
   },
   "id": "37ba89375b2f44ca",
   "execution_count": 24
  },
  {
   "cell_type": "code",
   "outputs": [],
   "source": [
    "# Transpose q,k,v from [batch_size, context_length, num_heads, head_size] to [batch_size, num_heads, context_length, head_size]\n",
    "# The reason is that treat each batch with \"num_heads\" as its first dimension.\n",
    "# 变成可以相乘的格式 [4, 4, 16, 16]\n",
    "Q = Q.transpose(1, 2) # [4, 4, 16, 16]\n",
    "K = K.transpose(1, 2) # [4, 4, 16, 16]\n",
    "V = V.transpose(1, 2) # [4, 4, 16, 16]"
   ],
   "metadata": {
    "collapsed": false,
    "ExecuteTime": {
     "end_time": "2024-02-09T04:29:30.525962Z",
     "start_time": "2024-02-09T04:29:30.508654Z"
    }
   },
   "id": "a6b2187b2d310a2e",
   "execution_count": 25
  },
  {
   "cell_type": "code",
   "outputs": [
    {
     "data": {
      "text/plain": "          0         1         2         3         4         5         6   \\\n0   0.783758 -0.800027  0.097881  0.558044  0.093322  0.419487 -0.020636   \n1   0.417098 -0.083625  0.217405  0.305349 -0.068498 -0.217199 -0.124063   \n2   0.633160  0.010264  0.782662  1.142204 -0.402291  0.363256  0.300339   \n3  -0.490519 -1.555948 -0.331149 -1.385174 -0.734437 -0.550090  0.339611   \n4   0.039042 -0.757775  0.213303 -1.276437 -0.236787  0.174761 -0.267179   \n5   0.149632 -0.165684  0.003635 -0.542982 -0.290855  0.217865 -0.623345   \n6  -1.072544 -0.447136 -0.715886 -0.809838 -1.023454 -1.281885 -0.260637   \n7  -0.067681 -0.016418 -0.142634  0.880122 -0.278064 -0.381162 -0.481150   \n8   0.275872 -0.657136  0.621649  0.443326 -0.647256  0.138881  0.273014   \n9  -1.154914 -1.060322  0.070129 -2.005704 -0.340879  0.006452 -0.516524   \n10  0.462986 -0.242140  0.428494 -0.077711  0.063651  0.340449  0.149723   \n11  0.256809  0.209588  0.128667  0.128126  0.265829 -0.104857 -0.029229   \n12  0.136120 -0.659385 -0.558449  0.547255 -1.302176 -0.905248 -0.330320   \n13  0.315458 -0.407935  0.076145 -0.230943 -0.003271  0.153768  0.353453   \n14  0.382615 -0.827783 -0.612955  0.274298 -0.602294 -0.033735 -0.298912   \n15  0.242256 -0.036025  0.716439  0.760024 -0.305938  0.424441  0.201023   \n\n          7         8         9         10        11        12        13  \\\n0  -0.081276  0.854902  0.317501  1.011674  0.339946  0.099766  0.104337   \n1  -1.098769  0.348238  0.026739  0.516757  0.080695 -0.297324 -0.216589   \n2  -0.006741  0.984101 -0.170208  0.492895 -0.212691 -0.335634 -0.192375   \n3  -0.554787 -0.238882  0.097718 -0.547627  0.643054 -0.845279 -0.108797   \n4  -0.480166  0.456374  0.186741  0.330652 -0.250169 -1.109757  0.204027   \n5  -0.213117  0.423507 -0.146518  0.424011 -0.531105 -0.806474  0.190945   \n6  -0.694678 -1.971356 -0.397254 -1.338733 -0.208409 -0.803399 -0.103625   \n7   0.034148 -0.106365 -0.082271 -0.043824  0.137786 -0.465169  0.063286   \n8  -0.072337  0.557288 -0.134265 -0.217485 -0.223327 -0.892498 -0.540514   \n9  -0.576408 -0.471464 -0.541664 -0.626952 -0.146389 -0.956262 -0.204767   \n10  0.018689  0.699365  0.176503  0.472117 -0.453401 -0.913865 -0.094353   \n11  0.126961 -0.253341  0.121937 -0.006069 -0.323171 -0.544543  0.180423   \n12 -0.436573  0.301375 -0.147871  0.162557  0.462639 -0.889565  0.705768   \n13  0.248994  0.396133  0.314044  0.145591 -0.026155 -0.325950  0.061616   \n14  0.255119  0.521831  0.132319  0.634445  1.147557  0.553819  0.609416   \n15  0.017697  0.729210 -0.161808  0.252389  0.166042 -0.061226 -0.111659   \n\n          14        15  \n0   0.381969  0.267121  \n1  -0.022026  0.736859  \n2  -0.685408  0.789993  \n3  -0.382914  0.214394  \n4  -0.377855  0.590378  \n5  -0.359318  0.150702  \n6  -0.694321 -0.627801  \n7  -0.201281 -0.256657  \n8  -1.084838  0.833426  \n9  -0.767421  0.113819  \n10 -0.565274  0.477453  \n11 -0.367898 -0.083169  \n12 -0.130636  0.071130  \n13 -0.184962 -0.002755  \n14  0.810864 -0.253809  \n15 -0.501311  0.637112  ",
      "text/html": "<div>\n<style scoped>\n    .dataframe tbody tr th:only-of-type {\n        vertical-align: middle;\n    }\n\n    .dataframe tbody tr th {\n        vertical-align: top;\n    }\n\n    .dataframe thead th {\n        text-align: right;\n    }\n</style>\n<table border=\"1\" class=\"dataframe\">\n  <thead>\n    <tr style=\"text-align: right;\">\n      <th></th>\n      <th>0</th>\n      <th>1</th>\n      <th>2</th>\n      <th>3</th>\n      <th>4</th>\n      <th>5</th>\n      <th>6</th>\n      <th>7</th>\n      <th>8</th>\n      <th>9</th>\n      <th>10</th>\n      <th>11</th>\n      <th>12</th>\n      <th>13</th>\n      <th>14</th>\n      <th>15</th>\n    </tr>\n  </thead>\n  <tbody>\n    <tr>\n      <th>0</th>\n      <td>0.783758</td>\n      <td>-0.800027</td>\n      <td>0.097881</td>\n      <td>0.558044</td>\n      <td>0.093322</td>\n      <td>0.419487</td>\n      <td>-0.020636</td>\n      <td>-0.081276</td>\n      <td>0.854902</td>\n      <td>0.317501</td>\n      <td>1.011674</td>\n      <td>0.339946</td>\n      <td>0.099766</td>\n      <td>0.104337</td>\n      <td>0.381969</td>\n      <td>0.267121</td>\n    </tr>\n    <tr>\n      <th>1</th>\n      <td>0.417098</td>\n      <td>-0.083625</td>\n      <td>0.217405</td>\n      <td>0.305349</td>\n      <td>-0.068498</td>\n      <td>-0.217199</td>\n      <td>-0.124063</td>\n      <td>-1.098769</td>\n      <td>0.348238</td>\n      <td>0.026739</td>\n      <td>0.516757</td>\n      <td>0.080695</td>\n      <td>-0.297324</td>\n      <td>-0.216589</td>\n      <td>-0.022026</td>\n      <td>0.736859</td>\n    </tr>\n    <tr>\n      <th>2</th>\n      <td>0.633160</td>\n      <td>0.010264</td>\n      <td>0.782662</td>\n      <td>1.142204</td>\n      <td>-0.402291</td>\n      <td>0.363256</td>\n      <td>0.300339</td>\n      <td>-0.006741</td>\n      <td>0.984101</td>\n      <td>-0.170208</td>\n      <td>0.492895</td>\n      <td>-0.212691</td>\n      <td>-0.335634</td>\n      <td>-0.192375</td>\n      <td>-0.685408</td>\n      <td>0.789993</td>\n    </tr>\n    <tr>\n      <th>3</th>\n      <td>-0.490519</td>\n      <td>-1.555948</td>\n      <td>-0.331149</td>\n      <td>-1.385174</td>\n      <td>-0.734437</td>\n      <td>-0.550090</td>\n      <td>0.339611</td>\n      <td>-0.554787</td>\n      <td>-0.238882</td>\n      <td>0.097718</td>\n      <td>-0.547627</td>\n      <td>0.643054</td>\n      <td>-0.845279</td>\n      <td>-0.108797</td>\n      <td>-0.382914</td>\n      <td>0.214394</td>\n    </tr>\n    <tr>\n      <th>4</th>\n      <td>0.039042</td>\n      <td>-0.757775</td>\n      <td>0.213303</td>\n      <td>-1.276437</td>\n      <td>-0.236787</td>\n      <td>0.174761</td>\n      <td>-0.267179</td>\n      <td>-0.480166</td>\n      <td>0.456374</td>\n      <td>0.186741</td>\n      <td>0.330652</td>\n      <td>-0.250169</td>\n      <td>-1.109757</td>\n      <td>0.204027</td>\n      <td>-0.377855</td>\n      <td>0.590378</td>\n    </tr>\n    <tr>\n      <th>5</th>\n      <td>0.149632</td>\n      <td>-0.165684</td>\n      <td>0.003635</td>\n      <td>-0.542982</td>\n      <td>-0.290855</td>\n      <td>0.217865</td>\n      <td>-0.623345</td>\n      <td>-0.213117</td>\n      <td>0.423507</td>\n      <td>-0.146518</td>\n      <td>0.424011</td>\n      <td>-0.531105</td>\n      <td>-0.806474</td>\n      <td>0.190945</td>\n      <td>-0.359318</td>\n      <td>0.150702</td>\n    </tr>\n    <tr>\n      <th>6</th>\n      <td>-1.072544</td>\n      <td>-0.447136</td>\n      <td>-0.715886</td>\n      <td>-0.809838</td>\n      <td>-1.023454</td>\n      <td>-1.281885</td>\n      <td>-0.260637</td>\n      <td>-0.694678</td>\n      <td>-1.971356</td>\n      <td>-0.397254</td>\n      <td>-1.338733</td>\n      <td>-0.208409</td>\n      <td>-0.803399</td>\n      <td>-0.103625</td>\n      <td>-0.694321</td>\n      <td>-0.627801</td>\n    </tr>\n    <tr>\n      <th>7</th>\n      <td>-0.067681</td>\n      <td>-0.016418</td>\n      <td>-0.142634</td>\n      <td>0.880122</td>\n      <td>-0.278064</td>\n      <td>-0.381162</td>\n      <td>-0.481150</td>\n      <td>0.034148</td>\n      <td>-0.106365</td>\n      <td>-0.082271</td>\n      <td>-0.043824</td>\n      <td>0.137786</td>\n      <td>-0.465169</td>\n      <td>0.063286</td>\n      <td>-0.201281</td>\n      <td>-0.256657</td>\n    </tr>\n    <tr>\n      <th>8</th>\n      <td>0.275872</td>\n      <td>-0.657136</td>\n      <td>0.621649</td>\n      <td>0.443326</td>\n      <td>-0.647256</td>\n      <td>0.138881</td>\n      <td>0.273014</td>\n      <td>-0.072337</td>\n      <td>0.557288</td>\n      <td>-0.134265</td>\n      <td>-0.217485</td>\n      <td>-0.223327</td>\n      <td>-0.892498</td>\n      <td>-0.540514</td>\n      <td>-1.084838</td>\n      <td>0.833426</td>\n    </tr>\n    <tr>\n      <th>9</th>\n      <td>-1.154914</td>\n      <td>-1.060322</td>\n      <td>0.070129</td>\n      <td>-2.005704</td>\n      <td>-0.340879</td>\n      <td>0.006452</td>\n      <td>-0.516524</td>\n      <td>-0.576408</td>\n      <td>-0.471464</td>\n      <td>-0.541664</td>\n      <td>-0.626952</td>\n      <td>-0.146389</td>\n      <td>-0.956262</td>\n      <td>-0.204767</td>\n      <td>-0.767421</td>\n      <td>0.113819</td>\n    </tr>\n    <tr>\n      <th>10</th>\n      <td>0.462986</td>\n      <td>-0.242140</td>\n      <td>0.428494</td>\n      <td>-0.077711</td>\n      <td>0.063651</td>\n      <td>0.340449</td>\n      <td>0.149723</td>\n      <td>0.018689</td>\n      <td>0.699365</td>\n      <td>0.176503</td>\n      <td>0.472117</td>\n      <td>-0.453401</td>\n      <td>-0.913865</td>\n      <td>-0.094353</td>\n      <td>-0.565274</td>\n      <td>0.477453</td>\n    </tr>\n    <tr>\n      <th>11</th>\n      <td>0.256809</td>\n      <td>0.209588</td>\n      <td>0.128667</td>\n      <td>0.128126</td>\n      <td>0.265829</td>\n      <td>-0.104857</td>\n      <td>-0.029229</td>\n      <td>0.126961</td>\n      <td>-0.253341</td>\n      <td>0.121937</td>\n      <td>-0.006069</td>\n      <td>-0.323171</td>\n      <td>-0.544543</td>\n      <td>0.180423</td>\n      <td>-0.367898</td>\n      <td>-0.083169</td>\n    </tr>\n    <tr>\n      <th>12</th>\n      <td>0.136120</td>\n      <td>-0.659385</td>\n      <td>-0.558449</td>\n      <td>0.547255</td>\n      <td>-1.302176</td>\n      <td>-0.905248</td>\n      <td>-0.330320</td>\n      <td>-0.436573</td>\n      <td>0.301375</td>\n      <td>-0.147871</td>\n      <td>0.162557</td>\n      <td>0.462639</td>\n      <td>-0.889565</td>\n      <td>0.705768</td>\n      <td>-0.130636</td>\n      <td>0.071130</td>\n    </tr>\n    <tr>\n      <th>13</th>\n      <td>0.315458</td>\n      <td>-0.407935</td>\n      <td>0.076145</td>\n      <td>-0.230943</td>\n      <td>-0.003271</td>\n      <td>0.153768</td>\n      <td>0.353453</td>\n      <td>0.248994</td>\n      <td>0.396133</td>\n      <td>0.314044</td>\n      <td>0.145591</td>\n      <td>-0.026155</td>\n      <td>-0.325950</td>\n      <td>0.061616</td>\n      <td>-0.184962</td>\n      <td>-0.002755</td>\n    </tr>\n    <tr>\n      <th>14</th>\n      <td>0.382615</td>\n      <td>-0.827783</td>\n      <td>-0.612955</td>\n      <td>0.274298</td>\n      <td>-0.602294</td>\n      <td>-0.033735</td>\n      <td>-0.298912</td>\n      <td>0.255119</td>\n      <td>0.521831</td>\n      <td>0.132319</td>\n      <td>0.634445</td>\n      <td>1.147557</td>\n      <td>0.553819</td>\n      <td>0.609416</td>\n      <td>0.810864</td>\n      <td>-0.253809</td>\n    </tr>\n    <tr>\n      <th>15</th>\n      <td>0.242256</td>\n      <td>-0.036025</td>\n      <td>0.716439</td>\n      <td>0.760024</td>\n      <td>-0.305938</td>\n      <td>0.424441</td>\n      <td>0.201023</td>\n      <td>0.017697</td>\n      <td>0.729210</td>\n      <td>-0.161808</td>\n      <td>0.252389</td>\n      <td>0.166042</td>\n      <td>-0.061226</td>\n      <td>-0.111659</td>\n      <td>-0.501311</td>\n      <td>0.637112</td>\n    </tr>\n  </tbody>\n</table>\n</div>"
     },
     "execution_count": 26,
     "metadata": {},
     "output_type": "execute_result"
    },
    {
     "data": {
      "text/plain": "<Figure size 640x480 with 2 Axes>",
      "image/png": "[encoded data removed]"
     },
     "metadata": {},
     "output_type": "display_data"
    }
   ],
   "source": [
    "# Calculate the attention score  最后是 4batch 4头 16乘16的\n",
    "# torch.matmul是乘法的意思； K.transpose(-2, -1) 转置\n",
    "# math.sqrt(d_model // num_heads) 是根号下dKEY\n",
    "attention_score = torch.matmul(Q, K.transpose(-2, -1)) / math.sqrt(d_model // num_heads) # [4, 4, 16, 16]\n",
    "\n",
    "# Illustration only\n",
    "plt.imshow(attention_score[1, 1].detach().cpu().numpy(), \"Accent\", aspect=\"auto\")\n",
    "plt.title(\"Attention(Q @ K)\") #plot attention in the first head of the first batch\n",
    "plt.xlabel(encoding.decode(x_batch[0].tolist()))\n",
    "plt.ylabel(encoding.decode(x_batch[0].tolist()))\n",
    "plt.colorbar()\n",
    "pd.DataFrame(attention_score[0][0].detach().cpu().numpy())"
   ],
   "metadata": {
    "collapsed": false,
    "ExecuteTime": {
     "end_time": "2024-02-09T04:31:11.625621Z",
     "start_time": "2024-02-09T04:31:11.196103Z"
    }
   },
   "id": "6dd5217e3fa43d9",
   "execution_count": 26
  },
  {
   "cell_type": "code",
   "outputs": [
    {
     "data": {
      "text/plain": "          0         1         2         3         4         5         6         7         8         9         10        11        12        13        14        15\n0   0.827912      -inf      -inf      -inf      -inf      -inf      -inf      -inf      -inf      -inf      -inf      -inf      -inf      -inf      -inf      -inf\n1   1.123528  0.464093      -inf      -inf      -inf      -inf      -inf      -inf      -inf      -inf      -inf      -inf      -inf      -inf      -inf      -inf\n2   1.040623  0.605709  0.119165      -inf      -inf      -inf      -inf      -inf      -inf      -inf      -inf      -inf      -inf      -inf      -inf      -inf\n3   0.900045  0.596818  0.359724  0.836026      -inf      -inf      -inf      -inf      -inf      -inf      -inf      -inf      -inf      -inf      -inf      -inf\n4   1.061119  1.158659  0.633724 -0.320907  0.383561      -inf      -inf      -inf      -inf      -inf      -inf      -inf      -inf      -inf      -inf      -inf\n5   0.071058  0.273445  0.044782  0.250272 -0.114290  0.121239      -inf      -inf      -inf      -inf      -inf      -inf      -inf      -inf      -inf      -inf\n6   0.897961  1.322748  0.553525  0.079147  0.502846 -0.506932  0.223247      -inf      -inf      -inf      -inf      -inf      -inf      -inf      -inf      -inf\n7   0.025299  0.779429  0.627483 -0.354743  0.218848 -0.055096  0.297431 -0.119230      -inf      -inf      -inf      -inf      -inf      -inf      -inf      -inf\n8   0.529123 -0.196815  0.232964  0.031045  0.214278 -0.328799 -0.685732  0.060671  0.237945      -inf      -inf      -inf      -inf      -inf      -inf      -inf\n9   0.935247  0.690427  0.511019  1.063499  0.504674 -0.227777 -0.035515 -0.006277  0.174739  0.899135      -inf      -inf      -inf      -inf      -inf      -inf\n10  0.467166  0.532110  0.238954  0.085494  0.207894 -0.739952 -0.371635 -0.087244 -0.217038  0.353716  0.276079      -inf      -inf      -inf      -inf      -inf\n11  0.016316 -0.238568 -0.610145 -0.418894 -0.609519 -0.072247 -0.179781 -0.085679  0.529486  0.309438  0.002346 -0.154983      -inf      -inf      -inf      -inf\n12  0.210837  0.166079  0.430884  0.002882  0.447536  0.287130 -0.069169  0.463648 -0.251514  0.225306  0.302280  0.252891  0.182381      -inf      -inf      -inf\n13 -0.131177  0.249064  0.690767 -0.918174  0.273945 -0.226493 -0.467489  0.787192 -0.527138 -0.107953  0.469084  0.095217  0.443432  0.514454      -inf      -inf\n14 -0.268342  0.041401  0.530629 -0.301306  0.030230 -0.376372 -0.326081  0.092524 -0.112594 -0.274940  0.107115  0.171046 -0.394140 -0.418468 -0.190215      -inf\n15 -0.219957 -0.423727  0.599078 -0.366324  0.452232  0.868501 -0.051142  0.200568  0.335000  0.050063  0.305444  0.225228 -0.176068  0.332432  0.156352  0.471814",
      "text/html": "<div>\n<style scoped>\n    .dataframe tbody tr th:only-of-type {\n        vertical-align: middle;\n    }\n\n    .dataframe tbody tr th {\n        vertical-align: top;\n    }\n\n    .dataframe thead th {\n        text-align: right;\n    }\n</style>\n<table border=\"1\" class=\"dataframe\">\n  <thead>\n    <tr style=\"text-align: right;\">\n      <th></th>\n      <th>0</th>\n      <th>1</th>\n      <th>2</th>\n      <th>3</th>\n      <th>4</th>\n      <th>5</th>\n      <th>6</th>\n      <th>7</th>\n      <th>8</th>\n      <th>9</th>\n      <th>10</th>\n      <th>11</th>\n      <th>12</th>\n      <th>13</th>\n      <th>14</th>\n      <th>15</th>\n    </tr>\n  </thead>\n  <tbody>\n    <tr>\n      <th>0</th>\n      <td>0.827912</td>\n      <td>-inf</td>\n      <td>-inf</td>\n      <td>-inf</td>\n      <td>-inf</td>\n      <td>-inf</td>\n      <td>-inf</td>\n      <td>-inf</td>\n      <td>-inf</td>\n      <td>-inf</td>\n      <td>-inf</td>\n      <td>-inf</td>\n      <td>-inf</td>\n      <td>-inf</td>\n      <td>-inf</td>\n      <td>-inf</td>\n    </tr>\n    <tr>\n      <th>1</th>\n      <td>1.123528</td>\n      <td>0.464093</td>\n      <td>-inf</td>\n      <td>-inf</td>\n      <td>-inf</td>\n      <td>-inf</td>\n      <td>-inf</td>\n      <td>-inf</td>\n      <td>-inf</td>\n      <td>-inf</td>\n      <td>-inf</td>\n      <td>-inf</td>\n      <td>-inf</td>\n      <td>-inf</td>\n      <td>-inf</td>\n      <td>-inf</td>\n    </tr>\n    <tr>\n      <th>2</th>\n      <td>1.040623</td>\n      <td>0.605709</td>\n      <td>0.119165</td>\n      <td>-inf</td>\n      <td>-inf</td>\n      <td>-inf</td>\n      <td>-inf</td>\n      <td>-inf</td>\n      <td>-inf</td>\n      <td>-inf</td>\n      <td>-inf</td>\n      <td>-inf</td>\n      <td>-inf</td>\n      <td>-inf</td>\n      <td>-inf</td>\n      <td>-inf</td>\n    </tr>\n    <tr>\n      <th>3</th>\n      <td>0.900045</td>\n      <td>0.596818</td>\n      <td>0.359724</td>\n      <td>0.836026</td>\n      <td>-inf</td>\n      <td>-inf</td>\n      <td>-inf</td>\n      <td>-inf</td>\n      <td>-inf</td>\n      <td>-inf</td>\n      <td>-inf</td>\n      <td>-inf</td>\n      <td>-inf</td>\n      <td>-inf</td>\n      <td>-inf</td>\n      <td>-inf</td>\n    </tr>\n    <tr>\n      <th>4</th>\n      <td>1.061119</td>\n      <td>1.158659</td>\n      <td>0.633724</td>\n      <td>-0.320907</td>\n      <td>0.383561</td>\n      <td>-inf</td>\n      <td>-inf</td>\n      <td>-inf</td>\n      <td>-inf</td>\n      <td>-inf</td>\n      <td>-inf</td>\n      <td>-inf</td>\n      <td>-inf</td>\n      <td>-inf</td>\n      <td>-inf</td>\n      <td>-inf</td>\n    </tr>\n    <tr>\n      <th>5</th>\n      <td>0.071058</td>\n      <td>0.273445</td>\n      <td>0.044782</td>\n      <td>0.250272</td>\n      <td>-0.114290</td>\n      <td>0.121239</td>\n      <td>-inf</td>\n      <td>-inf</td>\n      <td>-inf</td>\n      <td>-inf</td>\n      <td>-inf</td>\n      <td>-inf</td>\n      <td>-inf</td>\n      <td>-inf</td>\n      <td>-inf</td>\n      <td>-inf</td>\n    </tr>\n    <tr>\n      <th>6</th>\n      <td>0.897961</td>\n      <td>1.322748</td>\n      <td>0.553525</td>\n      <td>0.079147</td>\n      <td>0.502846</td>\n      <td>-0.506932</td>\n      <td>0.223247</td>\n      <td>-inf</td>\n      <td>-inf</td>\n      <td>-inf</td>\n      <td>-inf</td>\n      <td>-inf</td>\n      <td>-inf</td>\n      <td>-inf</td>\n      <td>-inf</td>\n      <td>-inf</td>\n    </tr>\n    <tr>\n      <th>7</th>\n      <td>0.025299</td>\n      <td>0.779429</td>\n      <td>0.627483</td>\n      <td>-0.354743</td>\n      <td>0.218848</td>\n      <td>-0.055096</td>\n      <td>0.297431</td>\n      <td>-0.119230</td>\n      <td>-inf</td>\n      <td>-inf</td>\n      <td>-inf</td>\n      <td>-inf</td>\n      <td>-inf</td>\n      <td>-inf</td>\n      <td>-inf</td>\n      <td>-inf</td>\n    </tr>\n    <tr>\n      <th>8</th>\n      <td>0.529123</td>\n      <td>-0.196815</td>\n      <td>0.232964</td>\n      <td>0.031045</td>\n      <td>0.214278</td>\n      <td>-0.328799</td>\n      <td>-0.685732</td>\n      <td>0.060671</td>\n      <td>0.237945</td>\n      <td>-inf</td>\n      <td>-inf</td>\n      <td>-inf</td>\n      <td>-inf</td>\n      <td>-inf</td>\n      <td>-inf</td>\n      <td>-inf</td>\n    </tr>\n    <tr>\n      <th>9</th>\n      <td>0.935247</td>\n      <td>0.690427</td>\n      <td>0.511019</td>\n      <td>1.063499</td>\n      <td>0.504674</td>\n      <td>-0.227777</td>\n      <td>-0.035515</td>\n      <td>-0.006277</td>\n      <td>0.174739</td>\n      <td>0.899135</td>\n      <td>-inf</td>\n      <td>-inf</td>\n      <td>-inf</td>\n      <td>-inf</td>\n      <td>-inf</td>\n      <td>-inf</td>\n    </tr>\n    <tr>\n      <th>10</th>\n      <td>0.467166</td>\n      <td>0.532110</td>\n      <td>0.238954</td>\n      <td>0.085494</td>\n      <td>0.207894</td>\n      <td>-0.739952</td>\n      <td>-0.371635</td>\n      <td>-0.087244</td>\n      <td>-0.217038</td>\n      <td>0.353716</td>\n      <td>0.276079</td>\n      <td>-inf</td>\n      <td>-inf</td>\n      <td>-inf</td>\n      <td>-inf</td>\n      <td>-inf</td>\n    </tr>\n    <tr>\n      <th>11</th>\n      <td>0.016316</td>\n      <td>-0.238568</td>\n      <td>-0.610145</td>\n      <td>-0.418894</td>\n      <td>-0.609519</td>\n      <td>-0.072247</td>\n      <td>-0.179781</td>\n      <td>-0.085679</td>\n      <td>0.529486</td>\n      <td>0.309438</td>\n      <td>0.002346</td>\n      <td>-0.154983</td>\n      <td>-inf</td>\n      <td>-inf</td>\n      <td>-inf</td>\n      <td>-inf</td>\n    </tr>\n    <tr>\n      <th>12</th>\n      <td>0.210837</td>\n      <td>0.166079</td>\n      <td>0.430884</td>\n      <td>0.002882</td>\n      <td>0.447536</td>\n      <td>0.287130</td>\n      <td>-0.069169</td>\n      <td>0.463648</td>\n      <td>-0.251514</td>\n      <td>0.225306</td>\n      <td>0.302280</td>\n      <td>0.252891</td>\n      <td>0.182381</td>\n      <td>-inf</td>\n      <td>-inf</td>\n      <td>-inf</td>\n    </tr>\n    <tr>\n      <th>13</th>\n      <td>-0.131177</td>\n      <td>0.249064</td>\n      <td>0.690767</td>\n      <td>-0.918174</td>\n      <td>0.273945</td>\n      <td>-0.226493</td>\n      <td>-0.467489</td>\n      <td>0.787192</td>\n      <td>-0.527138</td>\n      <td>-0.107953</td>\n      <td>0.469084</td>\n      <td>0.095217</td>\n      <td>0.443432</td>\n      <td>0.514454</td>\n      <td>-inf</td>\n      <td>-inf</td>\n    </tr>\n    <tr>\n      <th>14</th>\n      <td>-0.268342</td>\n      <td>0.041401</td>\n      <td>0.530629</td>\n      <td>-0.301306</td>\n      <td>0.030230</td>\n      <td>-0.376372</td>\n      <td>-0.326081</td>\n      <td>0.092524</td>\n      <td>-0.112594</td>\n      <td>-0.274940</td>\n      <td>0.107115</td>\n      <td>0.171046</td>\n      <td>-0.394140</td>\n      <td>-0.418468</td>\n      <td>-0.190215</td>\n      <td>-inf</td>\n    </tr>\n    <tr>\n      <th>15</th>\n      <td>-0.219957</td>\n      <td>-0.423727</td>\n      <td>0.599078</td>\n      <td>-0.366324</td>\n      <td>0.452232</td>\n      <td>0.868501</td>\n      <td>-0.051142</td>\n      <td>0.200568</td>\n      <td>0.335000</td>\n      <td>0.050063</td>\n      <td>0.305444</td>\n      <td>0.225228</td>\n      <td>-0.176068</td>\n      <td>0.332432</td>\n      <td>0.156352</td>\n      <td>0.471814</td>\n    </tr>\n  </tbody>\n</table>\n</div>"
     },
     "execution_count": 27,
     "metadata": {},
     "output_type": "execute_result"
    },
    {
     "data": {
      "text/plain": "<Figure size 640x480 with 2 Axes>",
      "image/png": "[encoded data removed]"
     },
     "metadata": {},
     "output_type": "display_data"
    }
   ],
   "source": [
    "# Apply Mask to attention scores\n",
    "# torch.ones(attention_score.shape[-2:]):   创建一个形状与 attention_score 的最后两个维度相同的全1张量。\n",
    "# torch.triu(..., diagonal=1):    从上一步创建的全1张量中，生成一个上三角矩阵。\n",
    "#.bool(): 将上三角矩阵转换为布尔值（True/False）形式。1会变为True，0会变为False\n",
    "# attention_score.masked_fill(..., float('-inf')):\n",
    "# masked_fill 函数会根据布尔掩码的值替换 attention_score 中的元素。在布尔掩码中，所有为True的元素对应的 attention_score 的位置将被替换为 -inf（负无穷大），而为False的元素保持不变\n",
    "attention_score = attention_score.masked_fill(torch.triu(torch.ones(attention_score.shape[-2:]), diagonal=1).bool(), float('-inf'))#[4, 4, 16, 16] [batch_size, num_heads, context_length, context_length]\n",
    "\n",
    "# Illustration only\n",
    "plt.imshow(attention_score[1, 1].detach().cpu().numpy(), \"Accent\", aspect=\"auto\")\n",
    "plt.title(\"Attention(Q,K)\")\n",
    "plt.xlabel(encoding.decode(x_batch[0].tolist()))\n",
    "plt.ylabel(encoding.decode(x_batch[0].tolist()))\n",
    "plt.colorbar()\n",
    "pd.DataFrame(attention_score[0][0].detach().cpu().numpy())"
   ],
   "metadata": {
    "collapsed": false,
    "ExecuteTime": {
     "end_time": "2024-02-09T04:31:43.305491Z",
     "start_time": "2024-02-09T04:31:42.713623Z"
    }
   },
   "id": "9958625c65291f4e",
   "execution_count": 27
  },
  {
   "cell_type": "code",
   "outputs": [
    {
     "data": {
      "text/plain": "          0         1         2         3         4         5         6   \\\n0   0.095721  0.019642  0.048210  0.076380  0.047990  0.066498  0.042822   \n1   0.085196  0.051637  0.069774  0.076189  0.052424  0.045180  0.049590   \n2   0.082335  0.044164  0.095612  0.136981  0.029234  0.062859  0.059026   \n3   0.049201  0.016954  0.057702  0.020111  0.038552  0.046356  0.112848   \n4   0.067565  0.030456  0.080427  0.018131  0.051278  0.077386  0.049743   \n5   0.077669  0.056664  0.067118  0.038855  0.049997  0.083153  0.035855   \n6   0.042291  0.079043  0.060415  0.054998  0.044419  0.034303  0.095249   \n7   0.060297  0.063468  0.055943  0.155568  0.048857  0.044071  0.039877   \n8   0.077381  0.030439  0.109347  0.091487  0.030742  0.067475  0.077160   \n9   0.031096  0.034181  0.105861  0.013280  0.070184  0.099330  0.058878   \n10  0.086250  0.042611  0.083325  0.050227  0.057853  0.076303  0.063053   \n11  0.080171  0.076474  0.070529  0.070491  0.080898  0.055841  0.060228   \n12  0.074542  0.033645  0.037218  0.112449  0.017691  0.026311  0.046755   \n13  0.078886  0.038268  0.062096  0.045677  0.057356  0.067108  0.081940   \n14  0.067330  0.020070  0.024879  0.060418  0.025146  0.044401  0.034058   \n15  0.061691  0.046705  0.099119  0.103534  0.035657  0.074019  0.059199   \n\n          7         8         9         10        11        12        13  \\\n0   0.040302  0.102779  0.060050  0.120223  0.061413  0.048301  0.048522   \n1   0.018711  0.079527  0.057662  0.094125  0.060859  0.041702  0.045208   \n2   0.043419  0.116949  0.036871  0.071560  0.035337  0.031249  0.036063   \n3   0.046138  0.063279  0.088602  0.046470  0.152855  0.034507  0.072070   \n4   0.040201  0.102557  0.078319  0.090441  0.050596  0.021419  0.079685   \n5   0.054039  0.102139  0.057760  0.102190  0.039319  0.029855  0.080945   \n6   0.061710  0.017215  0.083086  0.032408  0.100356  0.055353  0.111442   \n7   0.066760  0.058009  0.059423  0.061753  0.074050  0.040520  0.068734   \n8   0.054627  0.102531  0.051347  0.047247  0.046972  0.024056  0.034205   \n9   0.055456  0.061592  0.057417  0.052723  0.085252  0.037930  0.080417   \n10  0.055310  0.109249  0.064765  0.087041  0.034497  0.021767  0.049398   \n11  0.070409  0.048135  0.070056  0.061639  0.044889  0.035975  0.074276   \n12  0.042042  0.087937  0.056113  0.076539  0.103325  0.026727  0.131764   \n13  0.073813  0.085513  0.078774  0.066562  0.056058  0.041537  0.061201   \n14  0.059270  0.077387  0.052421  0.086612  0.144683  0.079903  0.084471   \n15  0.049283  0.100393  0.041185  0.062319  0.057164  0.045543  0.043303   \n\n          14        15  \n0   0.064049  0.057100  \n1   0.054918  0.117298  \n2   0.022026  0.096316  \n3   0.054791  0.099567  \n4   0.044531  0.117264  \n5   0.046689  0.077752  \n6   0.061732  0.065979  \n7   0.052756  0.049914  \n8   0.019847  0.135138  \n9   0.045813  0.110589  \n10  0.030845  0.087506  \n11  0.042925  0.057065  \n12  0.057089  0.069852  \n13  0.047826  0.057385  \n14  0.103322  0.035630  \n15  0.029329  0.091560  ",
      "text/html": "<div>\n<style scoped>\n    .dataframe tbody tr th:only-of-type {\n        vertical-align: middle;\n    }\n\n    .dataframe tbody tr th {\n        vertical-align: top;\n    }\n\n    .dataframe thead th {\n        text-align: right;\n    }\n</style>\n<table border=\"1\" class=\"dataframe\">\n  <thead>\n    <tr style=\"text-align: right;\">\n      <th></th>\n      <th>0</th>\n      <th>1</th>\n      <th>2</th>\n      <th>3</th>\n      <th>4</th>\n      <th>5</th>\n      <th>6</th>\n      <th>7</th>\n      <th>8</th>\n      <th>9</th>\n      <th>10</th>\n      <th>11</th>\n      <th>12</th>\n      <th>13</th>\n      <th>14</th>\n      <th>15</th>\n    </tr>\n  </thead>\n  <tbody>\n    <tr>\n      <th>0</th>\n      <td>0.095721</td>\n      <td>0.019642</td>\n      <td>0.048210</td>\n      <td>0.076380</td>\n      <td>0.047990</td>\n      <td>0.066498</td>\n      <td>0.042822</td>\n      <td>0.040302</td>\n      <td>0.102779</td>\n      <td>0.060050</td>\n      <td>0.120223</td>\n      <td>0.061413</td>\n      <td>0.048301</td>\n      <td>0.048522</td>\n      <td>0.064049</td>\n      <td>0.057100</td>\n    </tr>\n    <tr>\n      <th>1</th>\n      <td>0.085196</td>\n      <td>0.051637</td>\n      <td>0.069774</td>\n      <td>0.076189</td>\n      <td>0.052424</td>\n      <td>0.045180</td>\n      <td>0.049590</td>\n      <td>0.018711</td>\n      <td>0.079527</td>\n      <td>0.057662</td>\n      <td>0.094125</td>\n      <td>0.060859</td>\n      <td>0.041702</td>\n      <td>0.045208</td>\n      <td>0.054918</td>\n      <td>0.117298</td>\n    </tr>\n    <tr>\n      <th>2</th>\n      <td>0.082335</td>\n      <td>0.044164</td>\n      <td>0.095612</td>\n      <td>0.136981</td>\n      <td>0.029234</td>\n      <td>0.062859</td>\n      <td>0.059026</td>\n      <td>0.043419</td>\n      <td>0.116949</td>\n      <td>0.036871</td>\n      <td>0.071560</td>\n      <td>0.035337</td>\n      <td>0.031249</td>\n      <td>0.036063</td>\n      <td>0.022026</td>\n      <td>0.096316</td>\n    </tr>\n    <tr>\n      <th>3</th>\n      <td>0.049201</td>\n      <td>0.016954</td>\n      <td>0.057702</td>\n      <td>0.020111</td>\n      <td>0.038552</td>\n      <td>0.046356</td>\n      <td>0.112848</td>\n      <td>0.046138</td>\n      <td>0.063279</td>\n      <td>0.088602</td>\n      <td>0.046470</td>\n      <td>0.152855</td>\n      <td>0.034507</td>\n      <td>0.072070</td>\n      <td>0.054791</td>\n      <td>0.099567</td>\n    </tr>\n    <tr>\n      <th>4</th>\n      <td>0.067565</td>\n      <td>0.030456</td>\n      <td>0.080427</td>\n      <td>0.018131</td>\n      <td>0.051278</td>\n      <td>0.077386</td>\n      <td>0.049743</td>\n      <td>0.040201</td>\n      <td>0.102557</td>\n      <td>0.078319</td>\n      <td>0.090441</td>\n      <td>0.050596</td>\n      <td>0.021419</td>\n      <td>0.079685</td>\n      <td>0.044531</td>\n      <td>0.117264</td>\n    </tr>\n    <tr>\n      <th>5</th>\n      <td>0.077669</td>\n      <td>0.056664</td>\n      <td>0.067118</td>\n      <td>0.038855</td>\n      <td>0.049997</td>\n      <td>0.083153</td>\n      <td>0.035855</td>\n      <td>0.054039</td>\n      <td>0.102139</td>\n      <td>0.057760</td>\n      <td>0.102190</td>\n      <td>0.039319</td>\n      <td>0.029855</td>\n      <td>0.080945</td>\n      <td>0.046689</td>\n      <td>0.077752</td>\n    </tr>\n    <tr>\n      <th>6</th>\n      <td>0.042291</td>\n      <td>0.079043</td>\n      <td>0.060415</td>\n      <td>0.054998</td>\n      <td>0.044419</td>\n      <td>0.034303</td>\n      <td>0.095249</td>\n      <td>0.061710</td>\n      <td>0.017215</td>\n      <td>0.083086</td>\n      <td>0.032408</td>\n      <td>0.100356</td>\n      <td>0.055353</td>\n      <td>0.111442</td>\n      <td>0.061732</td>\n      <td>0.065979</td>\n    </tr>\n    <tr>\n      <th>7</th>\n      <td>0.060297</td>\n      <td>0.063468</td>\n      <td>0.055943</td>\n      <td>0.155568</td>\n      <td>0.048857</td>\n      <td>0.044071</td>\n      <td>0.039877</td>\n      <td>0.066760</td>\n      <td>0.058009</td>\n      <td>0.059423</td>\n      <td>0.061753</td>\n      <td>0.074050</td>\n      <td>0.040520</td>\n      <td>0.068734</td>\n      <td>0.052756</td>\n      <td>0.049914</td>\n    </tr>\n    <tr>\n      <th>8</th>\n      <td>0.077381</td>\n      <td>0.030439</td>\n      <td>0.109347</td>\n      <td>0.091487</td>\n      <td>0.030742</td>\n      <td>0.067475</td>\n      <td>0.077160</td>\n      <td>0.054627</td>\n      <td>0.102531</td>\n      <td>0.051347</td>\n      <td>0.047247</td>\n      <td>0.046972</td>\n      <td>0.024056</td>\n      <td>0.034205</td>\n      <td>0.019847</td>\n      <td>0.135138</td>\n    </tr>\n    <tr>\n      <th>9</th>\n      <td>0.031096</td>\n      <td>0.034181</td>\n      <td>0.105861</td>\n      <td>0.013280</td>\n      <td>0.070184</td>\n      <td>0.099330</td>\n      <td>0.058878</td>\n      <td>0.055456</td>\n      <td>0.061592</td>\n      <td>0.057417</td>\n      <td>0.052723</td>\n      <td>0.085252</td>\n      <td>0.037930</td>\n      <td>0.080417</td>\n      <td>0.045813</td>\n      <td>0.110589</td>\n    </tr>\n    <tr>\n      <th>10</th>\n      <td>0.086250</td>\n      <td>0.042611</td>\n      <td>0.083325</td>\n      <td>0.050227</td>\n      <td>0.057853</td>\n      <td>0.076303</td>\n      <td>0.063053</td>\n      <td>0.055310</td>\n      <td>0.109249</td>\n      <td>0.064765</td>\n      <td>0.087041</td>\n      <td>0.034497</td>\n      <td>0.021767</td>\n      <td>0.049398</td>\n      <td>0.030845</td>\n      <td>0.087506</td>\n    </tr>\n    <tr>\n      <th>11</th>\n      <td>0.080171</td>\n      <td>0.076474</td>\n      <td>0.070529</td>\n      <td>0.070491</td>\n      <td>0.080898</td>\n      <td>0.055841</td>\n      <td>0.060228</td>\n      <td>0.070409</td>\n      <td>0.048135</td>\n      <td>0.070056</td>\n      <td>0.061639</td>\n      <td>0.044889</td>\n      <td>0.035975</td>\n      <td>0.074276</td>\n      <td>0.042925</td>\n      <td>0.057065</td>\n    </tr>\n    <tr>\n      <th>12</th>\n      <td>0.074542</td>\n      <td>0.033645</td>\n      <td>0.037218</td>\n      <td>0.112449</td>\n      <td>0.017691</td>\n      <td>0.026311</td>\n      <td>0.046755</td>\n      <td>0.042042</td>\n      <td>0.087937</td>\n      <td>0.056113</td>\n      <td>0.076539</td>\n      <td>0.103325</td>\n      <td>0.026727</td>\n      <td>0.131764</td>\n      <td>0.057089</td>\n      <td>0.069852</td>\n    </tr>\n    <tr>\n      <th>13</th>\n      <td>0.078886</td>\n      <td>0.038268</td>\n      <td>0.062096</td>\n      <td>0.045677</td>\n      <td>0.057356</td>\n      <td>0.067108</td>\n      <td>0.081940</td>\n      <td>0.073813</td>\n      <td>0.085513</td>\n      <td>0.078774</td>\n      <td>0.066562</td>\n      <td>0.056058</td>\n      <td>0.041537</td>\n      <td>0.061201</td>\n      <td>0.047826</td>\n      <td>0.057385</td>\n    </tr>\n    <tr>\n      <th>14</th>\n      <td>0.067330</td>\n      <td>0.020070</td>\n      <td>0.024879</td>\n      <td>0.060418</td>\n      <td>0.025146</td>\n      <td>0.044401</td>\n      <td>0.034058</td>\n      <td>0.059270</td>\n      <td>0.077387</td>\n      <td>0.052421</td>\n      <td>0.086612</td>\n      <td>0.144683</td>\n      <td>0.079903</td>\n      <td>0.084471</td>\n      <td>0.103322</td>\n      <td>0.035630</td>\n    </tr>\n    <tr>\n      <th>15</th>\n      <td>0.061691</td>\n      <td>0.046705</td>\n      <td>0.099119</td>\n      <td>0.103534</td>\n      <td>0.035657</td>\n      <td>0.074019</td>\n      <td>0.059199</td>\n      <td>0.049283</td>\n      <td>0.100393</td>\n      <td>0.041185</td>\n      <td>0.062319</td>\n      <td>0.057164</td>\n      <td>0.045543</td>\n      <td>0.043303</td>\n      <td>0.029329</td>\n      <td>0.091560</td>\n    </tr>\n  </tbody>\n</table>\n</div>"
     },
     "execution_count": 27,
     "metadata": {},
     "output_type": "execute_result"
    }
   ],
   "source": [
    "# Softmax the attention score\n",
    "# 特别注意dim=-1 意思是处理每个最后一个维度成softmax格式。（对于每一行都操作，每个词对其它16个词的关注度）\n",
    "attention_score = torch.softmax(attention_score, dim=-1) #[4, 4, 16, 16] [batch_size, num_heads, context_length, context_length]\n",
    "pd.DataFrame(attention_score[0][0].detach().cpu().numpy())"
   ],
   "metadata": {
    "collapsed": false,
    "ExecuteTime": {
     "end_time": "2024-02-09T04:32:08.443877Z",
     "start_time": "2024-02-09T04:32:08.408750Z"
    }
   },
   "id": "7eb3f22c3466b59b",
   "execution_count": 27
  },
  {
   "cell_type": "code",
   "outputs": [
    {
     "name": "stdout",
     "output_type": "stream",
     "text": [
      "torch.Size([4, 4, 16, 16])\n",
      "torch.Size([4, 4, 16, 16])\n",
      "torch.Size([4, 4, 16, 16])\n"
     ]
    }
   ],
   "source": [
    "# Calculate the V attention output\n",
    "print(attention_score.shape) #[4, 4, 16, 16] [batch_size, num_heads, context_length, context_length]\n",
    "print(V.shape) #[4, 4, 16, 16] [batch_size, num_heads, context_length, head_size]\n",
    "A = torch.matmul(attention_score, V) # [4, 4, 16, 16] [batch_size, num_heads, context_length, head_size]\n",
    "print(A.shape)"
   ],
   "metadata": {
    "collapsed": false,
    "ExecuteTime": {
     "end_time": "2024-02-09T04:32:19.745362Z",
     "start_time": "2024-02-09T04:32:19.729817Z"
    }
   },
   "id": "3a14ab6238d8f340",
   "execution_count": 29
  },
  {
   "cell_type": "code",
   "outputs": [
    {
     "data": {
      "text/plain": "torch.Size([4, 16, 64])"
     },
     "execution_count": 31,
     "metadata": {},
     "output_type": "execute_result"
    }
   ],
   "source": [
    "# Concatenate the attention output\n",
    "# 并行计算完补全头 （合并）\n",
    "A = A.transpose(1, 2) # [4, 16, 4, 16] [batch_size, context_length, num_heads, head_size]\n",
    "\n",
    "# 背下来吧\n",
    "A = A.reshape(batch_size, -1, d_model) # [4, 16, 64] [batch_size, context_length, d_model]\n",
    "A.shape"
   ],
   "metadata": {
    "collapsed": false,
    "ExecuteTime": {
     "end_time": "2024-02-09T04:32:38.040254Z",
     "start_time": "2024-02-09T04:32:37.994213Z"
    }
   },
   "id": "57894d06f08e7f5e",
   "execution_count": 31
  },
  {
   "cell_type": "code",
   "outputs": [
    {
     "name": "stdout",
     "output_type": "stream",
     "text": [
      "torch.Size([4, 16, 64])\n"
     ]
    },
    {
     "data": {
      "text/plain": "          0         1         2         3         4         5         6   \\\n0  -0.200058  0.417928  0.436654  0.394750 -0.442014 -0.127205 -0.056222   \n1  -0.740793 -0.340264 -0.708956 -0.477954  0.102357 -0.095372 -0.079068   \n2   0.286138  0.125765  0.365248  0.392788  0.060482  0.118448  0.091294   \n3  -0.118934 -0.136915 -0.177407 -0.009172  0.329628  0.122636  0.047678   \n4  -0.369929  0.281683 -0.001643  0.047538 -0.300938 -0.188866 -0.151915   \n5  -0.089483 -0.041704 -0.059797  0.101612 -0.081325 -0.029403 -0.055197   \n6   0.372455  0.153272  0.241736  0.407337 -0.089135 -0.081300 -0.268509   \n7  -0.280772  0.226248  0.071996  0.186831 -0.026164 -0.031896  0.139680   \n8  -0.663884  0.396451  0.079785  0.004636 -0.542975 -0.415546 -0.326083   \n9   0.442745  0.249657  0.461647  0.497740 -0.121210 -0.030912 -0.266550   \n10  0.023911 -0.201451 -0.207760  0.222835  0.076453 -0.024732 -0.533641   \n11 -0.036524  0.264838  0.072903 -0.002642 -0.113525 -0.192528  0.002355   \n12  0.441141  0.300311  0.509375  0.514130 -0.030611  0.084713  0.076115   \n13  0.000412  0.032928  0.049852 -0.011306 -0.012956 -0.046156  0.104814   \n14  0.498250  0.073595  0.330147  0.374401 -0.129319 -0.062352 -0.220948   \n15  0.084409  0.330760  0.237702  0.112186 -0.329137 -0.291310 -0.015049   \n\n          7         8         9   ...        54        55        56        57  \\\n0  -0.280285  0.176070  0.530091  ...  0.203488 -0.076491  0.130021 -0.396635   \n1   0.155354  0.157295 -0.052038  ... -0.778702 -0.102471 -0.091548  0.435446   \n2  -0.294131  0.111121  0.549082  ...  0.099660  0.029980 -0.210557 -0.451184   \n3  -0.042957  0.086823  0.278188  ... -0.248977 -0.021408 -0.211381 -0.036873   \n4  -0.057755  0.061328  0.098737  ...  0.034151  0.111889  0.178510 -0.124637   \n5  -0.070895 -0.019638  0.068395  ... -0.045305  0.036177  0.034833 -0.086957   \n6   0.172023 -0.006295  0.076823  ...  0.352132  0.296114  0.055923 -0.246443   \n7  -0.125537  0.099027  0.344366  ... -0.060728 -0.019992  0.011582 -0.180040   \n8   0.028062  0.189859  0.147484  ... -0.088276 -0.048041  0.330833 -0.004918   \n9   0.105766 -0.049755  0.243383  ...  0.476066  0.170916 -0.006310 -0.453460   \n10  0.437242  0.041539  0.138455  ...  0.035845  0.062745 -0.039335 -0.056028   \n11 -0.192275  0.038894  0.105247  ...  0.033559  0.150927  0.105880 -0.100917   \n12 -0.311915  0.058074  0.451514  ...  0.378539  0.191974 -0.067557 -0.471894   \n13 -0.130696  0.007117  0.105490  ... -0.086244  0.106962 -0.044132 -0.147867   \n14  0.067992 -0.035887  0.131835  ...  0.298584  0.336114 -0.044166 -0.436397   \n15 -0.163955  0.033805  0.119170  ...  0.229199  0.332204  0.214710 -0.222969   \n\n          58        59        60        61        62        63  \n0   0.123933 -0.358833 -0.072565  0.106055 -0.128938 -0.348600  \n1  -0.360780  0.497173 -0.165212  0.000560 -0.323989 -0.083656  \n2  -0.158488 -0.128480  0.337580 -0.309091 -0.114176 -0.083779  \n3  -0.309639  0.091590  0.083480 -0.182640 -0.170757 -0.059678  \n4   0.041168 -0.269199 -0.182929  0.102896 -0.059679 -0.211507  \n5  -0.127944 -0.094595 -0.134099  0.025996 -0.044967  0.011276  \n6   0.148543 -0.625919 -0.643657  0.310350  0.338592 -0.259842  \n7  -0.096258 -0.106743  0.250441 -0.143498 -0.218418 -0.189080  \n8   0.204871 -0.286883 -0.464410  0.394802  0.004047 -0.411216  \n9   0.104662 -0.647484 -0.503370  0.271523  0.283850 -0.321230  \n10 -0.141634 -0.388031 -1.145819  0.537390  0.202356 -0.490841  \n11 -0.023252 -0.088169  0.241998  0.037020  0.061926 -0.030578  \n12  0.035396 -0.290555  0.411320 -0.173864  0.016975 -0.016602  \n13 -0.077531 -0.048792  0.146981 -0.079403 -0.011166  0.018166  \n14  0.067778 -0.338271 -0.199265  0.060768  0.273891  0.021410  \n15  0.242181 -0.233652  0.268057  0.206982  0.174408  0.060298  \n\n[16 rows x 64 columns]",
      "text/html": "<div>\n<style scoped>\n    .dataframe tbody tr th:only-of-type {\n        vertical-align: middle;\n    }\n\n    .dataframe tbody tr th {\n        vertical-align: top;\n    }\n\n    .dataframe thead th {\n        text-align: right;\n    }\n</style>\n<table border=\"1\" class=\"dataframe\">\n  <thead>\n    <tr style=\"text-align: right;\">\n      <th></th>\n      <th>0</th>\n      <th>1</th>\n      <th>2</th>\n      <th>3</th>\n      <th>4</th>\n      <th>5</th>\n      <th>6</th>\n      <th>7</th>\n      <th>8</th>\n      <th>9</th>\n      <th>...</th>\n      <th>54</th>\n      <th>55</th>\n      <th>56</th>\n      <th>57</th>\n      <th>58</th>\n      <th>59</th>\n      <th>60</th>\n      <th>61</th>\n      <th>62</th>\n      <th>63</th>\n    </tr>\n  </thead>\n  <tbody>\n    <tr>\n      <th>0</th>\n      <td>-0.200058</td>\n      <td>0.417928</td>\n      <td>0.436654</td>\n      <td>0.394750</td>\n      <td>-0.442014</td>\n      <td>-0.127205</td>\n      <td>-0.056222</td>\n      <td>-0.280285</td>\n      <td>0.176070</td>\n      <td>0.530091</td>\n      <td>...</td>\n      <td>0.203488</td>\n      <td>-0.076491</td>\n      <td>0.130021</td>\n      <td>-0.396635</td>\n      <td>0.123933</td>\n      <td>-0.358833</td>\n      <td>-0.072565</td>\n      <td>0.106055</td>\n      <td>-0.128938</td>\n      <td>-0.348600</td>\n    </tr>\n    <tr>\n      <th>1</th>\n      <td>-0.740793</td>\n      <td>-0.340264</td>\n      <td>-0.708956</td>\n      <td>-0.477954</td>\n      <td>0.102357</td>\n      <td>-0.095372</td>\n      <td>-0.079068</td>\n      <td>0.155354</td>\n      <td>0.157295</td>\n      <td>-0.052038</td>\n      <td>...</td>\n      <td>-0.778702</td>\n      <td>-0.102471</td>\n      <td>-0.091548</td>\n      <td>0.435446</td>\n      <td>-0.360780</td>\n      <td>0.497173</td>\n      <td>-0.165212</td>\n      <td>0.000560</td>\n      <td>-0.323989</td>\n      <td>-0.083656</td>\n    </tr>\n    <tr>\n      <th>2</th>\n      <td>0.286138</td>\n      <td>0.125765</td>\n      <td>0.365248</td>\n      <td>0.392788</td>\n      <td>0.060482</td>\n      <td>0.118448</td>\n      <td>0.091294</td>\n      <td>-0.294131</td>\n      <td>0.111121</td>\n      <td>0.549082</td>\n      <td>...</td>\n      <td>0.099660</td>\n      <td>0.029980</td>\n      <td>-0.210557</td>\n      <td>-0.451184</td>\n      <td>-0.158488</td>\n      <td>-0.128480</td>\n      <td>0.337580</td>\n      <td>-0.309091</td>\n      <td>-0.114176</td>\n      <td>-0.083779</td>\n    </tr>\n    <tr>\n      <th>3</th>\n      <td>-0.118934</td>\n      <td>-0.136915</td>\n      <td>-0.177407</td>\n      <td>-0.009172</td>\n      <td>0.329628</td>\n      <td>0.122636</td>\n      <td>0.047678</td>\n      <td>-0.042957</td>\n      <td>0.086823</td>\n      <td>0.278188</td>\n      <td>...</td>\n      <td>-0.248977</td>\n      <td>-0.021408</td>\n      <td>-0.211381</td>\n      <td>-0.036873</td>\n      <td>-0.309639</td>\n      <td>0.091590</td>\n      <td>0.083480</td>\n      <td>-0.182640</td>\n      <td>-0.170757</td>\n      <td>-0.059678</td>\n    </tr>\n    <tr>\n      <th>4</th>\n      <td>-0.369929</td>\n      <td>0.281683</td>\n      <td>-0.001643</td>\n      <td>0.047538</td>\n      <td>-0.300938</td>\n      <td>-0.188866</td>\n      <td>-0.151915</td>\n      <td>-0.057755</td>\n      <td>0.061328</td>\n      <td>0.098737</td>\n      <td>...</td>\n      <td>0.034151</td>\n      <td>0.111889</td>\n      <td>0.178510</td>\n      <td>-0.124637</td>\n      <td>0.041168</td>\n      <td>-0.269199</td>\n      <td>-0.182929</td>\n      <td>0.102896</td>\n      <td>-0.059679</td>\n      <td>-0.211507</td>\n    </tr>\n    <tr>\n      <th>5</th>\n      <td>-0.089483</td>\n      <td>-0.041704</td>\n      <td>-0.059797</td>\n      <td>0.101612</td>\n      <td>-0.081325</td>\n      <td>-0.029403</td>\n      <td>-0.055197</td>\n      <td>-0.070895</td>\n      <td>-0.019638</td>\n      <td>0.068395</td>\n      <td>...</td>\n      <td>-0.045305</td>\n      <td>0.036177</td>\n      <td>0.034833</td>\n      <td>-0.086957</td>\n      <td>-0.127944</td>\n      <td>-0.094595</td>\n      <td>-0.134099</td>\n      <td>0.025996</td>\n      <td>-0.044967</td>\n      <td>0.011276</td>\n    </tr>\n    <tr>\n      <th>6</th>\n      <td>0.372455</td>\n      <td>0.153272</td>\n      <td>0.241736</td>\n      <td>0.407337</td>\n      <td>-0.089135</td>\n      <td>-0.081300</td>\n      <td>-0.268509</td>\n      <td>0.172023</td>\n      <td>-0.006295</td>\n      <td>0.076823</td>\n      <td>...</td>\n      <td>0.352132</td>\n      <td>0.296114</td>\n      <td>0.055923</td>\n      <td>-0.246443</td>\n      <td>0.148543</td>\n      <td>-0.625919</td>\n      <td>-0.643657</td>\n      <td>0.310350</td>\n      <td>0.338592</td>\n      <td>-0.259842</td>\n    </tr>\n    <tr>\n      <th>7</th>\n      <td>-0.280772</td>\n      <td>0.226248</td>\n      <td>0.071996</td>\n      <td>0.186831</td>\n      <td>-0.026164</td>\n      <td>-0.031896</td>\n      <td>0.139680</td>\n      <td>-0.125537</td>\n      <td>0.099027</td>\n      <td>0.344366</td>\n      <td>...</td>\n      <td>-0.060728</td>\n      <td>-0.019992</td>\n      <td>0.011582</td>\n      <td>-0.180040</td>\n      <td>-0.096258</td>\n      <td>-0.106743</td>\n      <td>0.250441</td>\n      <td>-0.143498</td>\n      <td>-0.218418</td>\n      <td>-0.189080</td>\n    </tr>\n    <tr>\n      <th>8</th>\n      <td>-0.663884</td>\n      <td>0.396451</td>\n      <td>0.079785</td>\n      <td>0.004636</td>\n      <td>-0.542975</td>\n      <td>-0.415546</td>\n      <td>-0.326083</td>\n      <td>0.028062</td>\n      <td>0.189859</td>\n      <td>0.147484</td>\n      <td>...</td>\n      <td>-0.088276</td>\n      <td>-0.048041</td>\n      <td>0.330833</td>\n      <td>-0.004918</td>\n      <td>0.204871</td>\n      <td>-0.286883</td>\n      <td>-0.464410</td>\n      <td>0.394802</td>\n      <td>0.004047</td>\n      <td>-0.411216</td>\n    </tr>\n    <tr>\n      <th>9</th>\n      <td>0.442745</td>\n      <td>0.249657</td>\n      <td>0.461647</td>\n      <td>0.497740</td>\n      <td>-0.121210</td>\n      <td>-0.030912</td>\n      <td>-0.266550</td>\n      <td>0.105766</td>\n      <td>-0.049755</td>\n      <td>0.243383</td>\n      <td>...</td>\n      <td>0.476066</td>\n      <td>0.170916</td>\n      <td>-0.006310</td>\n      <td>-0.453460</td>\n      <td>0.104662</td>\n      <td>-0.647484</td>\n      <td>-0.503370</td>\n      <td>0.271523</td>\n      <td>0.283850</td>\n      <td>-0.321230</td>\n    </tr>\n    <tr>\n      <th>10</th>\n      <td>0.023911</td>\n      <td>-0.201451</td>\n      <td>-0.207760</td>\n      <td>0.222835</td>\n      <td>0.076453</td>\n      <td>-0.024732</td>\n      <td>-0.533641</td>\n      <td>0.437242</td>\n      <td>0.041539</td>\n      <td>0.138455</td>\n      <td>...</td>\n      <td>0.035845</td>\n      <td>0.062745</td>\n      <td>-0.039335</td>\n      <td>-0.056028</td>\n      <td>-0.141634</td>\n      <td>-0.388031</td>\n      <td>-1.145819</td>\n      <td>0.537390</td>\n      <td>0.202356</td>\n      <td>-0.490841</td>\n    </tr>\n    <tr>\n      <th>11</th>\n      <td>-0.036524</td>\n      <td>0.264838</td>\n      <td>0.072903</td>\n      <td>-0.002642</td>\n      <td>-0.113525</td>\n      <td>-0.192528</td>\n      <td>0.002355</td>\n      <td>-0.192275</td>\n      <td>0.038894</td>\n      <td>0.105247</td>\n      <td>...</td>\n      <td>0.033559</td>\n      <td>0.150927</td>\n      <td>0.105880</td>\n      <td>-0.100917</td>\n      <td>-0.023252</td>\n      <td>-0.088169</td>\n      <td>0.241998</td>\n      <td>0.037020</td>\n      <td>0.061926</td>\n      <td>-0.030578</td>\n    </tr>\n    <tr>\n      <th>12</th>\n      <td>0.441141</td>\n      <td>0.300311</td>\n      <td>0.509375</td>\n      <td>0.514130</td>\n      <td>-0.030611</td>\n      <td>0.084713</td>\n      <td>0.076115</td>\n      <td>-0.311915</td>\n      <td>0.058074</td>\n      <td>0.451514</td>\n      <td>...</td>\n      <td>0.378539</td>\n      <td>0.191974</td>\n      <td>-0.067557</td>\n      <td>-0.471894</td>\n      <td>0.035396</td>\n      <td>-0.290555</td>\n      <td>0.411320</td>\n      <td>-0.173864</td>\n      <td>0.016975</td>\n      <td>-0.016602</td>\n    </tr>\n    <tr>\n      <th>13</th>\n      <td>0.000412</td>\n      <td>0.032928</td>\n      <td>0.049852</td>\n      <td>-0.011306</td>\n      <td>-0.012956</td>\n      <td>-0.046156</td>\n      <td>0.104814</td>\n      <td>-0.130696</td>\n      <td>0.007117</td>\n      <td>0.105490</td>\n      <td>...</td>\n      <td>-0.086244</td>\n      <td>0.106962</td>\n      <td>-0.044132</td>\n      <td>-0.147867</td>\n      <td>-0.077531</td>\n      <td>-0.048792</td>\n      <td>0.146981</td>\n      <td>-0.079403</td>\n      <td>-0.011166</td>\n      <td>0.018166</td>\n    </tr>\n    <tr>\n      <th>14</th>\n      <td>0.498250</td>\n      <td>0.073595</td>\n      <td>0.330147</td>\n      <td>0.374401</td>\n      <td>-0.129319</td>\n      <td>-0.062352</td>\n      <td>-0.220948</td>\n      <td>0.067992</td>\n      <td>-0.035887</td>\n      <td>0.131835</td>\n      <td>...</td>\n      <td>0.298584</td>\n      <td>0.336114</td>\n      <td>-0.044166</td>\n      <td>-0.436397</td>\n      <td>0.067778</td>\n      <td>-0.338271</td>\n      <td>-0.199265</td>\n      <td>0.060768</td>\n      <td>0.273891</td>\n      <td>0.021410</td>\n    </tr>\n    <tr>\n      <th>15</th>\n      <td>0.084409</td>\n      <td>0.330760</td>\n      <td>0.237702</td>\n      <td>0.112186</td>\n      <td>-0.329137</td>\n      <td>-0.291310</td>\n      <td>-0.015049</td>\n      <td>-0.163955</td>\n      <td>0.033805</td>\n      <td>0.119170</td>\n      <td>...</td>\n      <td>0.229199</td>\n      <td>0.332204</td>\n      <td>0.214710</td>\n      <td>-0.222969</td>\n      <td>0.242181</td>\n      <td>-0.233652</td>\n      <td>0.268057</td>\n      <td>0.206982</td>\n      <td>0.174408</td>\n      <td>0.060298</td>\n    </tr>\n  </tbody>\n</table>\n<p>16 rows × 64 columns</p>\n</div>"
     },
     "execution_count": 32,
     "metadata": {},
     "output_type": "execute_result"
    }
   ],
   "source": [
    "# Define the output weight matrix\n",
    "Wo = nn.Linear(d_model, d_model)\n",
    "output = Wo(A) # [4, 16, 64] [batch_size, context_length, d_model]\n",
    "print(output.shape)\n",
    "pd.DataFrame(output[0].detach().cpu().numpy())"
   ],
   "metadata": {
    "collapsed": false,
    "ExecuteTime": {
     "end_time": "2024-02-09T04:33:01.895820Z",
     "start_time": "2024-02-09T04:33:01.830312Z"
    }
   },
   "id": "8f4fbfce6f7f330a",
   "execution_count": 32
  },
  {
   "cell_type": "code",
   "outputs": [],
   "source": [
    "# Add residual connection\n",
    "output = output + X"
   ],
   "metadata": {
    "collapsed": false,
    "ExecuteTime": {
     "end_time": "2024-02-09T04:34:34.038171Z",
     "start_time": "2024-02-09T04:34:34.029896Z"
    }
   },
   "id": "2835a23754fafc42",
   "execution_count": 33
  },
  {
   "cell_type": "code",
   "outputs": [],
   "source": [
    "# Add Layer Normalization\n",
    "layer_norm = nn.LayerNorm(d_model)\n",
    "output_layernorm = layer_norm(output)"
   ],
   "metadata": {
    "collapsed": false,
    "ExecuteTime": {
     "end_time": "2024-02-09T04:34:34.636527Z",
     "start_time": "2024-02-09T04:34:34.608438Z"
    }
   },
   "id": "7761664159de5538",
   "execution_count": 34
  },
  {
   "cell_type": "code",
   "outputs": [],
   "source": [
    "# Define Feed Forward Network\n",
    "# 扩展\n",
    "# Relu\n",
    "# 收缩\n",
    "output = nn.Linear(d_model, d_model * 4)(output_layernorm)\n",
    "output = nn.ReLU()(output)\n",
    "output = nn.Linear(d_model * 4, d_model)(output)\n",
    "output = torch.dropout(output, p=dropout, train=True)"
   ],
   "metadata": {
    "collapsed": false,
    "ExecuteTime": {
     "end_time": "2024-02-09T04:34:35.139721Z",
     "start_time": "2024-02-09T04:34:35.110122Z"
    }
   },
   "id": "2ce7c56ac3de91a0",
   "execution_count": 40
  },
  {
   "cell_type": "code",
   "outputs": [
    {
     "name": "stdout",
     "output_type": "stream",
     "text": [
      "torch.Size([4, 16, 64])\n"
     ]
    }
   ],
   "source": [
    "# Add residual connection & layerNorm (last time in a Transformer block)\n",
    "output = output + output_layernorm\n",
    "# Add Layer Normalization\n",
    "layer_norm = nn.LayerNorm(d_model)\n",
    "output = layer_norm(output)\n",
    "print(output.shape)"
   ],
   "metadata": {
    "collapsed": false,
    "ExecuteTime": {
     "end_time": "2024-02-09T04:35:25.104704Z",
     "start_time": "2024-02-09T04:35:25.076394Z"
    }
   },
   "id": "35cce4d92eeb74ee",
   "execution_count": 44
  },
  {
   "cell_type": "code",
   "outputs": [],
   "source": [
    "# Until here, we finished a Transformer block,\n",
    "# 这只是一个block 真正Transformers有多次循环Block\n",
    "\n",
    "# We actually should pack the above Transformer block code into a call and\n",
    "# repeat the steps for num_layers times\n",
    "# but this jupyter notebook is purely for illustration purpose, so we'll skip it:\n",
    "# for _ in range(num_layers):\n",
    "#   do loop for each transformer block"
   ],
   "metadata": {
    "collapsed": false,
    "ExecuteTime": {
     "end_time": "2024-02-09T04:35:25.618791Z",
     "start_time": "2024-02-09T04:35:25.608096Z"
    }
   },
   "id": "5a0de0adb842207e",
   "execution_count": 45
  },
  {
   "cell_type": "code",
   "execution_count": 46,
   "outputs": [
    {
     "data": {
      "text/plain": "      0         1         2         3         4         5         6       \\\n0  -0.271341 -0.665651  0.555655  0.751122  0.428481  0.343952  0.291792   \n1  -0.451516  0.301818 -0.954615 -0.154411 -0.224893  1.036211  0.662409   \n2  -1.421438  0.238842 -0.146230  0.498800  0.685048  0.164292  1.030940   \n3   0.040004  0.370197 -0.988124 -0.253688 -0.596069  0.526259 -0.622505   \n4  -0.968015  0.182286 -0.452614  0.157622 -0.448301  1.248778  0.297785   \n5  -0.383180  0.311767 -0.134690  0.713300 -0.924216  0.850934  0.095244   \n6   0.790099  0.090132 -0.071629 -0.404748 -0.570616  0.540904 -0.408270   \n7  -0.371275  0.386982 -0.629513  0.580910  0.242814 -0.660384 -0.354821   \n8  -0.478246  0.668997 -0.015115  0.497310 -0.593670  0.828148 -0.848668   \n9   0.124899 -0.061149 -0.592110 -0.129698  0.146690  0.072172 -0.553916   \n10 -0.740405  1.282935 -0.050398  0.523402  0.200016  0.495747  0.074151   \n11 -0.320051  0.392441 -0.586364 -0.300140 -0.482577  0.318231 -0.252078   \n12 -0.373196 -0.487121 -0.924133 -0.777842  1.023370  0.078459  0.424032   \n13 -0.181654 -0.096785 -0.835056  0.478720  0.107090 -0.345642 -0.336916   \n14  0.284213 -0.525630  0.229134 -1.062760 -0.461264 -0.159653 -1.187590   \n15 -0.971936 -0.089931  0.297359  0.017265  0.407782  0.295587  0.363811   \n\n      7         8         9       ...    100060    100061    100062    100063  \\\n0  -0.462851  0.920529 -0.541936  ...  0.440426 -0.115321  0.705279  0.234207   \n1   0.285657 -0.111492 -0.204154  ... -0.490137 -0.231061  1.011236 -0.667682   \n2  -0.106637  0.881313 -0.195736  ...  0.412753  0.341391  0.227449  0.066317   \n3   0.379928  0.610429 -0.510875  ...  0.137397 -0.972376  0.150781 -0.108121   \n4   0.258606  0.083124  0.291032  ...  0.444832  0.461823  0.176869 -0.378194   \n5  -0.631499  0.031517  0.114225  ... -0.742207 -0.562995  0.561332 -1.068173   \n6   0.071845 -1.075959 -0.318294  ... -0.629057  0.140053 -0.153314  0.063926   \n7   1.030257  0.597469  0.755395  ... -0.333432  0.158882  0.219124  0.849916   \n8  -0.379666 -0.477059 -0.355724  ...  0.725008 -0.754231  0.333854  0.062175   \n9  -0.112682  0.240458 -1.060465  ...  1.012543  0.776316 -0.353443  0.593838   \n10 -0.319127 -0.574764 -0.301736  ...  0.687577 -0.729444  0.232582  0.804398   \n11  0.183239  0.006843 -0.209220  ...  0.338881  0.114678 -0.806915  0.183441   \n12  0.542625  0.005677 -0.580907  ...  0.770099  0.156994  0.265374  0.144107   \n13  0.296517 -0.062530  0.234743  ...  0.223232 -0.144008 -0.212675  1.138473   \n14 -0.049697 -0.710069 -0.541998  ...  0.172658 -0.059103 -0.843333 -0.760604   \n15 -0.273834  0.672033 -0.560184  ...  0.657136  0.210614 -0.039897  0.306299   \n\n      100064    100065    100066    100067    100068    100069  \n0  -0.370006  0.419876  0.690633 -0.448361  0.149523  0.081283  \n1   0.363966 -0.261142 -0.903152  0.085444 -0.863552 -0.452057  \n2  -0.176936 -0.537784 -0.099183 -0.495768  0.342679  0.457300  \n3  -0.121959 -0.355384 -0.678154 -0.491937 -0.595723  0.468433  \n4   1.447979  0.033490  0.173102  0.016784 -0.293797  0.597699  \n5   1.320460 -0.143849  0.057010  0.823357 -0.368982 -0.304534  \n6  -0.160519 -0.861309 -0.055360 -0.261961 -0.660986 -0.119845  \n7   0.320014  0.424316 -0.406919  0.557709 -0.441013  0.179806  \n8   0.568252  0.417724 -0.407502 -0.294843 -0.572325  0.390218  \n9  -0.556906  0.143216  0.754400  0.093462  0.549536  0.899232  \n10  0.182713  0.537956 -0.250501  0.040311 -0.222140  1.300938  \n11  0.036684 -0.223664 -0.435229 -0.097909  0.680124  1.183147  \n12 -0.110582 -0.819288 -0.615409 -0.163601 -0.596537 -1.175703  \n13 -0.059040 -0.475102  0.081881 -0.014851  0.089390  0.169695  \n14 -0.866323 -0.806832 -0.224611  0.553819 -0.423743 -0.363075  \n15 -0.405961 -0.336231  0.176661 -0.551233  0.220690  0.047848  \n\n[16 rows x 100070 columns]",
      "text/html": "<div>\n<style scoped>\n    .dataframe tbody tr th:only-of-type {\n        vertical-align: middle;\n    }\n\n    .dataframe tbody tr th {\n        vertical-align: top;\n    }\n\n    .dataframe thead th {\n        text-align: right;\n    }\n</style>\n<table border=\"1\" class=\"dataframe\">\n  <thead>\n    <tr style=\"text-align: right;\">\n      <th></th>\n      <th>0</th>\n      <th>1</th>\n      <th>2</th>\n      <th>3</th>\n      <th>4</th>\n      <th>5</th>\n      <th>6</th>\n      <th>7</th>\n      <th>8</th>\n      <th>9</th>\n      <th>...</th>\n      <th>100060</th>\n      <th>100061</th>\n      <th>100062</th>\n      <th>100063</th>\n      <th>100064</th>\n      <th>100065</th>\n      <th>100066</th>\n      <th>100067</th>\n      <th>100068</th>\n      <th>100069</th>\n    </tr>\n  </thead>\n  <tbody>\n    <tr>\n      <th>0</th>\n      <td>-0.271341</td>\n      <td>-0.665651</td>\n      <td>0.555655</td>\n      <td>0.751122</td>\n      <td>0.428481</td>\n      <td>0.343952</td>\n      <td>0.291792</td>\n      <td>-0.462851</td>\n      <td>0.920529</td>\n      <td>-0.541936</td>\n      <td>...</td>\n      <td>0.440426</td>\n      <td>-0.115321</td>\n      <td>0.705279</td>\n      <td>0.234207</td>\n      <td>-0.370006</td>\n      <td>0.419876</td>\n      <td>0.690633</td>\n      <td>-0.448361</td>\n      <td>0.149523</td>\n      <td>0.081283</td>\n    </tr>\n    <tr>\n      <th>1</th>\n      <td>-0.451516</td>\n      <td>0.301818</td>\n      <td>-0.954615</td>\n      <td>-0.154411</td>\n      <td>-0.224893</td>\n      <td>1.036211</td>\n      <td>0.662409</td>\n      <td>0.285657</td>\n      <td>-0.111492</td>\n      <td>-0.204154</td>\n      <td>...</td>\n      <td>-0.490137</td>\n      <td>-0.231061</td>\n      <td>1.011236</td>\n      <td>-0.667682</td>\n      <td>0.363966</td>\n      <td>-0.261142</td>\n      <td>-0.903152</td>\n      <td>0.085444</td>\n      <td>-0.863552</td>\n      <td>-0.452057</td>\n    </tr>\n    <tr>\n      <th>2</th>\n      <td>-1.421438</td>\n      <td>0.238842</td>\n      <td>-0.146230</td>\n      <td>0.498800</td>\n      <td>0.685048</td>\n      <td>0.164292</td>\n      <td>1.030940</td>\n      <td>-0.106637</td>\n      <td>0.881313</td>\n      <td>-0.195736</td>\n      <td>...</td>\n      <td>0.412753</td>\n      <td>0.341391</td>\n      <td>0.227449</td>\n      <td>0.066317</td>\n      <td>-0.176936</td>\n      <td>-0.537784</td>\n      <td>-0.099183</td>\n      <td>-0.495768</td>\n      <td>0.342679</td>\n      <td>0.457300</td>\n    </tr>\n    <tr>\n      <th>3</th>\n      <td>0.040004</td>\n      <td>0.370197</td>\n      <td>-0.988124</td>\n      <td>-0.253688</td>\n      <td>-0.596069</td>\n      <td>0.526259</td>\n      <td>-0.622505</td>\n      <td>0.379928</td>\n      <td>0.610429</td>\n      <td>-0.510875</td>\n      <td>...</td>\n      <td>0.137397</td>\n      <td>-0.972376</td>\n      <td>0.150781</td>\n      <td>-0.108121</td>\n      <td>-0.121959</td>\n      <td>-0.355384</td>\n      <td>-0.678154</td>\n      <td>-0.491937</td>\n      <td>-0.595723</td>\n      <td>0.468433</td>\n    </tr>\n    <tr>\n      <th>4</th>\n      <td>-0.968015</td>\n      <td>0.182286</td>\n      <td>-0.452614</td>\n      <td>0.157622</td>\n      <td>-0.448301</td>\n      <td>1.248778</td>\n      <td>0.297785</td>\n      <td>0.258606</td>\n      <td>0.083124</td>\n      <td>0.291032</td>\n      <td>...</td>\n      <td>0.444832</td>\n      <td>0.461823</td>\n      <td>0.176869</td>\n      <td>-0.378194</td>\n      <td>1.447979</td>\n      <td>0.033490</td>\n      <td>0.173102</td>\n      <td>0.016784</td>\n      <td>-0.293797</td>\n      <td>0.597699</td>\n    </tr>\n    <tr>\n      <th>5</th>\n      <td>-0.383180</td>\n      <td>0.311767</td>\n      <td>-0.134690</td>\n      <td>0.713300</td>\n      <td>-0.924216</td>\n      <td>0.850934</td>\n      <td>0.095244</td>\n      <td>-0.631499</td>\n      <td>0.031517</td>\n      <td>0.114225</td>\n      <td>...</td>\n      <td>-0.742207</td>\n      <td>-0.562995</td>\n      <td>0.561332</td>\n      <td>-1.068173</td>\n      <td>1.320460</td>\n      <td>-0.143849</td>\n      <td>0.057010</td>\n      <td>0.823357</td>\n      <td>-0.368982</td>\n      <td>-0.304534</td>\n    </tr>\n    <tr>\n      <th>6</th>\n      <td>0.790099</td>\n      <td>0.090132</td>\n      <td>-0.071629</td>\n      <td>-0.404748</td>\n      <td>-0.570616</td>\n      <td>0.540904</td>\n      <td>-0.408270</td>\n      <td>0.071845</td>\n      <td>-1.075959</td>\n      <td>-0.318294</td>\n      <td>...</td>\n      <td>-0.629057</td>\n      <td>0.140053</td>\n      <td>-0.153314</td>\n      <td>0.063926</td>\n      <td>-0.160519</td>\n      <td>-0.861309</td>\n      <td>-0.055360</td>\n      <td>-0.261961</td>\n      <td>-0.660986</td>\n      <td>-0.119845</td>\n    </tr>\n    <tr>\n      <th>7</th>\n      <td>-0.371275</td>\n      <td>0.386982</td>\n      <td>-0.629513</td>\n      <td>0.580910</td>\n      <td>0.242814</td>\n      <td>-0.660384</td>\n      <td>-0.354821</td>\n      <td>1.030257</td>\n      <td>0.597469</td>\n      <td>0.755395</td>\n      <td>...</td>\n      <td>-0.333432</td>\n      <td>0.158882</td>\n      <td>0.219124</td>\n      <td>0.849916</td>\n      <td>0.320014</td>\n      <td>0.424316</td>\n      <td>-0.406919</td>\n      <td>0.557709</td>\n      <td>-0.441013</td>\n      <td>0.179806</td>\n    </tr>\n    <tr>\n      <th>8</th>\n      <td>-0.478246</td>\n      <td>0.668997</td>\n      <td>-0.015115</td>\n      <td>0.497310</td>\n      <td>-0.593670</td>\n      <td>0.828148</td>\n      <td>-0.848668</td>\n      <td>-0.379666</td>\n      <td>-0.477059</td>\n      <td>-0.355724</td>\n      <td>...</td>\n      <td>0.725008</td>\n      <td>-0.754231</td>\n      <td>0.333854</td>\n      <td>0.062175</td>\n      <td>0.568252</td>\n      <td>0.417724</td>\n      <td>-0.407502</td>\n      <td>-0.294843</td>\n      <td>-0.572325</td>\n      <td>0.390218</td>\n    </tr>\n    <tr>\n      <th>9</th>\n      <td>0.124899</td>\n      <td>-0.061149</td>\n      <td>-0.592110</td>\n      <td>-0.129698</td>\n      <td>0.146690</td>\n      <td>0.072172</td>\n      <td>-0.553916</td>\n      <td>-0.112682</td>\n      <td>0.240458</td>\n      <td>-1.060465</td>\n      <td>...</td>\n      <td>1.012543</td>\n      <td>0.776316</td>\n      <td>-0.353443</td>\n      <td>0.593838</td>\n      <td>-0.556906</td>\n      <td>0.143216</td>\n      <td>0.754400</td>\n      <td>0.093462</td>\n      <td>0.549536</td>\n      <td>0.899232</td>\n    </tr>\n    <tr>\n      <th>10</th>\n      <td>-0.740405</td>\n      <td>1.282935</td>\n      <td>-0.050398</td>\n      <td>0.523402</td>\n      <td>0.200016</td>\n      <td>0.495747</td>\n      <td>0.074151</td>\n      <td>-0.319127</td>\n      <td>-0.574764</td>\n      <td>-0.301736</td>\n      <td>...</td>\n      <td>0.687577</td>\n      <td>-0.729444</td>\n      <td>0.232582</td>\n      <td>0.804398</td>\n      <td>0.182713</td>\n      <td>0.537956</td>\n      <td>-0.250501</td>\n      <td>0.040311</td>\n      <td>-0.222140</td>\n      <td>1.300938</td>\n    </tr>\n    <tr>\n      <th>11</th>\n      <td>-0.320051</td>\n      <td>0.392441</td>\n      <td>-0.586364</td>\n      <td>-0.300140</td>\n      <td>-0.482577</td>\n      <td>0.318231</td>\n      <td>-0.252078</td>\n      <td>0.183239</td>\n      <td>0.006843</td>\n      <td>-0.209220</td>\n      <td>...</td>\n      <td>0.338881</td>\n      <td>0.114678</td>\n      <td>-0.806915</td>\n      <td>0.183441</td>\n      <td>0.036684</td>\n      <td>-0.223664</td>\n      <td>-0.435229</td>\n      <td>-0.097909</td>\n      <td>0.680124</td>\n      <td>1.183147</td>\n    </tr>\n    <tr>\n      <th>12</th>\n      <td>-0.373196</td>\n      <td>-0.487121</td>\n      <td>-0.924133</td>\n      <td>-0.777842</td>\n      <td>1.023370</td>\n      <td>0.078459</td>\n      <td>0.424032</td>\n      <td>0.542625</td>\n      <td>0.005677</td>\n      <td>-0.580907</td>\n      <td>...</td>\n      <td>0.770099</td>\n      <td>0.156994</td>\n      <td>0.265374</td>\n      <td>0.144107</td>\n      <td>-0.110582</td>\n      <td>-0.819288</td>\n      <td>-0.615409</td>\n      <td>-0.163601</td>\n      <td>-0.596537</td>\n      <td>-1.175703</td>\n    </tr>\n    <tr>\n      <th>13</th>\n      <td>-0.181654</td>\n      <td>-0.096785</td>\n      <td>-0.835056</td>\n      <td>0.478720</td>\n      <td>0.107090</td>\n      <td>-0.345642</td>\n      <td>-0.336916</td>\n      <td>0.296517</td>\n      <td>-0.062530</td>\n      <td>0.234743</td>\n      <td>...</td>\n      <td>0.223232</td>\n      <td>-0.144008</td>\n      <td>-0.212675</td>\n      <td>1.138473</td>\n      <td>-0.059040</td>\n      <td>-0.475102</td>\n      <td>0.081881</td>\n      <td>-0.014851</td>\n      <td>0.089390</td>\n      <td>0.169695</td>\n    </tr>\n    <tr>\n      <th>14</th>\n      <td>0.284213</td>\n      <td>-0.525630</td>\n      <td>0.229134</td>\n      <td>-1.062760</td>\n      <td>-0.461264</td>\n      <td>-0.159653</td>\n      <td>-1.187590</td>\n      <td>-0.049697</td>\n      <td>-0.710069</td>\n      <td>-0.541998</td>\n      <td>...</td>\n      <td>0.172658</td>\n      <td>-0.059103</td>\n      <td>-0.843333</td>\n      <td>-0.760604</td>\n      <td>-0.866323</td>\n      <td>-0.806832</td>\n      <td>-0.224611</td>\n      <td>0.553819</td>\n      <td>-0.423743</td>\n      <td>-0.363075</td>\n    </tr>\n    <tr>\n      <th>15</th>\n      <td>-0.971936</td>\n      <td>-0.089931</td>\n      <td>0.297359</td>\n      <td>0.017265</td>\n      <td>0.407782</td>\n      <td>0.295587</td>\n      <td>0.363811</td>\n      <td>-0.273834</td>\n      <td>0.672033</td>\n      <td>-0.560184</td>\n      <td>...</td>\n      <td>0.657136</td>\n      <td>0.210614</td>\n      <td>-0.039897</td>\n      <td>0.306299</td>\n      <td>-0.405961</td>\n      <td>-0.336231</td>\n      <td>0.176661</td>\n      <td>-0.551233</td>\n      <td>0.220690</td>\n      <td>0.047848</td>\n    </tr>\n  </tbody>\n</table>\n<p>16 rows × 100070 columns</p>\n</div>"
     },
     "execution_count": 46,
     "metadata": {},
     "output_type": "execute_result"
    }
   ],
   "source": [
    "# Apply the final linear layer to get the logits\n",
    "\n",
    "logits = nn.Linear(d_model, max_token_value+1)(output)\n",
    "pd.DataFrame(logits[0].detach().cpu().numpy())"
   ],
   "metadata": {
    "collapsed": false
   }
  },
  {
   "cell_type": "code",
   "outputs": [
    {
     "data": {
      "text/plain": "      0         1         2         3         4         5         6       \\\n0   0.000006  0.000004  0.000015  0.000018  0.000013  0.000012  0.000011   \n1   0.000005  0.000011  0.000003  0.000007  0.000007  0.000024  0.000016   \n2   0.000002  0.000011  0.000007  0.000014  0.000017  0.000010  0.000024   \n3   0.000009  0.000012  0.000003  0.000007  0.000005  0.000014  0.000005   \n4   0.000003  0.000010  0.000005  0.000010  0.000005  0.000029  0.000011   \n5   0.000006  0.000012  0.000007  0.000017  0.000003  0.000020  0.000009   \n6   0.000019  0.000009  0.000008  0.000006  0.000005  0.000015  0.000006   \n7   0.000006  0.000012  0.000004  0.000015  0.000011  0.000004  0.000006   \n8   0.000005  0.000016  0.000008  0.000014  0.000005  0.000019  0.000004   \n9   0.000010  0.000008  0.000005  0.000007  0.000010  0.000009  0.000005   \n10  0.000004  0.000030  0.000008  0.000014  0.000010  0.000014  0.000009   \n11  0.000006  0.000012  0.000005  0.000006  0.000005  0.000012  0.000007   \n12  0.000006  0.000005  0.000003  0.000004  0.000024  0.000009  0.000013   \n13  0.000007  0.000008  0.000004  0.000014  0.000009  0.000006  0.000006   \n14  0.000011  0.000005  0.000011  0.000003  0.000005  0.000007  0.000003   \n15  0.000003  0.000008  0.000011  0.000009  0.000013  0.000011  0.000012   \n\n      7         8         9       ...    100060    100061    100062    100063  \\\n0   0.000005  0.000021  0.000005  ...  0.000013  0.000008  0.000017  0.000011   \n1   0.000011  0.000008  0.000007  ...  0.000005  0.000007  0.000023  0.000004   \n2   0.000008  0.000020  0.000007  ...  0.000013  0.000012  0.000011  0.000009   \n3   0.000012  0.000016  0.000005  ...  0.000010  0.000003  0.000010  0.000008   \n4   0.000011  0.000009  0.000011  ...  0.000013  0.000013  0.000010  0.000006   \n5   0.000004  0.000009  0.000009  ...  0.000004  0.000005  0.000015  0.000003   \n6   0.000009  0.000003  0.000006  ...  0.000005  0.000010  0.000007  0.000009   \n7   0.000024  0.000015  0.000018  ...  0.000006  0.000010  0.000010  0.000020   \n8   0.000006  0.000005  0.000006  ...  0.000017  0.000004  0.000012  0.000009   \n9   0.000008  0.000011  0.000003  ...  0.000023  0.000018  0.000006  0.000015   \n10  0.000006  0.000005  0.000006  ...  0.000017  0.000004  0.000011  0.000019   \n11  0.000010  0.000008  0.000007  ...  0.000012  0.000009  0.000004  0.000010   \n12  0.000015  0.000008  0.000005  ...  0.000018  0.000010  0.000011  0.000010   \n13  0.000011  0.000008  0.000011  ...  0.000011  0.000007  0.000007  0.000026   \n14  0.000008  0.000004  0.000005  ...  0.000010  0.000008  0.000004  0.000004   \n15  0.000006  0.000017  0.000005  ...  0.000016  0.000010  0.000008  0.000011   \n\n      100064    100065    100066    100067    100068    100069  \n0   0.000006  0.000013  0.000017  0.000005  0.000010  0.000009  \n1   0.000012  0.000006  0.000003  0.000009  0.000004  0.000005  \n2   0.000007  0.000005  0.000008  0.000005  0.000012  0.000013  \n3   0.000007  0.000006  0.000004  0.000005  0.000005  0.000013  \n4   0.000036  0.000009  0.000010  0.000009  0.000006  0.000015  \n5   0.000032  0.000007  0.000009  0.000019  0.000006  0.000006  \n6   0.000007  0.000004  0.000008  0.000006  0.000004  0.000007  \n7   0.000012  0.000013  0.000006  0.000015  0.000005  0.000010  \n8   0.000015  0.000013  0.000006  0.000006  0.000005  0.000012  \n9   0.000005  0.000010  0.000018  0.000009  0.000015  0.000021  \n10  0.000010  0.000014  0.000007  0.000009  0.000007  0.000031  \n11  0.000009  0.000007  0.000005  0.000008  0.000017  0.000028  \n12  0.000008  0.000004  0.000005  0.000007  0.000005  0.000003  \n13  0.000008  0.000005  0.000009  0.000008  0.000009  0.000010  \n14  0.000004  0.000004  0.000007  0.000015  0.000006  0.000006  \n15  0.000006  0.000006  0.000010  0.000005  0.000011  0.000009  \n\n[16 rows x 100070 columns]",
      "text/html": "<div>\n<style scoped>\n    .dataframe tbody tr th:only-of-type {\n        vertical-align: middle;\n    }\n\n    .dataframe tbody tr th {\n        vertical-align: top;\n    }\n\n    .dataframe thead th {\n        text-align: right;\n    }\n</style>\n<table border=\"1\" class=\"dataframe\">\n  <thead>\n    <tr style=\"text-align: right;\">\n      <th></th>\n      <th>0</th>\n      <th>1</th>\n      <th>2</th>\n      <th>3</th>\n      <th>4</th>\n      <th>5</th>\n      <th>6</th>\n      <th>7</th>\n      <th>8</th>\n      <th>9</th>\n      <th>...</th>\n      <th>100060</th>\n      <th>100061</th>\n      <th>100062</th>\n      <th>100063</th>\n      <th>100064</th>\n      <th>100065</th>\n      <th>100066</th>\n      <th>100067</th>\n      <th>100068</th>\n      <th>100069</th>\n    </tr>\n  </thead>\n  <tbody>\n    <tr>\n      <th>0</th>\n      <td>0.000006</td>\n      <td>0.000004</td>\n      <td>0.000015</td>\n      <td>0.000018</td>\n      <td>0.000013</td>\n      <td>0.000012</td>\n      <td>0.000011</td>\n      <td>0.000005</td>\n      <td>0.000021</td>\n      <td>0.000005</td>\n      <td>...</td>\n      <td>0.000013</td>\n      <td>0.000008</td>\n      <td>0.000017</td>\n      <td>0.000011</td>\n      <td>0.000006</td>\n      <td>0.000013</td>\n      <td>0.000017</td>\n      <td>0.000005</td>\n      <td>0.000010</td>\n      <td>0.000009</td>\n    </tr>\n    <tr>\n      <th>1</th>\n      <td>0.000005</td>\n      <td>0.000011</td>\n      <td>0.000003</td>\n      <td>0.000007</td>\n      <td>0.000007</td>\n      <td>0.000024</td>\n      <td>0.000016</td>\n      <td>0.000011</td>\n      <td>0.000008</td>\n      <td>0.000007</td>\n      <td>...</td>\n      <td>0.000005</td>\n      <td>0.000007</td>\n      <td>0.000023</td>\n      <td>0.000004</td>\n      <td>0.000012</td>\n      <td>0.000006</td>\n      <td>0.000003</td>\n      <td>0.000009</td>\n      <td>0.000004</td>\n      <td>0.000005</td>\n    </tr>\n    <tr>\n      <th>2</th>\n      <td>0.000002</td>\n      <td>0.000011</td>\n      <td>0.000007</td>\n      <td>0.000014</td>\n      <td>0.000017</td>\n      <td>0.000010</td>\n      <td>0.000024</td>\n      <td>0.000008</td>\n      <td>0.000020</td>\n      <td>0.000007</td>\n      <td>...</td>\n      <td>0.000013</td>\n      <td>0.000012</td>\n      <td>0.000011</td>\n      <td>0.000009</td>\n      <td>0.000007</td>\n      <td>0.000005</td>\n      <td>0.000008</td>\n      <td>0.000005</td>\n      <td>0.000012</td>\n      <td>0.000013</td>\n    </tr>\n    <tr>\n      <th>3</th>\n      <td>0.000009</td>\n      <td>0.000012</td>\n      <td>0.000003</td>\n      <td>0.000007</td>\n      <td>0.000005</td>\n      <td>0.000014</td>\n      <td>0.000005</td>\n      <td>0.000012</td>\n      <td>0.000016</td>\n      <td>0.000005</td>\n      <td>...</td>\n      <td>0.000010</td>\n      <td>0.000003</td>\n      <td>0.000010</td>\n      <td>0.000008</td>\n      <td>0.000007</td>\n      <td>0.000006</td>\n      <td>0.000004</td>\n      <td>0.000005</td>\n      <td>0.000005</td>\n      <td>0.000013</td>\n    </tr>\n    <tr>\n      <th>4</th>\n      <td>0.000003</td>\n      <td>0.000010</td>\n      <td>0.000005</td>\n      <td>0.000010</td>\n      <td>0.000005</td>\n      <td>0.000029</td>\n      <td>0.000011</td>\n      <td>0.000011</td>\n      <td>0.000009</td>\n      <td>0.000011</td>\n      <td>...</td>\n      <td>0.000013</td>\n      <td>0.000013</td>\n      <td>0.000010</td>\n      <td>0.000006</td>\n      <td>0.000036</td>\n      <td>0.000009</td>\n      <td>0.000010</td>\n      <td>0.000009</td>\n      <td>0.000006</td>\n      <td>0.000015</td>\n    </tr>\n    <tr>\n      <th>5</th>\n      <td>0.000006</td>\n      <td>0.000012</td>\n      <td>0.000007</td>\n      <td>0.000017</td>\n      <td>0.000003</td>\n      <td>0.000020</td>\n      <td>0.000009</td>\n      <td>0.000004</td>\n      <td>0.000009</td>\n      <td>0.000009</td>\n      <td>...</td>\n      <td>0.000004</td>\n      <td>0.000005</td>\n      <td>0.000015</td>\n      <td>0.000003</td>\n      <td>0.000032</td>\n      <td>0.000007</td>\n      <td>0.000009</td>\n      <td>0.000019</td>\n      <td>0.000006</td>\n      <td>0.000006</td>\n    </tr>\n    <tr>\n      <th>6</th>\n      <td>0.000019</td>\n      <td>0.000009</td>\n      <td>0.000008</td>\n      <td>0.000006</td>\n      <td>0.000005</td>\n      <td>0.000015</td>\n      <td>0.000006</td>\n      <td>0.000009</td>\n      <td>0.000003</td>\n      <td>0.000006</td>\n      <td>...</td>\n      <td>0.000005</td>\n      <td>0.000010</td>\n      <td>0.000007</td>\n      <td>0.000009</td>\n      <td>0.000007</td>\n      <td>0.000004</td>\n      <td>0.000008</td>\n      <td>0.000006</td>\n      <td>0.000004</td>\n      <td>0.000007</td>\n    </tr>\n    <tr>\n      <th>7</th>\n      <td>0.000006</td>\n      <td>0.000012</td>\n      <td>0.000004</td>\n      <td>0.000015</td>\n      <td>0.000011</td>\n      <td>0.000004</td>\n      <td>0.000006</td>\n      <td>0.000024</td>\n      <td>0.000015</td>\n      <td>0.000018</td>\n      <td>...</td>\n      <td>0.000006</td>\n      <td>0.000010</td>\n      <td>0.000010</td>\n      <td>0.000020</td>\n      <td>0.000012</td>\n      <td>0.000013</td>\n      <td>0.000006</td>\n      <td>0.000015</td>\n      <td>0.000005</td>\n      <td>0.000010</td>\n    </tr>\n    <tr>\n      <th>8</th>\n      <td>0.000005</td>\n      <td>0.000016</td>\n      <td>0.000008</td>\n      <td>0.000014</td>\n      <td>0.000005</td>\n      <td>0.000019</td>\n      <td>0.000004</td>\n      <td>0.000006</td>\n      <td>0.000005</td>\n      <td>0.000006</td>\n      <td>...</td>\n      <td>0.000017</td>\n      <td>0.000004</td>\n      <td>0.000012</td>\n      <td>0.000009</td>\n      <td>0.000015</td>\n      <td>0.000013</td>\n      <td>0.000006</td>\n      <td>0.000006</td>\n      <td>0.000005</td>\n      <td>0.000012</td>\n    </tr>\n    <tr>\n      <th>9</th>\n      <td>0.000010</td>\n      <td>0.000008</td>\n      <td>0.000005</td>\n      <td>0.000007</td>\n      <td>0.000010</td>\n      <td>0.000009</td>\n      <td>0.000005</td>\n      <td>0.000008</td>\n      <td>0.000011</td>\n      <td>0.000003</td>\n      <td>...</td>\n      <td>0.000023</td>\n      <td>0.000018</td>\n      <td>0.000006</td>\n      <td>0.000015</td>\n      <td>0.000005</td>\n      <td>0.000010</td>\n      <td>0.000018</td>\n      <td>0.000009</td>\n      <td>0.000015</td>\n      <td>0.000021</td>\n    </tr>\n    <tr>\n      <th>10</th>\n      <td>0.000004</td>\n      <td>0.000030</td>\n      <td>0.000008</td>\n      <td>0.000014</td>\n      <td>0.000010</td>\n      <td>0.000014</td>\n      <td>0.000009</td>\n      <td>0.000006</td>\n      <td>0.000005</td>\n      <td>0.000006</td>\n      <td>...</td>\n      <td>0.000017</td>\n      <td>0.000004</td>\n      <td>0.000011</td>\n      <td>0.000019</td>\n      <td>0.000010</td>\n      <td>0.000014</td>\n      <td>0.000007</td>\n      <td>0.000009</td>\n      <td>0.000007</td>\n      <td>0.000031</td>\n    </tr>\n    <tr>\n      <th>11</th>\n      <td>0.000006</td>\n      <td>0.000012</td>\n      <td>0.000005</td>\n      <td>0.000006</td>\n      <td>0.000005</td>\n      <td>0.000012</td>\n      <td>0.000007</td>\n      <td>0.000010</td>\n      <td>0.000008</td>\n      <td>0.000007</td>\n      <td>...</td>\n      <td>0.000012</td>\n      <td>0.000009</td>\n      <td>0.000004</td>\n      <td>0.000010</td>\n      <td>0.000009</td>\n      <td>0.000007</td>\n      <td>0.000005</td>\n      <td>0.000008</td>\n      <td>0.000017</td>\n      <td>0.000028</td>\n    </tr>\n    <tr>\n      <th>12</th>\n      <td>0.000006</td>\n      <td>0.000005</td>\n      <td>0.000003</td>\n      <td>0.000004</td>\n      <td>0.000024</td>\n      <td>0.000009</td>\n      <td>0.000013</td>\n      <td>0.000015</td>\n      <td>0.000008</td>\n      <td>0.000005</td>\n      <td>...</td>\n      <td>0.000018</td>\n      <td>0.000010</td>\n      <td>0.000011</td>\n      <td>0.000010</td>\n      <td>0.000008</td>\n      <td>0.000004</td>\n      <td>0.000005</td>\n      <td>0.000007</td>\n      <td>0.000005</td>\n      <td>0.000003</td>\n    </tr>\n    <tr>\n      <th>13</th>\n      <td>0.000007</td>\n      <td>0.000008</td>\n      <td>0.000004</td>\n      <td>0.000014</td>\n      <td>0.000009</td>\n      <td>0.000006</td>\n      <td>0.000006</td>\n      <td>0.000011</td>\n      <td>0.000008</td>\n      <td>0.000011</td>\n      <td>...</td>\n      <td>0.000011</td>\n      <td>0.000007</td>\n      <td>0.000007</td>\n      <td>0.000026</td>\n      <td>0.000008</td>\n      <td>0.000005</td>\n      <td>0.000009</td>\n      <td>0.000008</td>\n      <td>0.000009</td>\n      <td>0.000010</td>\n    </tr>\n    <tr>\n      <th>14</th>\n      <td>0.000011</td>\n      <td>0.000005</td>\n      <td>0.000011</td>\n      <td>0.000003</td>\n      <td>0.000005</td>\n      <td>0.000007</td>\n      <td>0.000003</td>\n      <td>0.000008</td>\n      <td>0.000004</td>\n      <td>0.000005</td>\n      <td>...</td>\n      <td>0.000010</td>\n      <td>0.000008</td>\n      <td>0.000004</td>\n      <td>0.000004</td>\n      <td>0.000004</td>\n      <td>0.000004</td>\n      <td>0.000007</td>\n      <td>0.000015</td>\n      <td>0.000006</td>\n      <td>0.000006</td>\n    </tr>\n    <tr>\n      <th>15</th>\n      <td>0.000003</td>\n      <td>0.000008</td>\n      <td>0.000011</td>\n      <td>0.000009</td>\n      <td>0.000013</td>\n      <td>0.000011</td>\n      <td>0.000012</td>\n      <td>0.000006</td>\n      <td>0.000017</td>\n      <td>0.000005</td>\n      <td>...</td>\n      <td>0.000016</td>\n      <td>0.000010</td>\n      <td>0.000008</td>\n      <td>0.000011</td>\n      <td>0.000006</td>\n      <td>0.000006</td>\n      <td>0.000010</td>\n      <td>0.000005</td>\n      <td>0.000011</td>\n      <td>0.000009</td>\n    </tr>\n  </tbody>\n</table>\n<p>16 rows × 100070 columns</p>\n</div>"
     },
     "execution_count": 47,
     "metadata": {},
     "output_type": "execute_result"
    }
   ],
   "source": [
    "# Get the probabilities \n",
    "# torch.softmax usually used during inference, during training we use torch.nn.CrossEntropyLoss\n",
    "# but for illustration purpose, we'll use torch.softmax here\n",
    "probabilities = torch.softmax(logits, dim=-1)\n",
    "pd.DataFrame(probabilities[0].detach().cpu().numpy())\n"
   ],
   "metadata": {
    "collapsed": false,
    "ExecuteTime": {
     "end_time": "2024-02-09T04:35:46.352818Z",
     "start_time": "2024-02-09T04:35:46.256747Z"
    }
   },
   "id": "3a857abd1cceecb4",
   "execution_count": 47
  },
  {
   "cell_type": "code",
   "outputs": [
    {
     "data": {
      "text/plain": "' rapp'"
     },
     "execution_count": 48,
     "metadata": {},
     "output_type": "execute_result"
    }
   ],
   "source": [
    "# Let's see the predicted token and it's original English word\n",
    "# logits[0,0]: 取第一个batch的第一个位置的预测向量（包含词表大小个数的分数）\n",
    "# torch.argmax(): 找出分数最高的位置（即最可能的token的索引）\n",
    "# .item(): 将tensor转换为Python的标量数值\n",
    "\n",
    "predicted_index = torch.argmax(logits[0,0]).item()\n",
    "# 将预测出的token索引转换回实际的文本\n",
    "encoding.decode([predicted_index])"
   ],
   "metadata": {
    "collapsed": false,
    "ExecuteTime": {
     "end_time": "2024-02-09T04:36:08.064535Z",
     "start_time": "2024-02-09T04:36:08.045119Z"
    }
   },
   "id": "5de9e0455613f790",
   "execution_count": 48
  },
  {
   "cell_type": "code",
   "outputs": [
    {
     "data": {
      "text/plain": "' mutual benefits and desired outcomes, the salesperson can create a sense of collaboration and'"
     },
     "execution_count": 49,
     "metadata": {},
     "output_type": "execute_result"
    }
   ],
   "source": [
    "# Let's see the original input sentence\n",
    "# encoding.decode(x_batch[0].tolist())\n",
    "# x_batch[0]: 取第一个batch的输入序列\n",
    "# .tolist(): 将tensor转换为Python列表\n",
    "# encoding.decode(): 将token索引序列转换回原始文本\n",
    "encoding.decode(x_batch[0].tolist())"
   ],
   "metadata": {
    "collapsed": false,
    "ExecuteTime": {
     "end_time": "2024-02-09T04:39:04.969636Z",
     "start_time": "2024-02-09T04:39:04.925038Z"
    }
   },
   "id": "329ff8f3529b7309",
   "execution_count": 49
  },
  {
   "cell_type": "code",
   "outputs": [],
   "source": [
    "# Looks like the predicted token \"Catholics\" is not the correct prediction token to the original sentence, because we only did one training loop and barely trained nothing.\n",
    "# But this is the basic idea of how the Transformer works.\n",
    "# We'll continue to train the model in the next notebook and wrap the above code into a class.\n",
    "# https://waylandzhang.github.io/en/let-s-code-llm.html"
   ],
   "metadata": {
    "collapsed": false
   },
   "id": "111989a98903f4dd"
  }
 ],
 "metadata": {
  "kernelspec": {
   "display_name": "Python 3",
   "language": "python",
   "name": "python3"
  },
  "language_info": {
   "codemirror_mode": {
    "name": "ipython",
    "version": 2
   },
   "file_extension": ".py",
   "mimetype": "text/x-python",
   "name": "python",
   "nbconvert_exporter": "python",
   "pygments_lexer": "ipython2",
   "version": "2.7.6"
  }
 },
 "nbformat": 4,
 "nbformat_minor": 5
}
